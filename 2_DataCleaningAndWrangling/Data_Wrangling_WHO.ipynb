{
 "cells": [
  {
   "cell_type": "markdown",
   "metadata": {
    "slideshow": {
     "slide_type": "slide"
    }
   },
   "source": [
    "<a href=\"https://pandas.pydata.org/\">\n",
    "<img src=\"https://upload.wikimedia.org/wikipedia/commons/thumb/e/ed/Pandas_logo.svg/2560px-Pandas_logo.svg.png\" width=\"300px\">\n",
    "</a>\n",
    "\n",
    "\n",
    "# Pandas and Data Wrangling\n",
    "\n",
    "\n",
    "\n",
    "## Objectives\n",
    "You could go through this notebook while we present the lecture on Pandas and Data wrangling for having a hands - on experience, while you've been taught. You can also run it at your own leisure. \n",
    "We intend to make you familiar with Data Frames and how to use Pandas clean them, analyse them and visualise them.\n",
    "\n",
    "After completing this notebook you will be able to:\n",
    "*   Understand Pandas library and its features.\n",
    "*   Import your data\n",
    "*   Understand your data, its size, features and its structure.\n",
    "*   Handle missing values\n",
    "*   Correct data format\n",
    "*   Do Statistical Analysis, Standardize and normalize data\n",
    "*   Visualise data using Matplotlib library\n"
   ]
  },
  {
   "cell_type": "markdown",
   "metadata": {},
   "source": [
    "<h2>Table of Contents</h2>\n",
    "\n",
    "<div class=\"alert alert-block alert-info\" style=\"margin-top: 20px\">\n",
    "<ul>\n",
    "    <li><a href=\"#Import_Libraries_and_the_Data_Set\">Import Libraries and the Data Set</a></li> \n",
    "    <li><a href=\"#Discover and understand the data set\">Discover and understand the data set</a></li> \n",
    "    <li><a href=\"#Identify_missing_Data\">Identify and handle missing values</a></li>     \n",
    "    <li><a href=\"#deal_missing_values\">Deal with missing values</li>\n",
    "    <li><a href=\"#correct_data_format\">Correct data format</a></li>\n",
    "    <li><a href=\"https://#data_standardization\">Data standardization</a></li>\n",
    "    <li><a href=\"https://#data_normalization\">Data normalization (centering/scaling)</a></li>\n",
    "    \n",
    "</ul>\n",
    "\n",
    "</div>\n",
    "\n",
    "<hr>\n"
   ]
  },
  {
   "cell_type": "markdown",
   "metadata": {},
   "source": [
    "## Tabular Data analysis with Pandas Library\n",
    "Pandas library is widely used to discover, clean and structure the data \n"
   ]
  },
  {
   "cell_type": "markdown",
   "metadata": {},
   "source": [
    "> _Pandas is a fast, powerful, flexible and easy to use open source data analysis and manipulation tool,\n",
    "built on top of the Python programming language._\n",
    "\n",
    "From https://pandas.pydata.org/."
   ]
  },
  {
   "cell_type": "markdown",
   "metadata": {
    "slideshow": {
     "slide_type": "slide"
    }
   },
   "source": [
    "<h2>What is the purpose of data wrangling?</h2>\n"
   ]
  },
  {
   "cell_type": "markdown",
   "metadata": {
    "slideshow": {
     "slide_type": "fragment"
    }
   },
   "source": [
    "Data Wrangling is the process of cleaning the raw data set and convert the information into a format that it is compatible for analysis. Part of this process include data discovery, find and delete or replace missing values, change the data format into usable form and data visualisation.\n",
    "While data cleaning involves removing erroneous data from your data set data wrangling involves more steps and processes.  \n",
    "\n",
    "Data Wrangling is the first and essential part of data analysis, however it is often  the most time-consuming and tedious part of it. It is very important to understand the process and the code lines as you will often use it before your data analysis. \n"
   ]
  },
  {
   "cell_type": "markdown",
   "metadata": {
    "slideshow": {
     "slide_type": "subslide"
    }
   },
   "source": [
    "### Data Wrangling Steps\n",
    "The exact tasks required  basic steps include:\n",
    "\n",
    "* **Discovering** : \n",
    "Understand the  data and find out  what information is useful for your problem \n",
    "* **Structuring** :\n",
    "Standardise the data format for disparate types of data and make the data usable for automated or semiautomated data analysis. The data must be structured to fit the analytics model \n",
    "\n",
    "* **Cleaning** : \n",
    "There are outliers in any dataset that could alter the outcome of an analysis. This means that structured data must be cleaned to improve analysis. This involves changing null values, eliminating redundancies, standardizing formatting, and changing redundancies to improve data consistency\n",
    "\n",
    "\n",
    "* **Enriching**\n",
    "You are pretty familiar with the data at this point. This is the moment to ask yourself if you want to enhance the data. Are you looking to add other data to it?\n",
    "\n",
    "\n",
    "*  **Validating** \n",
    "This step involves iterative programming steps that authenticate your data’s quality and safety. For example, you may have problems if your data is not clean or enriched and the attributes are not distributed evenly.\n"
   ]
  },
  {
   "cell_type": "markdown",
   "metadata": {},
   "source": [
    "## Tabular Data analysis with Pandas Library\n",
    "Pandas library is widely used to discover, clean and stracture the data \n"
   ]
  },
  {
   "cell_type": "markdown",
   "metadata": {},
   "source": [
    "> _Pandas is a fast, powerful, flexible and easy to use open source data analysis and manipulation tool,\n",
    "built on top of the Python programming language._\n",
    "\n",
    "From https://pandas.pydata.org/."
   ]
  },
  {
   "cell_type": "markdown",
   "metadata": {},
   "source": [
    "## Visualise Data \n",
    "Visualisation libraries such as matplot lib and seaborn are often used to plot and statistically analyse data.\n",
    "This way its easy to discover and clean 'outliners' which are data points that don't make sense and often mess the data.\n",
    "\n",
    "### ---------------------------------------------------------------"
   ]
  },
  {
   "cell_type": "markdown",
   "metadata": {
    "slideshow": {
     "slide_type": "slide"
    }
   },
   "source": [
    "\n",
    "<h2 id=\"Import_Libraries_and_the_Data_Set\"> 1) Import Libraries and the Data Set </h2>"
   ]
  },
  {
   "cell_type": "code",
   "execution_count": 2,
   "metadata": {
    "slideshow": {
     "slide_type": "fragment"
    }
   },
   "outputs": [
    {
     "ename": "ModuleNotFoundError",
     "evalue": "No module named 'matplotib'",
     "output_type": "error",
     "traceback": [
      "\u001b[0;31m---------------------------------------------------------------------------\u001b[0m",
      "\u001b[0;31mModuleNotFoundError\u001b[0m                       Traceback (most recent call last)",
      "Input \u001b[0;32mIn [2]\u001b[0m, in \u001b[0;36m<cell line: 3>\u001b[0;34m()\u001b[0m\n\u001b[1;32m      1\u001b[0m \u001b[38;5;28;01mimport\u001b[39;00m \u001b[38;5;21;01mpandas\u001b[39;00m \u001b[38;5;28;01mas\u001b[39;00m \u001b[38;5;21;01mpd\u001b[39;00m\n\u001b[1;32m      2\u001b[0m \u001b[38;5;28;01mimport\u001b[39;00m \u001b[38;5;21;01mnumpy\u001b[39;00m \u001b[38;5;28;01mas\u001b[39;00m \u001b[38;5;21;01mnp\u001b[39;00m\n\u001b[0;32m----> 3\u001b[0m \u001b[38;5;28;01mimport\u001b[39;00m \u001b[38;5;21;01mmatplotib\u001b[39;00m\u001b[38;5;21;01m.\u001b[39;00m\u001b[38;5;21;01mpylab\u001b[39;00m \u001b[38;5;28;01mas\u001b[39;00m \u001b[38;5;21;01mplt\u001b[39;00m\n",
      "\u001b[0;31mModuleNotFoundError\u001b[0m: No module named 'matplotib'"
     ]
    }
   ],
   "source": [
    "import pandas as pd\n",
    "import numpy as np\n",
    "import matplotib.pylab as plt"
   ]
  },
  {
   "cell_type": "markdown",
   "metadata": {},
   "source": [
    "###  Reading the dataset:\n",
    "You might upload the data from a URL or from the URL\n",
    "or \n",
    "Directly from your computer\n"
   ]
  },
  {
   "cell_type": "markdown",
   "metadata": {},
   "source": [
    "### From URL\n",
    "First, we assign the URL of the dataset to \"filename\" as the next code example. It doesn't actually apply to the case here."
   ]
  },
  {
   "cell_type": "code",
   "execution_count": 418,
   "metadata": {},
   "outputs": [],
   "source": [
    "#filename = \"https://....the website/data.csv\""
   ]
  },
  {
   "cell_type": "markdown",
   "metadata": {},
   "source": [
    "### Reading the Dataset from a file in your computer \n",
    "If the file is at the same folder with your code the best practice is to use as path=\"./data.csv\"\n",
    "If there are not at the same folder than you need to use the path of data folder."
   ]
  },
  {
   "cell_type": "code",
   "execution_count": 419,
   "metadata": {},
   "outputs": [],
   "source": [
    "\n",
    "#NOTE: Change the path to much yours\n",
    "#my_path = \"/Users/yourName /TeamCoders_Event_Based_Model/2_DataCleaningAndWrangling/who_suicide_statistics_modified3.csv\"\n",
    "my_path = \"./who_suicide_statistics_modified3.csv\" # You shorten the above by starting with \"./\" which means to read the file from the current directory that the Jupyter notebook is   ./\n",
    "data_raw = pd.read_csv(my_path , header=None)"
   ]
  },
  {
   "cell_type": "markdown",
   "metadata": {},
   "source": [
    " # 2) Discover and understand the data set \n",
    "Display the data and read it. Discover the data by displaying it using **.head()**\n",
    "Find the shape (columns and rows) and what type of data are as values"
   ]
  },
  {
   "cell_type": "markdown",
   "metadata": {},
   "source": [
    "Use the method <b>head()</b> to display the first five rows of the dataframe.\n"
   ]
  },
  {
   "cell_type": "code",
   "execution_count": 420,
   "metadata": {
    "scrolled": true
   },
   "outputs": [
    {
     "data": {
      "text/html": [
       "<div>\n",
       "<style scoped>\n",
       "    .dataframe tbody tr th:only-of-type {\n",
       "        vertical-align: middle;\n",
       "    }\n",
       "\n",
       "    .dataframe tbody tr th {\n",
       "        vertical-align: top;\n",
       "    }\n",
       "\n",
       "    .dataframe thead th {\n",
       "        text-align: right;\n",
       "    }\n",
       "</style>\n",
       "<table border=\"1\" class=\"dataframe\">\n",
       "  <thead>\n",
       "    <tr style=\"text-align: right;\">\n",
       "      <th></th>\n",
       "      <th>0</th>\n",
       "      <th>1</th>\n",
       "      <th>2</th>\n",
       "      <th>3</th>\n",
       "      <th>4</th>\n",
       "      <th>5</th>\n",
       "      <th>6</th>\n",
       "      <th>7</th>\n",
       "    </tr>\n",
       "  </thead>\n",
       "  <tbody>\n",
       "    <tr>\n",
       "      <th>0</th>\n",
       "      <td>country</td>\n",
       "      <td>year</td>\n",
       "      <td>sex</td>\n",
       "      <td>age</td>\n",
       "      <td>suicides_no</td>\n",
       "      <td>population</td>\n",
       "      <td>HDI for year</td>\n",
       "      <td>gdp_for_year ($)</td>\n",
       "    </tr>\n",
       "    <tr>\n",
       "      <th>1</th>\n",
       "      <td>Albania</td>\n",
       "      <td>1987</td>\n",
       "      <td>male</td>\n",
       "      <td>15-24 years</td>\n",
       "      <td>21</td>\n",
       "      <td>312900</td>\n",
       "      <td>NaN</td>\n",
       "      <td>2,156,624,900</td>\n",
       "    </tr>\n",
       "    <tr>\n",
       "      <th>2</th>\n",
       "      <td>Albania</td>\n",
       "      <td>1987</td>\n",
       "      <td>male</td>\n",
       "      <td>35-54 years</td>\n",
       "      <td>16</td>\n",
       "      <td>308000</td>\n",
       "      <td>NaN</td>\n",
       "      <td>2,156,624,900</td>\n",
       "    </tr>\n",
       "    <tr>\n",
       "      <th>3</th>\n",
       "      <td>Albania</td>\n",
       "      <td>1987</td>\n",
       "      <td>female</td>\n",
       "      <td>15-24 years</td>\n",
       "      <td>14</td>\n",
       "      <td>289700</td>\n",
       "      <td>NaN</td>\n",
       "      <td>2,156,624,900</td>\n",
       "    </tr>\n",
       "    <tr>\n",
       "      <th>4</th>\n",
       "      <td>Albania</td>\n",
       "      <td>1987</td>\n",
       "      <td>male</td>\n",
       "      <td>75+ years</td>\n",
       "      <td>1</td>\n",
       "      <td>21800</td>\n",
       "      <td>NaN</td>\n",
       "      <td>2,156,624,900</td>\n",
       "    </tr>\n",
       "  </tbody>\n",
       "</table>\n",
       "</div>"
      ],
      "text/plain": [
       "         0     1       2            3            4           5             6  \\\n",
       "0  country  year     sex          age  suicides_no  population  HDI for year   \n",
       "1  Albania  1987    male  15-24 years           21      312900           NaN   \n",
       "2  Albania  1987    male  35-54 years           16      308000           NaN   \n",
       "3  Albania  1987  female  15-24 years           14      289700           NaN   \n",
       "4  Albania  1987    male    75+ years            1       21800           NaN   \n",
       "\n",
       "                    7  \n",
       "0   gdp_for_year ($)   \n",
       "1       2,156,624,900  \n",
       "2       2,156,624,900  \n",
       "3       2,156,624,900  \n",
       "4       2,156,624,900  "
      ]
     },
     "execution_count": 420,
     "metadata": {},
     "output_type": "execute_result"
    }
   ],
   "source": [
    "data_raw.head()"
   ]
  },
  {
   "cell_type": "code",
   "execution_count": 100,
   "metadata": {},
   "outputs": [
    {
     "data": {
      "text/plain": [
       "(27841, 8)"
      ]
     },
     "execution_count": 100,
     "metadata": {},
     "output_type": "execute_result"
    }
   ],
   "source": [
    "data_raw.shape"
   ]
  },
  {
   "cell_type": "code",
   "execution_count": 421,
   "metadata": {},
   "outputs": [
    {
     "data": {
      "text/plain": [
       "0    object\n",
       "1    object\n",
       "2    object\n",
       "3    object\n",
       "4    object\n",
       "5    object\n",
       "6    object\n",
       "7    object\n",
       "dtype: object"
      ]
     },
     "execution_count": 421,
     "metadata": {},
     "output_type": "execute_result"
    }
   ],
   "source": [
    "data_raw.dtypes"
   ]
  },
  {
   "cell_type": "markdown",
   "metadata": {},
   "source": [
    "### Observations\n",
    "* The data frame has 27841 rows and 8 columns hat describe the demographics of the suicides in the world.\n",
    "* There is no headers, the columns are indexed. \n",
    "* The header is in the first row ( 0 index) we need to move the row and make it header.\n",
    "* The data frame is an object by itself and within it the data all columns are all objects. \n",
    "* It is not the data structure that is compartible with the analysis we will follow."
   ]
  },
  {
   "cell_type": "markdown",
   "metadata": {},
   "source": [
    "## Fix headers \n",
    "### How to replace the header with the first row."
   ]
  },
  {
   "cell_type": "markdown",
   "metadata": {},
   "source": [
    "We need to create headers with the descriptions that are in the firts row ( 0 ) and delete row 0. There are various ways to do that, as listed here are :A, B, C. I give descriptions of what each code does and you hav eto run only one. I give them all to you to practice.\n",
    "I'm choosing A the following method:\n",
    "\n",
    "* First row of the dataframe is assigned to the df.columns using the **df.iloc[0]** statement\n",
    "* Next, the dataframe is sliced from the second row using its index 1 (using **.iloc[1:]**) \n",
    "* Within the same line we reset its row index using the **reset_index()** method.\n",
    "* With these steps, the header of the dataframe is replaced with the first row of the dataframe.\n"
   ]
  },
  {
   "cell_type": "markdown",
   "metadata": {},
   "source": [
    "### A) Method to add the headers that exist at the row (0) "
   ]
  },
  {
   "cell_type": "code",
   "execution_count": 422,
   "metadata": {},
   "outputs": [
    {
     "data": {
      "text/html": [
       "<div>\n",
       "<style scoped>\n",
       "    .dataframe tbody tr th:only-of-type {\n",
       "        vertical-align: middle;\n",
       "    }\n",
       "\n",
       "    .dataframe tbody tr th {\n",
       "        vertical-align: top;\n",
       "    }\n",
       "\n",
       "    .dataframe thead th {\n",
       "        text-align: right;\n",
       "    }\n",
       "</style>\n",
       "<table border=\"1\" class=\"dataframe\">\n",
       "  <thead>\n",
       "    <tr style=\"text-align: right;\">\n",
       "      <th></th>\n",
       "      <th>country</th>\n",
       "      <th>year</th>\n",
       "      <th>sex</th>\n",
       "      <th>age</th>\n",
       "      <th>suicides_no</th>\n",
       "      <th>population</th>\n",
       "      <th>HDI for year</th>\n",
       "      <th>gdp_for_year ($)</th>\n",
       "    </tr>\n",
       "  </thead>\n",
       "  <tbody>\n",
       "    <tr>\n",
       "      <th>0</th>\n",
       "      <td>Albania</td>\n",
       "      <td>1987</td>\n",
       "      <td>male</td>\n",
       "      <td>15-24 years</td>\n",
       "      <td>21</td>\n",
       "      <td>312900</td>\n",
       "      <td>NaN</td>\n",
       "      <td>2,156,624,900</td>\n",
       "    </tr>\n",
       "    <tr>\n",
       "      <th>1</th>\n",
       "      <td>Albania</td>\n",
       "      <td>1987</td>\n",
       "      <td>male</td>\n",
       "      <td>35-54 years</td>\n",
       "      <td>16</td>\n",
       "      <td>308000</td>\n",
       "      <td>NaN</td>\n",
       "      <td>2,156,624,900</td>\n",
       "    </tr>\n",
       "    <tr>\n",
       "      <th>2</th>\n",
       "      <td>Albania</td>\n",
       "      <td>1987</td>\n",
       "      <td>female</td>\n",
       "      <td>15-24 years</td>\n",
       "      <td>14</td>\n",
       "      <td>289700</td>\n",
       "      <td>NaN</td>\n",
       "      <td>2,156,624,900</td>\n",
       "    </tr>\n",
       "    <tr>\n",
       "      <th>3</th>\n",
       "      <td>Albania</td>\n",
       "      <td>1987</td>\n",
       "      <td>male</td>\n",
       "      <td>75+ years</td>\n",
       "      <td>1</td>\n",
       "      <td>21800</td>\n",
       "      <td>NaN</td>\n",
       "      <td>2,156,624,900</td>\n",
       "    </tr>\n",
       "    <tr>\n",
       "      <th>4</th>\n",
       "      <td>Albania</td>\n",
       "      <td>1987</td>\n",
       "      <td>male</td>\n",
       "      <td>25-34 years</td>\n",
       "      <td>9</td>\n",
       "      <td>274300</td>\n",
       "      <td>NaN</td>\n",
       "      <td>2,156,624,900</td>\n",
       "    </tr>\n",
       "  </tbody>\n",
       "</table>\n",
       "</div>"
      ],
      "text/plain": [
       "0  country  year     sex          age suicides_no population HDI for year  \\\n",
       "0  Albania  1987    male  15-24 years          21     312900          NaN   \n",
       "1  Albania  1987    male  35-54 years          16     308000          NaN   \n",
       "2  Albania  1987  female  15-24 years          14     289700          NaN   \n",
       "3  Albania  1987    male    75+ years           1      21800          NaN   \n",
       "4  Albania  1987    male  25-34 years           9     274300          NaN   \n",
       "\n",
       "0  gdp_for_year ($)   \n",
       "0      2,156,624,900  \n",
       "1      2,156,624,900  \n",
       "2      2,156,624,900  \n",
       "3      2,156,624,900  \n",
       "4      2,156,624,900  "
      ]
     },
     "execution_count": 422,
     "metadata": {},
     "output_type": "execute_result"
    }
   ],
   "source": [
    "data_raw.columns = data_raw.iloc[0]\n",
    "data_raw = data_raw.iloc[1:].reset_index(drop=True) #This method will  reset the index of the rows \n",
    "\n",
    "data_raw.head()"
   ]
  },
  {
   "cell_type": "markdown",
   "metadata": {},
   "source": [
    "### B ) Method \n",
    "We need to create headers with the descriptions in row 0 and delete row 0.\n",
    "The following code is commented (having the ## in front) so it cannot run as code. To run it, don't run the code of method A, and delete the # in front of each line."
   ]
  },
  {
   "cell_type": "markdown",
   "metadata": {},
   "source": [
    "We create a Python list **headers** containing name of headers.\n"
   ]
  },
  {
   "cell_type": "code",
   "execution_count": 103,
   "metadata": {},
   "outputs": [],
   "source": [
    "##headers = [\"country\",\"year\",\"gender\",\"age\",\"suicides_no\",\"population\",\"HDI for year\",\"gdp_for_year ($)\"]"
   ]
  },
  {
   "cell_type": "code",
   "execution_count": 104,
   "metadata": {},
   "outputs": [],
   "source": [
    "# data_raw.columns = headers            # 1) Add Headers as columns \n",
    "#  data_raw= data_raw.drop(0, axis =0)  # 2) delete the row with the labels , which is row 0 \n",
    "#data_raw.head()                        # 3) check the five lines of the Data Frame"
   ]
  },
  {
   "cell_type": "markdown",
   "metadata": {},
   "source": [
    "###  C) Method\n",
    "\n",
    "This method might work when the headers are on line 0. If there are not headers at all, you need to use method B to insert them manually.\n",
    "Use the Pandas method read_csv('filename.csv) to load the data from the file. \n"
   ]
  },
  {
   "cell_type": "code",
   "execution_count": 105,
   "metadata": {},
   "outputs": [],
   "source": [
    "# df = pd.read_csv(my_path)"
   ]
  },
  {
   "cell_type": "markdown",
   "metadata": {},
   "source": [
    "Use the method **.head()** to display **the first five rows** of the dataframe , but when you insert an argument it displays the number you give.\n"
   ]
  },
  {
   "cell_type": "code",
   "execution_count": 423,
   "metadata": {
    "scrolled": true
   },
   "outputs": [
    {
     "data": {
      "text/html": [
       "<div>\n",
       "<style scoped>\n",
       "    .dataframe tbody tr th:only-of-type {\n",
       "        vertical-align: middle;\n",
       "    }\n",
       "\n",
       "    .dataframe tbody tr th {\n",
       "        vertical-align: top;\n",
       "    }\n",
       "\n",
       "    .dataframe thead th {\n",
       "        text-align: right;\n",
       "    }\n",
       "</style>\n",
       "<table border=\"1\" class=\"dataframe\">\n",
       "  <thead>\n",
       "    <tr style=\"text-align: right;\">\n",
       "      <th></th>\n",
       "      <th>country</th>\n",
       "      <th>year</th>\n",
       "      <th>sex</th>\n",
       "      <th>age</th>\n",
       "      <th>suicides_no</th>\n",
       "      <th>population</th>\n",
       "      <th>HDI for year</th>\n",
       "      <th>gdp_for_year ($)</th>\n",
       "    </tr>\n",
       "  </thead>\n",
       "  <tbody>\n",
       "    <tr>\n",
       "      <th>0</th>\n",
       "      <td>Albania</td>\n",
       "      <td>1987</td>\n",
       "      <td>male</td>\n",
       "      <td>15-24 years</td>\n",
       "      <td>21</td>\n",
       "      <td>312900</td>\n",
       "      <td>NaN</td>\n",
       "      <td>2,156,624,900</td>\n",
       "    </tr>\n",
       "    <tr>\n",
       "      <th>1</th>\n",
       "      <td>Albania</td>\n",
       "      <td>1987</td>\n",
       "      <td>male</td>\n",
       "      <td>35-54 years</td>\n",
       "      <td>16</td>\n",
       "      <td>308000</td>\n",
       "      <td>NaN</td>\n",
       "      <td>2,156,624,900</td>\n",
       "    </tr>\n",
       "    <tr>\n",
       "      <th>2</th>\n",
       "      <td>Albania</td>\n",
       "      <td>1987</td>\n",
       "      <td>female</td>\n",
       "      <td>15-24 years</td>\n",
       "      <td>14</td>\n",
       "      <td>289700</td>\n",
       "      <td>NaN</td>\n",
       "      <td>2,156,624,900</td>\n",
       "    </tr>\n",
       "    <tr>\n",
       "      <th>3</th>\n",
       "      <td>Albania</td>\n",
       "      <td>1987</td>\n",
       "      <td>male</td>\n",
       "      <td>75+ years</td>\n",
       "      <td>1</td>\n",
       "      <td>21800</td>\n",
       "      <td>NaN</td>\n",
       "      <td>2,156,624,900</td>\n",
       "    </tr>\n",
       "    <tr>\n",
       "      <th>4</th>\n",
       "      <td>Albania</td>\n",
       "      <td>1987</td>\n",
       "      <td>male</td>\n",
       "      <td>25-34 years</td>\n",
       "      <td>9</td>\n",
       "      <td>274300</td>\n",
       "      <td>NaN</td>\n",
       "      <td>2,156,624,900</td>\n",
       "    </tr>\n",
       "    <tr>\n",
       "      <th>5</th>\n",
       "      <td>Albania</td>\n",
       "      <td>1987</td>\n",
       "      <td>female</td>\n",
       "      <td>75+ years</td>\n",
       "      <td>1</td>\n",
       "      <td>35600</td>\n",
       "      <td>NaN</td>\n",
       "      <td>2,156,624,900</td>\n",
       "    </tr>\n",
       "    <tr>\n",
       "      <th>6</th>\n",
       "      <td>Albania</td>\n",
       "      <td>1987</td>\n",
       "      <td>female</td>\n",
       "      <td>35-54 years</td>\n",
       "      <td>6</td>\n",
       "      <td>278800</td>\n",
       "      <td>NaN</td>\n",
       "      <td>2,156,624,900</td>\n",
       "    </tr>\n",
       "    <tr>\n",
       "      <th>7</th>\n",
       "      <td>Albania</td>\n",
       "      <td>1987</td>\n",
       "      <td>female</td>\n",
       "      <td>25-34 years</td>\n",
       "      <td>4</td>\n",
       "      <td>257200</td>\n",
       "      <td>NaN</td>\n",
       "      <td>2,156,624,900</td>\n",
       "    </tr>\n",
       "    <tr>\n",
       "      <th>8</th>\n",
       "      <td>Albania</td>\n",
       "      <td>1987</td>\n",
       "      <td>male</td>\n",
       "      <td>55-74 years</td>\n",
       "      <td>1</td>\n",
       "      <td>137500</td>\n",
       "      <td>NaN</td>\n",
       "      <td>2,156,624,900</td>\n",
       "    </tr>\n",
       "    <tr>\n",
       "      <th>9</th>\n",
       "      <td>Albania</td>\n",
       "      <td>1987</td>\n",
       "      <td>female</td>\n",
       "      <td>5-14 years</td>\n",
       "      <td>NaN</td>\n",
       "      <td>311000</td>\n",
       "      <td>NaN</td>\n",
       "      <td>2,156,624,900</td>\n",
       "    </tr>\n",
       "    <tr>\n",
       "      <th>10</th>\n",
       "      <td>Albania</td>\n",
       "      <td>1987</td>\n",
       "      <td>female</td>\n",
       "      <td>55-74 years</td>\n",
       "      <td>NaN</td>\n",
       "      <td>144600</td>\n",
       "      <td>NaN</td>\n",
       "      <td>2,156,624,900</td>\n",
       "    </tr>\n",
       "    <tr>\n",
       "      <th>11</th>\n",
       "      <td>Albania</td>\n",
       "      <td>1987</td>\n",
       "      <td>male</td>\n",
       "      <td>5-14 years</td>\n",
       "      <td>NaN</td>\n",
       "      <td>338200</td>\n",
       "      <td>NaN</td>\n",
       "      <td>2,156,624,900</td>\n",
       "    </tr>\n",
       "  </tbody>\n",
       "</table>\n",
       "</div>"
      ],
      "text/plain": [
       "0   country  year     sex          age suicides_no population HDI for year  \\\n",
       "0   Albania  1987    male  15-24 years          21     312900          NaN   \n",
       "1   Albania  1987    male  35-54 years          16     308000          NaN   \n",
       "2   Albania  1987  female  15-24 years          14     289700          NaN   \n",
       "3   Albania  1987    male    75+ years           1      21800          NaN   \n",
       "4   Albania  1987    male  25-34 years           9     274300          NaN   \n",
       "5   Albania  1987  female    75+ years           1      35600          NaN   \n",
       "6   Albania  1987  female  35-54 years           6     278800          NaN   \n",
       "7   Albania  1987  female  25-34 years           4     257200          NaN   \n",
       "8   Albania  1987    male  55-74 years           1     137500          NaN   \n",
       "9   Albania  1987  female   5-14 years         NaN     311000          NaN   \n",
       "10  Albania  1987  female  55-74 years         NaN     144600          NaN   \n",
       "11  Albania  1987    male   5-14 years         NaN     338200          NaN   \n",
       "\n",
       "0   gdp_for_year ($)   \n",
       "0       2,156,624,900  \n",
       "1       2,156,624,900  \n",
       "2       2,156,624,900  \n",
       "3       2,156,624,900  \n",
       "4       2,156,624,900  \n",
       "5       2,156,624,900  \n",
       "6       2,156,624,900  \n",
       "7       2,156,624,900  \n",
       "8       2,156,624,900  \n",
       "9       2,156,624,900  \n",
       "10      2,156,624,900  \n",
       "11      2,156,624,900  "
      ]
     },
     "execution_count": 423,
     "metadata": {},
     "output_type": "execute_result"
    }
   ],
   "source": [
    "# To see what the data set looks like, we'll use the head() method for the first 12 lines.\n",
    "data_raw.head(12)"
   ]
  },
  {
   "cell_type": "markdown",
   "metadata": {},
   "source": [
    "### Exercise 1\n",
    "Show all the countries in the data set.\n",
    "Hind! find how to select columns"
   ]
  },
  {
   "cell_type": "code",
   "execution_count": 107,
   "metadata": {},
   "outputs": [
    {
     "name": "stdout",
     "output_type": "stream",
     "text": [
      "0            Albania\n",
      "1            Albania\n",
      "2            Albania\n",
      "3            Albania\n",
      "4            Albania\n",
      "            ...     \n",
      "27835        Belgium\n",
      "27836       Thailand\n",
      "27837    Netherlands\n",
      "27838        Grenada\n",
      "27839         Mexico\n",
      "Name: country, Length: 27840, dtype: object\n"
     ]
    }
   ],
   "source": [
    "data_raw_countries=data_raw['country']\n",
    "print(data_raw_countries)"
   ]
  },
  {
   "cell_type": "markdown",
   "metadata": {},
   "source": [
    "### Exercise 2\n",
    "List all countries and find how many they are."
   ]
  },
  {
   "cell_type": "code",
   "execution_count": 108,
   "metadata": {},
   "outputs": [
    {
     "name": "stdout",
     "output_type": "stream",
     "text": [
      "Austria                   383\n",
      "Netherlands               383\n",
      "Mauritius                 382\n",
      "Iceland                   382\n",
      "Argentina                 373\n",
      "                         ... \n",
      "Bosnia and Herzegovina     24\n",
      "Cabo Verde                 12\n",
      "Dominica                   12\n",
      "Macau                      12\n",
      "Mongolia                   10\n",
      "Name: country, Length: 101, dtype: int64\n"
     ]
    }
   ],
   "source": [
    "print((data_raw_countries).value_counts())"
   ]
  },
  {
   "cell_type": "markdown",
   "metadata": {},
   "source": [
    "### Exercise 3\n",
    "List all the countries alphabetically. Indicate how to find the  data structure type.\n"
   ]
  },
  {
   "cell_type": "code",
   "execution_count": 109,
   "metadata": {},
   "outputs": [
    {
     "data": {
      "text/plain": [
       "array(['Albania', 'Antigua and Barbuda', 'Argentina', 'Armenia', 'Aruba',\n",
       "       'Australia', 'Austria', 'Azerbaijan', 'Bahamas', 'Bahrain',\n",
       "       'Barbados', 'Belarus', 'Belgium', 'Belize',\n",
       "       'Bosnia and Herzegovina', 'Brazil', 'Bulgaria', 'Cabo Verde',\n",
       "       'Canada', 'Chile', 'Colombia', 'Costa Rica', 'Croatia', 'Cuba',\n",
       "       'Cyprus', 'Czech Republic', 'Denmark', 'Dominica', 'Ecuador',\n",
       "       'El Salvador', 'Estonia', 'Fiji', 'Finland', 'France', 'Georgia',\n",
       "       'Germany', 'Greece', 'Grenada', 'Guatemala', 'Guyana', 'Hungary',\n",
       "       'Iceland', 'Ireland', 'Israel', 'Italy', 'Jamaica', 'Japan',\n",
       "       'Kazakhstan', 'Kiribati', 'Kuwait', 'Kyrgyzstan', 'Latvia',\n",
       "       'Lithuania', 'Luxembourg', 'Macau', 'Maldives', 'Malta',\n",
       "       'Mauritius', 'Mexico', 'Mongolia', 'Montenegro', 'Netherlands',\n",
       "       'New Zealand', 'Nicaragua', 'Norway', 'Oman', 'Panama', 'Paraguay',\n",
       "       'Philippines', 'Poland', 'Portugal', 'Puerto Rico', 'Qatar',\n",
       "       'Republic of Korea', 'Romania', 'Russian Federation',\n",
       "       'Saint Kitts and Nevis', 'Saint Lucia',\n",
       "       'Saint Vincent and Grenadines', 'San Marino', 'Serbia',\n",
       "       'Seychelles', 'Singapore', 'Slovakia', 'Slovenia', 'South Africa',\n",
       "       'Spain', 'Sri Lanka', 'Suriname', 'Sweden', 'Switzerland',\n",
       "       'Thailand', 'Trinidad and Tobago', 'Turkey', 'Turkmenistan',\n",
       "       'Ukraine', 'United Arab Emirates', 'United Kingdom',\n",
       "       'United States', 'Uruguay', 'Uzbekistan'], dtype='<U28')"
      ]
     },
     "execution_count": 109,
     "metadata": {},
     "output_type": "execute_result"
    }
   ],
   "source": [
    "data_raw_countries_alphabetically = data_raw['country'].unique().astype(str)\n",
    "data_raw_countries_alphabetically"
   ]
  },
  {
   "cell_type": "code",
   "execution_count": 110,
   "metadata": {},
   "outputs": [
    {
     "data": {
      "text/plain": [
       "numpy.ndarray"
      ]
     },
     "execution_count": 110,
     "metadata": {},
     "output_type": "execute_result"
    }
   ],
   "source": [
    "type(data_raw_countries_alphabetically)"
   ]
  },
  {
   "cell_type": "markdown",
   "metadata": {},
   "source": [
    "The data_raw_countries_alphabeticallly is a numpy array that we need to convert it to list, using the **.tolist()** method.\n"
   ]
  },
  {
   "cell_type": "code",
   "execution_count": 111,
   "metadata": {},
   "outputs": [
    {
     "name": "stdout",
     "output_type": "stream",
     "text": [
      "The list of countries is:['Albania', 'Antigua and Barbuda', 'Argentina', 'Armenia', 'Aruba', 'Australia', 'Austria', 'Azerbaijan', 'Bahamas', 'Bahrain', 'Barbados', 'Belarus', 'Belgium', 'Belize', 'Bosnia and Herzegovina', 'Brazil', 'Bulgaria', 'Cabo Verde', 'Canada', 'Chile', 'Colombia', 'Costa Rica', 'Croatia', 'Cuba', 'Cyprus', 'Czech Republic', 'Denmark', 'Dominica', 'Ecuador', 'El Salvador', 'Estonia', 'Fiji', 'Finland', 'France', 'Georgia', 'Germany', 'Greece', 'Grenada', 'Guatemala', 'Guyana', 'Hungary', 'Iceland', 'Ireland', 'Israel', 'Italy', 'Jamaica', 'Japan', 'Kazakhstan', 'Kiribati', 'Kuwait', 'Kyrgyzstan', 'Latvia', 'Lithuania', 'Luxembourg', 'Macau', 'Maldives', 'Malta', 'Mauritius', 'Mexico', 'Mongolia', 'Montenegro', 'Netherlands', 'New Zealand', 'Nicaragua', 'Norway', 'Oman', 'Panama', 'Paraguay', 'Philippines', 'Poland', 'Portugal', 'Puerto Rico', 'Qatar', 'Republic of Korea', 'Romania', 'Russian Federation', 'Saint Kitts and Nevis', 'Saint Lucia', 'Saint Vincent and Grenadines', 'San Marino', 'Serbia', 'Seychelles', 'Singapore', 'Slovakia', 'Slovenia', 'South Africa', 'Spain', 'Sri Lanka', 'Suriname', 'Sweden', 'Switzerland', 'Thailand', 'Trinidad and Tobago', 'Turkey', 'Turkmenistan', 'Ukraine', 'United Arab Emirates', 'United Kingdom', 'United States', 'Uruguay', 'Uzbekistan']\n"
     ]
    }
   ],
   "source": [
    "data_countries_list= data_raw_countries_alphabetically.tolist() # Convert a numpy array to a list\n",
    "print(f'The list of countries is:{data_countries_list}')"
   ]
  },
  {
   "cell_type": "markdown",
   "metadata": {},
   "source": [
    "### Find the mean of a numerical column\n",
    "The method to find the mean of a column is **.mean()**"
   ]
  },
  {
   "cell_type": "code",
   "execution_count": 112,
   "metadata": {},
   "outputs": [
    {
     "data": {
      "text/plain": [
       "0         21\n",
       "1         16\n",
       "2         14\n",
       "3          1\n",
       "4          9\n",
       "        ... \n",
       "27835      6\n",
       "27836    152\n",
       "27837     21\n",
       "27838    NaN\n",
       "27839      7\n",
       "Name: suicides_no, Length: 27840, dtype: object"
      ]
     },
     "execution_count": 112,
     "metadata": {},
     "output_type": "execute_result"
    }
   ],
   "source": [
    "data_raw_suicides = data_raw['suicides_no']\n",
    "data_raw_suicides"
   ]
  },
  {
   "cell_type": "code",
   "execution_count": 114,
   "metadata": {},
   "outputs": [
    {
     "ename": "TypeError",
     "evalue": "can only concatenate str (not \"int\") to str",
     "output_type": "error",
     "traceback": [
      "\u001b[0;31m---------------------------------------------------------------------------\u001b[0m",
      "\u001b[0;31mTypeError\u001b[0m                                 Traceback (most recent call last)",
      "\u001b[1;32m/Users/mary-tziraki/git/TeamCoders_Event_Based_Model/2_DataCleaningAndWrangling/Data_Wrangling_WHO.ipynb Cell 45'\u001b[0m in \u001b[0;36m<module>\u001b[0;34m\u001b[0m\n\u001b[0;32m----> <a href='vscode-notebook-cell:/Users/mary-tziraki/git/TeamCoders_Event_Based_Model/2_DataCleaningAndWrangling/Data_Wrangling_WHO.ipynb#ch0000044?line=0'>1</a>\u001b[0m data_raw_suicides_mean \u001b[39m=\u001b[39m data_raw[\u001b[39m'\u001b[39;49m\u001b[39msuicides_no\u001b[39;49m\u001b[39m'\u001b[39;49m]\u001b[39m.\u001b[39;49mmean()\n",
      "File \u001b[0;32m~/opt/anaconda3/envs/env-DataWrangling/lib/python3.8/site-packages/pandas/core/generic.py:11127\u001b[0m, in \u001b[0;36mNDFrame._add_numeric_operations.<locals>.mean\u001b[0;34m(self, axis, skipna, level, numeric_only, **kwargs)\u001b[0m\n\u001b[1;32m  <a href='file:///Users/mary-tziraki/opt/anaconda3/envs/env-DataWrangling/lib/python3.8/site-packages/pandas/core/generic.py?line=11108'>11109</a>\u001b[0m \u001b[39m@doc\u001b[39m(\n\u001b[1;32m  <a href='file:///Users/mary-tziraki/opt/anaconda3/envs/env-DataWrangling/lib/python3.8/site-packages/pandas/core/generic.py?line=11109'>11110</a>\u001b[0m     _num_doc,\n\u001b[1;32m  <a href='file:///Users/mary-tziraki/opt/anaconda3/envs/env-DataWrangling/lib/python3.8/site-packages/pandas/core/generic.py?line=11110'>11111</a>\u001b[0m     desc\u001b[39m=\u001b[39m\u001b[39m\"\u001b[39m\u001b[39mReturn the mean of the values over the requested axis.\u001b[39m\u001b[39m\"\u001b[39m,\n\u001b[0;32m   (...)\u001b[0m\n\u001b[1;32m  <a href='file:///Users/mary-tziraki/opt/anaconda3/envs/env-DataWrangling/lib/python3.8/site-packages/pandas/core/generic.py?line=11124'>11125</a>\u001b[0m     \u001b[39m*\u001b[39m\u001b[39m*\u001b[39mkwargs,\n\u001b[1;32m  <a href='file:///Users/mary-tziraki/opt/anaconda3/envs/env-DataWrangling/lib/python3.8/site-packages/pandas/core/generic.py?line=11125'>11126</a>\u001b[0m ):\n\u001b[0;32m> <a href='file:///Users/mary-tziraki/opt/anaconda3/envs/env-DataWrangling/lib/python3.8/site-packages/pandas/core/generic.py?line=11126'>11127</a>\u001b[0m     \u001b[39mreturn\u001b[39;00m NDFrame\u001b[39m.\u001b[39;49mmean(\u001b[39mself\u001b[39;49m, axis, skipna, level, numeric_only, \u001b[39m*\u001b[39;49m\u001b[39m*\u001b[39;49mkwargs)\n",
      "File \u001b[0;32m~/opt/anaconda3/envs/env-DataWrangling/lib/python3.8/site-packages/pandas/core/generic.py:10697\u001b[0m, in \u001b[0;36mNDFrame.mean\u001b[0;34m(self, axis, skipna, level, numeric_only, **kwargs)\u001b[0m\n\u001b[1;32m  <a href='file:///Users/mary-tziraki/opt/anaconda3/envs/env-DataWrangling/lib/python3.8/site-packages/pandas/core/generic.py?line=10688'>10689</a>\u001b[0m \u001b[39mdef\u001b[39;00m \u001b[39mmean\u001b[39m(\n\u001b[1;32m  <a href='file:///Users/mary-tziraki/opt/anaconda3/envs/env-DataWrangling/lib/python3.8/site-packages/pandas/core/generic.py?line=10689'>10690</a>\u001b[0m     \u001b[39mself\u001b[39m,\n\u001b[1;32m  <a href='file:///Users/mary-tziraki/opt/anaconda3/envs/env-DataWrangling/lib/python3.8/site-packages/pandas/core/generic.py?line=10690'>10691</a>\u001b[0m     axis: Axis \u001b[39m|\u001b[39m \u001b[39mNone\u001b[39;00m \u001b[39m|\u001b[39m lib\u001b[39m.\u001b[39mNoDefault \u001b[39m=\u001b[39m lib\u001b[39m.\u001b[39mno_default,\n\u001b[0;32m   (...)\u001b[0m\n\u001b[1;32m  <a href='file:///Users/mary-tziraki/opt/anaconda3/envs/env-DataWrangling/lib/python3.8/site-packages/pandas/core/generic.py?line=10694'>10695</a>\u001b[0m     \u001b[39m*\u001b[39m\u001b[39m*\u001b[39mkwargs,\n\u001b[1;32m  <a href='file:///Users/mary-tziraki/opt/anaconda3/envs/env-DataWrangling/lib/python3.8/site-packages/pandas/core/generic.py?line=10695'>10696</a>\u001b[0m ) \u001b[39m-\u001b[39m\u001b[39m>\u001b[39m Series \u001b[39m|\u001b[39m \u001b[39mfloat\u001b[39m:\n\u001b[0;32m> <a href='file:///Users/mary-tziraki/opt/anaconda3/envs/env-DataWrangling/lib/python3.8/site-packages/pandas/core/generic.py?line=10696'>10697</a>\u001b[0m     \u001b[39mreturn\u001b[39;00m \u001b[39mself\u001b[39;49m\u001b[39m.\u001b[39;49m_stat_function(\n\u001b[1;32m  <a href='file:///Users/mary-tziraki/opt/anaconda3/envs/env-DataWrangling/lib/python3.8/site-packages/pandas/core/generic.py?line=10697'>10698</a>\u001b[0m         \u001b[39m\"\u001b[39;49m\u001b[39mmean\u001b[39;49m\u001b[39m\"\u001b[39;49m, nanops\u001b[39m.\u001b[39;49mnanmean, axis, skipna, level, numeric_only, \u001b[39m*\u001b[39;49m\u001b[39m*\u001b[39;49mkwargs\n\u001b[1;32m  <a href='file:///Users/mary-tziraki/opt/anaconda3/envs/env-DataWrangling/lib/python3.8/site-packages/pandas/core/generic.py?line=10698'>10699</a>\u001b[0m     )\n",
      "File \u001b[0;32m~/opt/anaconda3/envs/env-DataWrangling/lib/python3.8/site-packages/pandas/core/generic.py:10649\u001b[0m, in \u001b[0;36mNDFrame._stat_function\u001b[0;34m(self, name, func, axis, skipna, level, numeric_only, **kwargs)\u001b[0m\n\u001b[1;32m  <a href='file:///Users/mary-tziraki/opt/anaconda3/envs/env-DataWrangling/lib/python3.8/site-packages/pandas/core/generic.py?line=10638'>10639</a>\u001b[0m     warnings\u001b[39m.\u001b[39mwarn(\n\u001b[1;32m  <a href='file:///Users/mary-tziraki/opt/anaconda3/envs/env-DataWrangling/lib/python3.8/site-packages/pandas/core/generic.py?line=10639'>10640</a>\u001b[0m         \u001b[39m\"\u001b[39m\u001b[39mUsing the level keyword in DataFrame and Series aggregations is \u001b[39m\u001b[39m\"\u001b[39m\n\u001b[1;32m  <a href='file:///Users/mary-tziraki/opt/anaconda3/envs/env-DataWrangling/lib/python3.8/site-packages/pandas/core/generic.py?line=10640'>10641</a>\u001b[0m         \u001b[39m\"\u001b[39m\u001b[39mdeprecated and will be removed in a future version. Use groupby \u001b[39m\u001b[39m\"\u001b[39m\n\u001b[0;32m   (...)\u001b[0m\n\u001b[1;32m  <a href='file:///Users/mary-tziraki/opt/anaconda3/envs/env-DataWrangling/lib/python3.8/site-packages/pandas/core/generic.py?line=10643'>10644</a>\u001b[0m         stacklevel\u001b[39m=\u001b[39mfind_stack_level(),\n\u001b[1;32m  <a href='file:///Users/mary-tziraki/opt/anaconda3/envs/env-DataWrangling/lib/python3.8/site-packages/pandas/core/generic.py?line=10644'>10645</a>\u001b[0m     )\n\u001b[1;32m  <a href='file:///Users/mary-tziraki/opt/anaconda3/envs/env-DataWrangling/lib/python3.8/site-packages/pandas/core/generic.py?line=10645'>10646</a>\u001b[0m     \u001b[39mreturn\u001b[39;00m \u001b[39mself\u001b[39m\u001b[39m.\u001b[39m_agg_by_level(\n\u001b[1;32m  <a href='file:///Users/mary-tziraki/opt/anaconda3/envs/env-DataWrangling/lib/python3.8/site-packages/pandas/core/generic.py?line=10646'>10647</a>\u001b[0m         name, axis\u001b[39m=\u001b[39maxis, level\u001b[39m=\u001b[39mlevel, skipna\u001b[39m=\u001b[39mskipna, numeric_only\u001b[39m=\u001b[39mnumeric_only\n\u001b[1;32m  <a href='file:///Users/mary-tziraki/opt/anaconda3/envs/env-DataWrangling/lib/python3.8/site-packages/pandas/core/generic.py?line=10647'>10648</a>\u001b[0m     )\n\u001b[0;32m> <a href='file:///Users/mary-tziraki/opt/anaconda3/envs/env-DataWrangling/lib/python3.8/site-packages/pandas/core/generic.py?line=10648'>10649</a>\u001b[0m \u001b[39mreturn\u001b[39;00m \u001b[39mself\u001b[39;49m\u001b[39m.\u001b[39;49m_reduce(\n\u001b[1;32m  <a href='file:///Users/mary-tziraki/opt/anaconda3/envs/env-DataWrangling/lib/python3.8/site-packages/pandas/core/generic.py?line=10649'>10650</a>\u001b[0m     func, name\u001b[39m=\u001b[39;49mname, axis\u001b[39m=\u001b[39;49maxis, skipna\u001b[39m=\u001b[39;49mskipna, numeric_only\u001b[39m=\u001b[39;49mnumeric_only\n\u001b[1;32m  <a href='file:///Users/mary-tziraki/opt/anaconda3/envs/env-DataWrangling/lib/python3.8/site-packages/pandas/core/generic.py?line=10650'>10651</a>\u001b[0m )\n",
      "File \u001b[0;32m~/opt/anaconda3/envs/env-DataWrangling/lib/python3.8/site-packages/pandas/core/series.py:4471\u001b[0m, in \u001b[0;36mSeries._reduce\u001b[0;34m(self, op, name, axis, skipna, numeric_only, filter_type, **kwds)\u001b[0m\n\u001b[1;32m   <a href='file:///Users/mary-tziraki/opt/anaconda3/envs/env-DataWrangling/lib/python3.8/site-packages/pandas/core/series.py?line=4466'>4467</a>\u001b[0m     \u001b[39mraise\u001b[39;00m \u001b[39mNotImplementedError\u001b[39;00m(\n\u001b[1;32m   <a href='file:///Users/mary-tziraki/opt/anaconda3/envs/env-DataWrangling/lib/python3.8/site-packages/pandas/core/series.py?line=4467'>4468</a>\u001b[0m         \u001b[39mf\u001b[39m\u001b[39m\"\u001b[39m\u001b[39mSeries.\u001b[39m\u001b[39m{\u001b[39;00mname\u001b[39m}\u001b[39;00m\u001b[39m does not implement \u001b[39m\u001b[39m{\u001b[39;00mkwd_name\u001b[39m}\u001b[39;00m\u001b[39m.\u001b[39m\u001b[39m\"\u001b[39m\n\u001b[1;32m   <a href='file:///Users/mary-tziraki/opt/anaconda3/envs/env-DataWrangling/lib/python3.8/site-packages/pandas/core/series.py?line=4468'>4469</a>\u001b[0m     )\n\u001b[1;32m   <a href='file:///Users/mary-tziraki/opt/anaconda3/envs/env-DataWrangling/lib/python3.8/site-packages/pandas/core/series.py?line=4469'>4470</a>\u001b[0m \u001b[39mwith\u001b[39;00m np\u001b[39m.\u001b[39merrstate(\u001b[39mall\u001b[39m\u001b[39m=\u001b[39m\u001b[39m\"\u001b[39m\u001b[39mignore\u001b[39m\u001b[39m\"\u001b[39m):\n\u001b[0;32m-> <a href='file:///Users/mary-tziraki/opt/anaconda3/envs/env-DataWrangling/lib/python3.8/site-packages/pandas/core/series.py?line=4470'>4471</a>\u001b[0m     \u001b[39mreturn\u001b[39;00m op(delegate, skipna\u001b[39m=\u001b[39;49mskipna, \u001b[39m*\u001b[39;49m\u001b[39m*\u001b[39;49mkwds)\n",
      "File \u001b[0;32m~/opt/anaconda3/envs/env-DataWrangling/lib/python3.8/site-packages/pandas/core/nanops.py:93\u001b[0m, in \u001b[0;36mdisallow.__call__.<locals>._f\u001b[0;34m(*args, **kwargs)\u001b[0m\n\u001b[1;32m     <a href='file:///Users/mary-tziraki/opt/anaconda3/envs/env-DataWrangling/lib/python3.8/site-packages/pandas/core/nanops.py?line=90'>91</a>\u001b[0m \u001b[39mtry\u001b[39;00m:\n\u001b[1;32m     <a href='file:///Users/mary-tziraki/opt/anaconda3/envs/env-DataWrangling/lib/python3.8/site-packages/pandas/core/nanops.py?line=91'>92</a>\u001b[0m     \u001b[39mwith\u001b[39;00m np\u001b[39m.\u001b[39merrstate(invalid\u001b[39m=\u001b[39m\u001b[39m\"\u001b[39m\u001b[39mignore\u001b[39m\u001b[39m\"\u001b[39m):\n\u001b[0;32m---> <a href='file:///Users/mary-tziraki/opt/anaconda3/envs/env-DataWrangling/lib/python3.8/site-packages/pandas/core/nanops.py?line=92'>93</a>\u001b[0m         \u001b[39mreturn\u001b[39;00m f(\u001b[39m*\u001b[39;49margs, \u001b[39m*\u001b[39;49m\u001b[39m*\u001b[39;49mkwargs)\n\u001b[1;32m     <a href='file:///Users/mary-tziraki/opt/anaconda3/envs/env-DataWrangling/lib/python3.8/site-packages/pandas/core/nanops.py?line=93'>94</a>\u001b[0m \u001b[39mexcept\u001b[39;00m \u001b[39mValueError\u001b[39;00m \u001b[39mas\u001b[39;00m e:\n\u001b[1;32m     <a href='file:///Users/mary-tziraki/opt/anaconda3/envs/env-DataWrangling/lib/python3.8/site-packages/pandas/core/nanops.py?line=94'>95</a>\u001b[0m     \u001b[39m# we want to transform an object array\u001b[39;00m\n\u001b[1;32m     <a href='file:///Users/mary-tziraki/opt/anaconda3/envs/env-DataWrangling/lib/python3.8/site-packages/pandas/core/nanops.py?line=95'>96</a>\u001b[0m     \u001b[39m# ValueError message to the more typical TypeError\u001b[39;00m\n\u001b[1;32m     <a href='file:///Users/mary-tziraki/opt/anaconda3/envs/env-DataWrangling/lib/python3.8/site-packages/pandas/core/nanops.py?line=96'>97</a>\u001b[0m     \u001b[39m# e.g. this is normally a disallowed function on\u001b[39;00m\n\u001b[1;32m     <a href='file:///Users/mary-tziraki/opt/anaconda3/envs/env-DataWrangling/lib/python3.8/site-packages/pandas/core/nanops.py?line=97'>98</a>\u001b[0m     \u001b[39m# object arrays that contain strings\u001b[39;00m\n\u001b[1;32m     <a href='file:///Users/mary-tziraki/opt/anaconda3/envs/env-DataWrangling/lib/python3.8/site-packages/pandas/core/nanops.py?line=98'>99</a>\u001b[0m     \u001b[39mif\u001b[39;00m is_object_dtype(args[\u001b[39m0\u001b[39m]):\n",
      "File \u001b[0;32m~/opt/anaconda3/envs/env-DataWrangling/lib/python3.8/site-packages/pandas/core/nanops.py:155\u001b[0m, in \u001b[0;36mbottleneck_switch.__call__.<locals>.f\u001b[0;34m(values, axis, skipna, **kwds)\u001b[0m\n\u001b[1;32m    <a href='file:///Users/mary-tziraki/opt/anaconda3/envs/env-DataWrangling/lib/python3.8/site-packages/pandas/core/nanops.py?line=152'>153</a>\u001b[0m         result \u001b[39m=\u001b[39m alt(values, axis\u001b[39m=\u001b[39maxis, skipna\u001b[39m=\u001b[39mskipna, \u001b[39m*\u001b[39m\u001b[39m*\u001b[39mkwds)\n\u001b[1;32m    <a href='file:///Users/mary-tziraki/opt/anaconda3/envs/env-DataWrangling/lib/python3.8/site-packages/pandas/core/nanops.py?line=153'>154</a>\u001b[0m \u001b[39melse\u001b[39;00m:\n\u001b[0;32m--> <a href='file:///Users/mary-tziraki/opt/anaconda3/envs/env-DataWrangling/lib/python3.8/site-packages/pandas/core/nanops.py?line=154'>155</a>\u001b[0m     result \u001b[39m=\u001b[39m alt(values, axis\u001b[39m=\u001b[39;49maxis, skipna\u001b[39m=\u001b[39;49mskipna, \u001b[39m*\u001b[39;49m\u001b[39m*\u001b[39;49mkwds)\n\u001b[1;32m    <a href='file:///Users/mary-tziraki/opt/anaconda3/envs/env-DataWrangling/lib/python3.8/site-packages/pandas/core/nanops.py?line=156'>157</a>\u001b[0m \u001b[39mreturn\u001b[39;00m result\n",
      "File \u001b[0;32m~/opt/anaconda3/envs/env-DataWrangling/lib/python3.8/site-packages/pandas/core/nanops.py:410\u001b[0m, in \u001b[0;36m_datetimelike_compat.<locals>.new_func\u001b[0;34m(values, axis, skipna, mask, **kwargs)\u001b[0m\n\u001b[1;32m    <a href='file:///Users/mary-tziraki/opt/anaconda3/envs/env-DataWrangling/lib/python3.8/site-packages/pandas/core/nanops.py?line=406'>407</a>\u001b[0m \u001b[39mif\u001b[39;00m datetimelike \u001b[39mand\u001b[39;00m mask \u001b[39mis\u001b[39;00m \u001b[39mNone\u001b[39;00m:\n\u001b[1;32m    <a href='file:///Users/mary-tziraki/opt/anaconda3/envs/env-DataWrangling/lib/python3.8/site-packages/pandas/core/nanops.py?line=407'>408</a>\u001b[0m     mask \u001b[39m=\u001b[39m isna(values)\n\u001b[0;32m--> <a href='file:///Users/mary-tziraki/opt/anaconda3/envs/env-DataWrangling/lib/python3.8/site-packages/pandas/core/nanops.py?line=409'>410</a>\u001b[0m result \u001b[39m=\u001b[39m func(values, axis\u001b[39m=\u001b[39;49maxis, skipna\u001b[39m=\u001b[39;49mskipna, mask\u001b[39m=\u001b[39;49mmask, \u001b[39m*\u001b[39;49m\u001b[39m*\u001b[39;49mkwargs)\n\u001b[1;32m    <a href='file:///Users/mary-tziraki/opt/anaconda3/envs/env-DataWrangling/lib/python3.8/site-packages/pandas/core/nanops.py?line=411'>412</a>\u001b[0m \u001b[39mif\u001b[39;00m datetimelike:\n\u001b[1;32m    <a href='file:///Users/mary-tziraki/opt/anaconda3/envs/env-DataWrangling/lib/python3.8/site-packages/pandas/core/nanops.py?line=412'>413</a>\u001b[0m     result \u001b[39m=\u001b[39m _wrap_results(result, orig_values\u001b[39m.\u001b[39mdtype, fill_value\u001b[39m=\u001b[39miNaT)\n",
      "File \u001b[0;32m~/opt/anaconda3/envs/env-DataWrangling/lib/python3.8/site-packages/pandas/core/nanops.py:698\u001b[0m, in \u001b[0;36mnanmean\u001b[0;34m(values, axis, skipna, mask)\u001b[0m\n\u001b[1;32m    <a href='file:///Users/mary-tziraki/opt/anaconda3/envs/env-DataWrangling/lib/python3.8/site-packages/pandas/core/nanops.py?line=694'>695</a>\u001b[0m     dtype_count \u001b[39m=\u001b[39m dtype\n\u001b[1;32m    <a href='file:///Users/mary-tziraki/opt/anaconda3/envs/env-DataWrangling/lib/python3.8/site-packages/pandas/core/nanops.py?line=696'>697</a>\u001b[0m count \u001b[39m=\u001b[39m _get_counts(values\u001b[39m.\u001b[39mshape, mask, axis, dtype\u001b[39m=\u001b[39mdtype_count)\n\u001b[0;32m--> <a href='file:///Users/mary-tziraki/opt/anaconda3/envs/env-DataWrangling/lib/python3.8/site-packages/pandas/core/nanops.py?line=697'>698</a>\u001b[0m the_sum \u001b[39m=\u001b[39m _ensure_numeric(values\u001b[39m.\u001b[39;49msum(axis, dtype\u001b[39m=\u001b[39;49mdtype_sum))\n\u001b[1;32m    <a href='file:///Users/mary-tziraki/opt/anaconda3/envs/env-DataWrangling/lib/python3.8/site-packages/pandas/core/nanops.py?line=699'>700</a>\u001b[0m \u001b[39mif\u001b[39;00m axis \u001b[39mis\u001b[39;00m \u001b[39mnot\u001b[39;00m \u001b[39mNone\u001b[39;00m \u001b[39mand\u001b[39;00m \u001b[39mgetattr\u001b[39m(the_sum, \u001b[39m\"\u001b[39m\u001b[39mndim\u001b[39m\u001b[39m\"\u001b[39m, \u001b[39mFalse\u001b[39;00m):\n\u001b[1;32m    <a href='file:///Users/mary-tziraki/opt/anaconda3/envs/env-DataWrangling/lib/python3.8/site-packages/pandas/core/nanops.py?line=700'>701</a>\u001b[0m     count \u001b[39m=\u001b[39m cast(np\u001b[39m.\u001b[39mndarray, count)\n",
      "File \u001b[0;32m~/opt/anaconda3/envs/env-DataWrangling/lib/python3.8/site-packages/numpy/core/_methods.py:48\u001b[0m, in \u001b[0;36m_sum\u001b[0;34m(a, axis, dtype, out, keepdims, initial, where)\u001b[0m\n\u001b[1;32m     <a href='file:///Users/mary-tziraki/opt/anaconda3/envs/env-DataWrangling/lib/python3.8/site-packages/numpy/core/_methods.py?line=45'>46</a>\u001b[0m \u001b[39mdef\u001b[39;00m \u001b[39m_sum\u001b[39m(a, axis\u001b[39m=\u001b[39m\u001b[39mNone\u001b[39;00m, dtype\u001b[39m=\u001b[39m\u001b[39mNone\u001b[39;00m, out\u001b[39m=\u001b[39m\u001b[39mNone\u001b[39;00m, keepdims\u001b[39m=\u001b[39m\u001b[39mFalse\u001b[39;00m,\n\u001b[1;32m     <a href='file:///Users/mary-tziraki/opt/anaconda3/envs/env-DataWrangling/lib/python3.8/site-packages/numpy/core/_methods.py?line=46'>47</a>\u001b[0m          initial\u001b[39m=\u001b[39m_NoValue, where\u001b[39m=\u001b[39m\u001b[39mTrue\u001b[39;00m):\n\u001b[0;32m---> <a href='file:///Users/mary-tziraki/opt/anaconda3/envs/env-DataWrangling/lib/python3.8/site-packages/numpy/core/_methods.py?line=47'>48</a>\u001b[0m     \u001b[39mreturn\u001b[39;00m umr_sum(a, axis, dtype, out, keepdims, initial, where)\n",
      "\u001b[0;31mTypeError\u001b[0m: can only concatenate str (not \"int\") to str"
     ]
    }
   ],
   "source": [
    "data_raw_suicides_mean = data_raw['suicides_no'].mean()"
   ]
  },
  {
   "cell_type": "markdown",
   "metadata": {},
   "source": [
    "### ERROR !\n",
    " We observe that:\n",
    "There are  string values at the suicide_no column and we cannot find the mean with the .mean() method because it applies only to integers or strings!\n",
    "\n",
    "Lets to display all the unique values in the column of 'suicides_no' with the method **.unique()** and change the type of these values to integers using typecasting **.astype(int)**.\n",
    " "
   ]
  },
  {
   "cell_type": "code",
   "execution_count": 115,
   "metadata": {},
   "outputs": [
    {
     "ename": "ValueError",
     "evalue": "cannot convert float NaN to integer",
     "output_type": "error",
     "traceback": [
      "\u001b[0;31m---------------------------------------------------------------------------\u001b[0m",
      "\u001b[0;31mValueError\u001b[0m                                Traceback (most recent call last)",
      "\u001b[1;32m/Users/mary-tziraki/git/TeamCoders_Event_Based_Model/2_DataCleaningAndWrangling/Data_Wrangling_WHO.ipynb Cell 47'\u001b[0m in \u001b[0;36m<module>\u001b[0;34m\u001b[0m\n\u001b[0;32m----> <a href='vscode-notebook-cell:/Users/mary-tziraki/git/TeamCoders_Event_Based_Model/2_DataCleaningAndWrangling/Data_Wrangling_WHO.ipynb#ch0000046?line=0'>1</a>\u001b[0m data_raw_suicides \u001b[39m=\u001b[39m data_raw[\u001b[39m'\u001b[39;49m\u001b[39msuicides_no\u001b[39;49m\u001b[39m'\u001b[39;49m]\u001b[39m.\u001b[39;49munique()\u001b[39m.\u001b[39;49mastype(\u001b[39mint\u001b[39;49m) \u001b[39m# Convert the data into the suicides_no column into an integer\u001b[39;00m\n\u001b[1;32m      <a href='vscode-notebook-cell:/Users/mary-tziraki/git/TeamCoders_Event_Based_Model/2_DataCleaningAndWrangling/Data_Wrangling_WHO.ipynb#ch0000046?line=1'>2</a>\u001b[0m data_raw_suicides\n",
      "\u001b[0;31mValueError\u001b[0m: cannot convert float NaN to integer"
     ]
    }
   ],
   "source": [
    "data_raw_suicides = data_raw['suicides_no'].unique().astype(int) # Convert the data into the suicides_no column into an integer\n",
    "data_raw_suicides"
   ]
  },
  {
   "cell_type": "markdown",
   "metadata": {},
   "source": [
    "### Error and Observations:\n",
    "   * There are many NaN (Not a Number) data points in the suicide_no column, that indicate missing values and these cannot converted into integer.\n",
    "   * As displayed at the data_raw above the HDI column is dominated by NaN. We need to delete the column with the Human Development Index because we will not use it for the analysis and it has lots of missing values that we cannot deal with them. We will also save space and time. \n",
    "   "
   ]
  },
  {
   "cell_type": "markdown",
   "metadata": {},
   "source": [
    "\n",
    "# 3) **How to work with missing data?**\n",
    "As we can see, there are several NaN (not a number) in the data frame, it might also be word  Null or any other words and string values. Those are missing values which may hinder our further analysis. I'm showing here, how do we identify all those missing values and work with missing data in order to bring our Data Frame at a format that is ready for analysis.\n",
    "\n",
    "Steps for working with missing data:\n",
    "\n",
    "</ol>\n",
    "    <li>Identify missing data</li>\n",
    "    <li>Deal with missing data</li>\n",
    "    <li>Correct data format</li>\n",
    "</ol>\n",
    "\n",
    "\n"
   ]
  },
  {
   "cell_type": "markdown",
   "metadata": {},
   "source": [
    "\n",
    "<h2 id=\"Identify_missing_Data\">3.1 Identify missing Data </h2>"
   ]
  },
  {
   "cell_type": "markdown",
   "metadata": {},
   "source": [
    "\n",
    "\n",
    "The missing values are converted by default to Null. We use the following functions to identify these missing values. There are two methods to detect missing data:\n",
    "\n",
    "**.isnull()**\n",
    "**.notnull()**\n",
    "The output is a boolean value indicating whether the value that is passed into the argument is in fact missing data.\n",
    "\n"
   ]
  },
  {
   "cell_type": "markdown",
   "metadata": {},
   "source": [
    "When we use the **isnull()** method the output is True when there is Null, and False when there is a real value. The opposite happens when we use the .notnull() method"
   ]
  },
  {
   "cell_type": "code",
   "execution_count": 424,
   "metadata": {},
   "outputs": [
    {
     "data": {
      "text/plain": [
       "country  year   sex    age    suicides_no  population  HDI for year   gdp_for_year ($) \n",
       "False    False  False  False  False        False       True          False                 16357\n",
       "                                                       False         False                  7218\n",
       "                              True         False       True          False                  3115\n",
       "                                                       False         False                  1150\n",
       "dtype: int64"
      ]
     },
     "execution_count": 424,
     "metadata": {},
     "output_type": "execute_result"
    }
   ],
   "source": [
    "(data_raw.isnull()).value_counts() # Indicates with True that there are Nulls and counts the values that are numbers "
   ]
  },
  {
   "cell_type": "markdown",
   "metadata": {},
   "source": [
    "There are Null values in just two columns at the suicides_no and at the HDI for year column"
   ]
  },
  {
   "cell_type": "markdown",
   "metadata": {},
   "source": [
    "The opposite we observe with **.notnull()** Similar to not null is to use the **(~)** in front of the dataset and then the .isnull(). The tilde sign indicates negation.  "
   ]
  },
  {
   "cell_type": "code",
   "execution_count": 425,
   "metadata": {},
   "outputs": [
    {
     "data": {
      "text/plain": [
       "country  year  sex   age   suicides_no  population  HDI for year   gdp_for_year ($) \n",
       "True     True  True  True  True         True        False         True                  16357\n",
       "                                                    True          True                   7218\n",
       "                           False        True        False         True                   3115\n",
       "                                                    True          True                   1150\n",
       "dtype: int64"
      ]
     },
     "execution_count": 425,
     "metadata": {},
     "output_type": "execute_result"
    }
   ],
   "source": [
    "(data_raw.notnull()).value_counts() # Indicates with True that we have values and with False where there are Nulls and counts the values that are numbers (not Null)"
   ]
  },
  {
   "cell_type": "code",
   "execution_count": 426,
   "metadata": {},
   "outputs": [
    {
     "data": {
      "text/plain": [
       "country  year  sex   age   suicides_no  population  HDI for year   gdp_for_year ($) \n",
       "True     True  True  True  True         True        False         True                  16357\n",
       "                                                    True          True                   7218\n",
       "                           False        True        False         True                   3115\n",
       "                                                    True          True                   1150\n",
       "dtype: int64"
      ]
     },
     "execution_count": 426,
     "metadata": {},
     "output_type": "execute_result"
    }
   ],
   "source": [
    "(~data_raw.isnull()).value_counts() # The ~ indicates negation and here in front of isnull results to notnull()"
   ]
  },
  {
   "cell_type": "markdown",
   "metadata": {},
   "source": [
    "#### We can have the same result but reverted Booleans by using the **.notnull()** method.\n",
    "\n",
    "**(~data_raw.isnull()).value_counts()** # The tilde symbol indicates negation and here in front of isnull results to notnull()\n",
    "\n",
    "**(data_raw.notnull()).value_counts()** # Indicates with False that there are Nulls and counts the values that are numbers \n"
   ]
  },
  {
   "cell_type": "code",
   "execution_count": 427,
   "metadata": {
    "scrolled": true
   },
   "outputs": [
    {
     "data": {
      "text/html": [
       "<div>\n",
       "<style scoped>\n",
       "    .dataframe tbody tr th:only-of-type {\n",
       "        vertical-align: middle;\n",
       "    }\n",
       "\n",
       "    .dataframe tbody tr th {\n",
       "        vertical-align: top;\n",
       "    }\n",
       "\n",
       "    .dataframe thead th {\n",
       "        text-align: right;\n",
       "    }\n",
       "</style>\n",
       "<table border=\"1\" class=\"dataframe\">\n",
       "  <thead>\n",
       "    <tr style=\"text-align: right;\">\n",
       "      <th></th>\n",
       "      <th>country</th>\n",
       "      <th>year</th>\n",
       "      <th>sex</th>\n",
       "      <th>age</th>\n",
       "      <th>suicides_no</th>\n",
       "      <th>population</th>\n",
       "      <th>HDI for year</th>\n",
       "      <th>gdp_for_year ($)</th>\n",
       "    </tr>\n",
       "  </thead>\n",
       "  <tbody>\n",
       "    <tr>\n",
       "      <th>0</th>\n",
       "      <td>False</td>\n",
       "      <td>False</td>\n",
       "      <td>False</td>\n",
       "      <td>False</td>\n",
       "      <td>False</td>\n",
       "      <td>False</td>\n",
       "      <td>True</td>\n",
       "      <td>False</td>\n",
       "    </tr>\n",
       "    <tr>\n",
       "      <th>1</th>\n",
       "      <td>False</td>\n",
       "      <td>False</td>\n",
       "      <td>False</td>\n",
       "      <td>False</td>\n",
       "      <td>False</td>\n",
       "      <td>False</td>\n",
       "      <td>True</td>\n",
       "      <td>False</td>\n",
       "    </tr>\n",
       "    <tr>\n",
       "      <th>2</th>\n",
       "      <td>False</td>\n",
       "      <td>False</td>\n",
       "      <td>False</td>\n",
       "      <td>False</td>\n",
       "      <td>False</td>\n",
       "      <td>False</td>\n",
       "      <td>True</td>\n",
       "      <td>False</td>\n",
       "    </tr>\n",
       "    <tr>\n",
       "      <th>3</th>\n",
       "      <td>False</td>\n",
       "      <td>False</td>\n",
       "      <td>False</td>\n",
       "      <td>False</td>\n",
       "      <td>False</td>\n",
       "      <td>False</td>\n",
       "      <td>True</td>\n",
       "      <td>False</td>\n",
       "    </tr>\n",
       "    <tr>\n",
       "      <th>4</th>\n",
       "      <td>False</td>\n",
       "      <td>False</td>\n",
       "      <td>False</td>\n",
       "      <td>False</td>\n",
       "      <td>False</td>\n",
       "      <td>False</td>\n",
       "      <td>True</td>\n",
       "      <td>False</td>\n",
       "    </tr>\n",
       "    <tr>\n",
       "      <th>5</th>\n",
       "      <td>False</td>\n",
       "      <td>False</td>\n",
       "      <td>False</td>\n",
       "      <td>False</td>\n",
       "      <td>False</td>\n",
       "      <td>False</td>\n",
       "      <td>True</td>\n",
       "      <td>False</td>\n",
       "    </tr>\n",
       "    <tr>\n",
       "      <th>6</th>\n",
       "      <td>False</td>\n",
       "      <td>False</td>\n",
       "      <td>False</td>\n",
       "      <td>False</td>\n",
       "      <td>False</td>\n",
       "      <td>False</td>\n",
       "      <td>True</td>\n",
       "      <td>False</td>\n",
       "    </tr>\n",
       "    <tr>\n",
       "      <th>7</th>\n",
       "      <td>False</td>\n",
       "      <td>False</td>\n",
       "      <td>False</td>\n",
       "      <td>False</td>\n",
       "      <td>False</td>\n",
       "      <td>False</td>\n",
       "      <td>True</td>\n",
       "      <td>False</td>\n",
       "    </tr>\n",
       "    <tr>\n",
       "      <th>8</th>\n",
       "      <td>False</td>\n",
       "      <td>False</td>\n",
       "      <td>False</td>\n",
       "      <td>False</td>\n",
       "      <td>False</td>\n",
       "      <td>False</td>\n",
       "      <td>True</td>\n",
       "      <td>False</td>\n",
       "    </tr>\n",
       "    <tr>\n",
       "      <th>9</th>\n",
       "      <td>False</td>\n",
       "      <td>False</td>\n",
       "      <td>False</td>\n",
       "      <td>False</td>\n",
       "      <td>True</td>\n",
       "      <td>False</td>\n",
       "      <td>True</td>\n",
       "      <td>False</td>\n",
       "    </tr>\n",
       "    <tr>\n",
       "      <th>10</th>\n",
       "      <td>False</td>\n",
       "      <td>False</td>\n",
       "      <td>False</td>\n",
       "      <td>False</td>\n",
       "      <td>True</td>\n",
       "      <td>False</td>\n",
       "      <td>True</td>\n",
       "      <td>False</td>\n",
       "    </tr>\n",
       "    <tr>\n",
       "      <th>11</th>\n",
       "      <td>False</td>\n",
       "      <td>False</td>\n",
       "      <td>False</td>\n",
       "      <td>False</td>\n",
       "      <td>True</td>\n",
       "      <td>False</td>\n",
       "      <td>True</td>\n",
       "      <td>False</td>\n",
       "    </tr>\n",
       "    <tr>\n",
       "      <th>12</th>\n",
       "      <td>False</td>\n",
       "      <td>False</td>\n",
       "      <td>False</td>\n",
       "      <td>False</td>\n",
       "      <td>False</td>\n",
       "      <td>False</td>\n",
       "      <td>True</td>\n",
       "      <td>False</td>\n",
       "    </tr>\n",
       "    <tr>\n",
       "      <th>13</th>\n",
       "      <td>False</td>\n",
       "      <td>False</td>\n",
       "      <td>False</td>\n",
       "      <td>False</td>\n",
       "      <td>False</td>\n",
       "      <td>False</td>\n",
       "      <td>True</td>\n",
       "      <td>False</td>\n",
       "    </tr>\n",
       "    <tr>\n",
       "      <th>14</th>\n",
       "      <td>False</td>\n",
       "      <td>False</td>\n",
       "      <td>False</td>\n",
       "      <td>False</td>\n",
       "      <td>False</td>\n",
       "      <td>False</td>\n",
       "      <td>True</td>\n",
       "      <td>False</td>\n",
       "    </tr>\n",
       "    <tr>\n",
       "      <th>15</th>\n",
       "      <td>False</td>\n",
       "      <td>False</td>\n",
       "      <td>False</td>\n",
       "      <td>False</td>\n",
       "      <td>False</td>\n",
       "      <td>False</td>\n",
       "      <td>True</td>\n",
       "      <td>False</td>\n",
       "    </tr>\n",
       "    <tr>\n",
       "      <th>16</th>\n",
       "      <td>False</td>\n",
       "      <td>False</td>\n",
       "      <td>False</td>\n",
       "      <td>False</td>\n",
       "      <td>False</td>\n",
       "      <td>False</td>\n",
       "      <td>True</td>\n",
       "      <td>False</td>\n",
       "    </tr>\n",
       "    <tr>\n",
       "      <th>17</th>\n",
       "      <td>False</td>\n",
       "      <td>False</td>\n",
       "      <td>False</td>\n",
       "      <td>False</td>\n",
       "      <td>False</td>\n",
       "      <td>False</td>\n",
       "      <td>True</td>\n",
       "      <td>False</td>\n",
       "    </tr>\n",
       "    <tr>\n",
       "      <th>18</th>\n",
       "      <td>False</td>\n",
       "      <td>False</td>\n",
       "      <td>False</td>\n",
       "      <td>False</td>\n",
       "      <td>False</td>\n",
       "      <td>False</td>\n",
       "      <td>True</td>\n",
       "      <td>False</td>\n",
       "    </tr>\n",
       "    <tr>\n",
       "      <th>19</th>\n",
       "      <td>False</td>\n",
       "      <td>False</td>\n",
       "      <td>False</td>\n",
       "      <td>False</td>\n",
       "      <td>False</td>\n",
       "      <td>False</td>\n",
       "      <td>True</td>\n",
       "      <td>False</td>\n",
       "    </tr>\n",
       "  </tbody>\n",
       "</table>\n",
       "</div>"
      ],
      "text/plain": [
       "0   country   year    sex    age  suicides_no  population  HDI for year  \\\n",
       "0     False  False  False  False        False       False          True   \n",
       "1     False  False  False  False        False       False          True   \n",
       "2     False  False  False  False        False       False          True   \n",
       "3     False  False  False  False        False       False          True   \n",
       "4     False  False  False  False        False       False          True   \n",
       "5     False  False  False  False        False       False          True   \n",
       "6     False  False  False  False        False       False          True   \n",
       "7     False  False  False  False        False       False          True   \n",
       "8     False  False  False  False        False       False          True   \n",
       "9     False  False  False  False         True       False          True   \n",
       "10    False  False  False  False         True       False          True   \n",
       "11    False  False  False  False         True       False          True   \n",
       "12    False  False  False  False        False       False          True   \n",
       "13    False  False  False  False        False       False          True   \n",
       "14    False  False  False  False        False       False          True   \n",
       "15    False  False  False  False        False       False          True   \n",
       "16    False  False  False  False        False       False          True   \n",
       "17    False  False  False  False        False       False          True   \n",
       "18    False  False  False  False        False       False          True   \n",
       "19    False  False  False  False        False       False          True   \n",
       "\n",
       "0    gdp_for_year ($)   \n",
       "0                False  \n",
       "1                False  \n",
       "2                False  \n",
       "3                False  \n",
       "4                False  \n",
       "5                False  \n",
       "6                False  \n",
       "7                False  \n",
       "8                False  \n",
       "9                False  \n",
       "10               False  \n",
       "11               False  \n",
       "12               False  \n",
       "13               False  \n",
       "14               False  \n",
       "15               False  \n",
       "16               False  \n",
       "17               False  \n",
       "18               False  \n",
       "19               False  "
      ]
     },
     "execution_count": 427,
     "metadata": {},
     "output_type": "execute_result"
    }
   ],
   "source": [
    "missing_data = data_raw.isnull() # find data that are null and return 'True' if is null and 'False' if it is not\n",
    "missing_data.head(20)"
   ]
  },
  {
   "cell_type": "markdown",
   "metadata": {},
   "source": [
    "### **How to count the missing values in the data frame**."
   ]
  },
  {
   "cell_type": "markdown",
   "metadata": {},
   "source": [
    "### Count missing values in each column\n",
    "\n",
    "Using a for loop in Python, we can quickly figure out the number of missing values in each column. As mentioned above, \"True\" represents a missing value and \"False\" means the value is present in the dataset.  In the body of the for loop the method **\".value_counts()\"** counts the number of data values, (number of  \"False\" here). \n",
    "\n",
    "\n"
   ]
  },
  {
   "cell_type": "code",
   "execution_count": 428,
   "metadata": {},
   "outputs": [],
   "source": [
    "missing_data=(data_raw.isnull())"
   ]
  },
  {
   "cell_type": "code",
   "execution_count": 429,
   "metadata": {},
   "outputs": [
    {
     "data": {
      "text/plain": [
       "pandas.core.frame.DataFrame"
      ]
     },
     "execution_count": 429,
     "metadata": {},
     "output_type": "execute_result"
    }
   ],
   "source": [
    "type(missing_data)"
   ]
  },
  {
   "cell_type": "code",
   "execution_count": null,
   "metadata": {
    "scrolled": true
   },
   "outputs": [
    {
     "name": "stdout",
     "output_type": "stream",
     "text": [
      "country\n",
      "False    27840\n",
      "Name: country, dtype: int64\n",
      "year\n",
      "False    27840\n",
      "Name: year, dtype: int64\n",
      "sex\n",
      "False    27840\n",
      "Name: sex, dtype: int64\n",
      "age\n",
      "False    27840\n",
      "Name: age, dtype: int64\n",
      "suicides_no\n",
      "False    23575\n",
      "True      4265\n",
      "Name: suicides_no, dtype: int64\n",
      "population\n",
      "False    27840\n",
      "Name: population, dtype: int64\n",
      "HDI for year\n",
      "True     19472\n",
      "False     8368\n",
      "Name: HDI for year, dtype: int64\n",
      " gdp_for_year ($) \n",
      "False    27840\n",
      "Name:  gdp_for_year ($) , dtype: int64\n"
     ]
    }
   ],
   "source": [
    "#The commented code give the sa,me result as the one that follows but is shortened as puts the methods together.\n",
    "#for column in missing_data.columns.values.tolist():  # Take the data Frame missing_data,selects the columns and their values and makes a list of them.  \n",
    " #print(column)\n",
    " #print (missing_data[column].value_counts())\n",
    " ## print(\"\") "
   ]
  },
  {
   "cell_type": "code",
   "execution_count": 430,
   "metadata": {},
   "outputs": [
    {
     "name": "stdout",
     "output_type": "stream",
     "text": [
      "country\n",
      "False    27840\n",
      "Name: country, dtype: int64\n",
      "----\n",
      "year\n",
      "False    27840\n",
      "Name: year, dtype: int64\n",
      "----\n",
      "sex\n",
      "False    27840\n",
      "Name: sex, dtype: int64\n",
      "----\n",
      "age\n",
      "False    27840\n",
      "Name: age, dtype: int64\n",
      "----\n",
      "suicides_no\n",
      "False    23575\n",
      "True      4265\n",
      "Name: suicides_no, dtype: int64\n",
      "----\n",
      "population\n",
      "False    27840\n",
      "Name: population, dtype: int64\n",
      "----\n",
      "HDI for year\n",
      "True     19472\n",
      "False     8368\n",
      "Name: HDI for year, dtype: int64\n",
      "----\n",
      " gdp_for_year ($) \n",
      "False    27840\n",
      "Name:  gdp_for_year ($) , dtype: int64\n",
      "----\n"
     ]
    }
   ],
   "source": [
    "for column in data_raw.columns:\n",
    "    print(column)\n",
    "    print(missing_data[column].value_counts())\n",
    "    print('----')"
   ]
  },
  {
   "cell_type": "markdown",
   "metadata": {},
   "source": [
    "As discussed the only columns that contain missing data are the \"suicides_no'and the HDI."
   ]
  },
  {
   "cell_type": "code",
   "execution_count": 431,
   "metadata": {},
   "outputs": [
    {
     "name": "stdout",
     "output_type": "stream",
     "text": [
      "0\n",
      "country                   0\n",
      "year                      0\n",
      "sex                       0\n",
      "age                       0\n",
      "suicides_no            4265\n",
      "population                0\n",
      "HDI for year          19472\n",
      " gdp_for_year ($)         0\n",
      "dtype: int64\n"
     ]
    }
   ],
   "source": [
    "print (data_raw.isnull().sum()) # Find the data that are Null in the whole data frame  "
   ]
  },
  {
   "cell_type": "markdown",
   "metadata": {},
   "source": [
    "The length of the dataframe is 27841 and the column suicides_no has 23575 numbers. It is shorter than the total length of the data 27841 by 27841- 23575= 4265. It is indicated as True (is null) in the count. The missing values therefore there must be strings characters in the column. We need to investigate it.\n",
    "\n",
    "The HDI column has lots of missing data 19472 values are missing. We will not use it for the analysis and it will be good to delete this column."
   ]
  },
  {
   "cell_type": "markdown",
   "metadata": {},
   "source": [
    "## **How to investigate if there are words as string values in the column and indicate them.**\n",
    "There are two was to identify the non-integer values in the column suicides_no>\n",
    "1) Using the module Regular expressions which we need to import as re. \n",
    "A regular expression is a special sequence of characters that helps you match or find other strings or sets of strings, using a specialized syntax held in a pattern.\n",
    "\n",
    "2) Find the non numeric data with the method **.str.isdigit()** and set it to False that way it collects all the data points that are strings."
   ]
  },
  {
   "cell_type": "markdown",
   "metadata": {},
   "source": [
    "### 1st Way Regular expressions module **re**"
   ]
  },
  {
   "cell_type": "code",
   "execution_count": 432,
   "metadata": {},
   "outputs": [
    {
     "data": {
      "text/plain": [
       "array([nan, 'Null', 'Unknown'], dtype=object)"
      ]
     },
     "execution_count": 432,
     "metadata": {},
     "output_type": "execute_result"
    }
   ],
   "source": [
    "# Import module Regular expressions as re.\n",
    "#The re module provides an interface to the regular expression engine, \n",
    "# allowing you to compile REs into objects and then perform matches with them\n",
    "import re \n",
    "replace = re.compile(\"([a-zA-Z]+)\")  # compile any alphabetic character\n",
    "\n",
    "data_raw['string'] = data_raw['suicides_no'].str.extract(replace) # Adds a column string to the data set with all the strings which have letters\n",
    "data_raw['integer'] = data_raw['suicides_no'].str.replace(replace, \" \") #Adds a column integer to the data set \n",
    "\n",
    "data_raw['string'].unique() # Presents the unique \"words\" from the string column"
   ]
  },
  {
   "cell_type": "markdown",
   "metadata": {},
   "source": [
    " In the column suicide-no there are the strings **'Null'**, **'Unknown'** and **nan (not a number)** and we need to replace them."
   ]
  },
  {
   "cell_type": "markdown",
   "metadata": {},
   "source": [
    "### 2nd Way without is to use the **.isdigit()** method to a string.\n"
   ]
  },
  {
   "cell_type": "markdown",
   "metadata": {},
   "source": [
    "The following code takes all the strings in the column which have digits and sets it to False. Which means that takes all the strings that have no digits. Using the method **unique()** identifies which are these strings."
   ]
  },
  {
   "cell_type": "code",
   "execution_count": 124,
   "metadata": {},
   "outputs": [],
   "source": [
    "non_numeric=data_raw['suicides_no'].str.isdigit() == False"
   ]
  },
  {
   "cell_type": "code",
   "execution_count": 125,
   "metadata": {},
   "outputs": [
    {
     "data": {
      "text/plain": [
       "pandas.core.series.Series"
      ]
     },
     "execution_count": 125,
     "metadata": {},
     "output_type": "execute_result"
    }
   ],
   "source": [
    "type (non_numeric)# The non_numerinc is 1D array, Series "
   ]
  },
  {
   "cell_type": "code",
   "execution_count": 126,
   "metadata": {},
   "outputs": [
    {
     "data": {
      "text/plain": [
       "array(['Null', 'Unknown'], dtype=object)"
      ]
     },
     "execution_count": 126,
     "metadata": {},
     "output_type": "execute_result"
    }
   ],
   "source": [
    "data_raw['suicides_no'][non_numeric].unique()"
   ]
  },
  {
   "cell_type": "markdown",
   "metadata": {},
   "source": [
    "We observe that there are not only the NaN strings but there are also the \"Null\" and \"Unknown\" strings and we need to remove them"
   ]
  },
  {
   "cell_type": "markdown",
   "metadata": {},
   "source": [
    "We cannot see the NaN values and we apply the pd.numeric (explain)"
   ]
  },
  {
   "cell_type": "markdown",
   "metadata": {},
   "source": [
    "It's an elegant way to find the strings and words in the datasets without the regular expresions, however it doesn't show us the NaN datapoints. We can add this with the following coding which is more complete and shorten than regular expresions (re)."
   ]
  },
  {
   "cell_type": "code",
   "execution_count": 127,
   "metadata": {},
   "outputs": [],
   "source": [
    "suicides =data_raw['suicides_no']"
   ]
  },
  {
   "cell_type": "code",
   "execution_count": 128,
   "metadata": {},
   "outputs": [],
   "source": [
    "suicides2 = suicides.apply(pd.to_numeric, errors='coerce')"
   ]
  },
  {
   "cell_type": "code",
   "execution_count": 129,
   "metadata": {},
   "outputs": [
    {
     "name": "stdout",
     "output_type": "stream",
     "text": [
      "[nan 'Null' 'Unknown']\n"
     ]
    }
   ],
   "source": [
    "print(data_raw['suicides_no'][suicides2.isna()].unique())# Shows the data which are not numeric"
   ]
  },
  {
   "cell_type": "markdown",
   "metadata": {},
   "source": [
    "The above shows that in the data there are points which as NaN (not an number) and have the word Null and Unknown."
   ]
  },
  {
   "cell_type": "code",
   "execution_count": 433,
   "metadata": {},
   "outputs": [
    {
     "data": {
      "text/html": [
       "<div>\n",
       "<style scoped>\n",
       "    .dataframe tbody tr th:only-of-type {\n",
       "        vertical-align: middle;\n",
       "    }\n",
       "\n",
       "    .dataframe tbody tr th {\n",
       "        vertical-align: top;\n",
       "    }\n",
       "\n",
       "    .dataframe thead th {\n",
       "        text-align: right;\n",
       "    }\n",
       "</style>\n",
       "<table border=\"1\" class=\"dataframe\">\n",
       "  <thead>\n",
       "    <tr style=\"text-align: right;\">\n",
       "      <th></th>\n",
       "      <th>country</th>\n",
       "      <th>year</th>\n",
       "      <th>sex</th>\n",
       "      <th>age</th>\n",
       "      <th>suicides_no</th>\n",
       "      <th>population</th>\n",
       "      <th>HDI for year</th>\n",
       "      <th>gdp_for_year ($)</th>\n",
       "      <th>string</th>\n",
       "      <th>integer</th>\n",
       "    </tr>\n",
       "  </thead>\n",
       "  <tbody>\n",
       "    <tr>\n",
       "      <th>0</th>\n",
       "      <td>Albania</td>\n",
       "      <td>1987</td>\n",
       "      <td>male</td>\n",
       "      <td>15-24 years</td>\n",
       "      <td>21</td>\n",
       "      <td>312900</td>\n",
       "      <td>NaN</td>\n",
       "      <td>2,156,624,900</td>\n",
       "      <td>NaN</td>\n",
       "      <td>21</td>\n",
       "    </tr>\n",
       "    <tr>\n",
       "      <th>1</th>\n",
       "      <td>Albania</td>\n",
       "      <td>1987</td>\n",
       "      <td>male</td>\n",
       "      <td>35-54 years</td>\n",
       "      <td>16</td>\n",
       "      <td>308000</td>\n",
       "      <td>NaN</td>\n",
       "      <td>2,156,624,900</td>\n",
       "      <td>NaN</td>\n",
       "      <td>16</td>\n",
       "    </tr>\n",
       "    <tr>\n",
       "      <th>2</th>\n",
       "      <td>Albania</td>\n",
       "      <td>1987</td>\n",
       "      <td>female</td>\n",
       "      <td>15-24 years</td>\n",
       "      <td>14</td>\n",
       "      <td>289700</td>\n",
       "      <td>NaN</td>\n",
       "      <td>2,156,624,900</td>\n",
       "      <td>NaN</td>\n",
       "      <td>14</td>\n",
       "    </tr>\n",
       "    <tr>\n",
       "      <th>3</th>\n",
       "      <td>Albania</td>\n",
       "      <td>1987</td>\n",
       "      <td>male</td>\n",
       "      <td>75+ years</td>\n",
       "      <td>1</td>\n",
       "      <td>21800</td>\n",
       "      <td>NaN</td>\n",
       "      <td>2,156,624,900</td>\n",
       "      <td>NaN</td>\n",
       "      <td>1</td>\n",
       "    </tr>\n",
       "    <tr>\n",
       "      <th>4</th>\n",
       "      <td>Albania</td>\n",
       "      <td>1987</td>\n",
       "      <td>male</td>\n",
       "      <td>25-34 years</td>\n",
       "      <td>9</td>\n",
       "      <td>274300</td>\n",
       "      <td>NaN</td>\n",
       "      <td>2,156,624,900</td>\n",
       "      <td>NaN</td>\n",
       "      <td>9</td>\n",
       "    </tr>\n",
       "    <tr>\n",
       "      <th>5</th>\n",
       "      <td>Albania</td>\n",
       "      <td>1987</td>\n",
       "      <td>female</td>\n",
       "      <td>75+ years</td>\n",
       "      <td>1</td>\n",
       "      <td>35600</td>\n",
       "      <td>NaN</td>\n",
       "      <td>2,156,624,900</td>\n",
       "      <td>NaN</td>\n",
       "      <td>1</td>\n",
       "    </tr>\n",
       "    <tr>\n",
       "      <th>6</th>\n",
       "      <td>Albania</td>\n",
       "      <td>1987</td>\n",
       "      <td>female</td>\n",
       "      <td>35-54 years</td>\n",
       "      <td>6</td>\n",
       "      <td>278800</td>\n",
       "      <td>NaN</td>\n",
       "      <td>2,156,624,900</td>\n",
       "      <td>NaN</td>\n",
       "      <td>6</td>\n",
       "    </tr>\n",
       "    <tr>\n",
       "      <th>7</th>\n",
       "      <td>Albania</td>\n",
       "      <td>1987</td>\n",
       "      <td>female</td>\n",
       "      <td>25-34 years</td>\n",
       "      <td>4</td>\n",
       "      <td>257200</td>\n",
       "      <td>NaN</td>\n",
       "      <td>2,156,624,900</td>\n",
       "      <td>NaN</td>\n",
       "      <td>4</td>\n",
       "    </tr>\n",
       "    <tr>\n",
       "      <th>8</th>\n",
       "      <td>Albania</td>\n",
       "      <td>1987</td>\n",
       "      <td>male</td>\n",
       "      <td>55-74 years</td>\n",
       "      <td>1</td>\n",
       "      <td>137500</td>\n",
       "      <td>NaN</td>\n",
       "      <td>2,156,624,900</td>\n",
       "      <td>NaN</td>\n",
       "      <td>1</td>\n",
       "    </tr>\n",
       "    <tr>\n",
       "      <th>9</th>\n",
       "      <td>Albania</td>\n",
       "      <td>1987</td>\n",
       "      <td>female</td>\n",
       "      <td>5-14 years</td>\n",
       "      <td>NaN</td>\n",
       "      <td>311000</td>\n",
       "      <td>NaN</td>\n",
       "      <td>2,156,624,900</td>\n",
       "      <td>NaN</td>\n",
       "      <td>NaN</td>\n",
       "    </tr>\n",
       "    <tr>\n",
       "      <th>10</th>\n",
       "      <td>Albania</td>\n",
       "      <td>1987</td>\n",
       "      <td>female</td>\n",
       "      <td>55-74 years</td>\n",
       "      <td>NaN</td>\n",
       "      <td>144600</td>\n",
       "      <td>NaN</td>\n",
       "      <td>2,156,624,900</td>\n",
       "      <td>NaN</td>\n",
       "      <td>NaN</td>\n",
       "    </tr>\n",
       "    <tr>\n",
       "      <th>11</th>\n",
       "      <td>Albania</td>\n",
       "      <td>1987</td>\n",
       "      <td>male</td>\n",
       "      <td>5-14 years</td>\n",
       "      <td>NaN</td>\n",
       "      <td>338200</td>\n",
       "      <td>NaN</td>\n",
       "      <td>2,156,624,900</td>\n",
       "      <td>NaN</td>\n",
       "      <td>NaN</td>\n",
       "    </tr>\n",
       "    <tr>\n",
       "      <th>12</th>\n",
       "      <td>Albania</td>\n",
       "      <td>1988</td>\n",
       "      <td>female</td>\n",
       "      <td>75+ years</td>\n",
       "      <td>2</td>\n",
       "      <td>36400</td>\n",
       "      <td>NaN</td>\n",
       "      <td>2,126,000,000</td>\n",
       "      <td>NaN</td>\n",
       "      <td>2</td>\n",
       "    </tr>\n",
       "    <tr>\n",
       "      <th>13</th>\n",
       "      <td>Albania</td>\n",
       "      <td>1988</td>\n",
       "      <td>male</td>\n",
       "      <td>15-24 years</td>\n",
       "      <td>17</td>\n",
       "      <td>319200</td>\n",
       "      <td>NaN</td>\n",
       "      <td>2,126,000,000</td>\n",
       "      <td>NaN</td>\n",
       "      <td>17</td>\n",
       "    </tr>\n",
       "    <tr>\n",
       "      <th>14</th>\n",
       "      <td>Albania</td>\n",
       "      <td>1988</td>\n",
       "      <td>male</td>\n",
       "      <td>75+ years</td>\n",
       "      <td>1</td>\n",
       "      <td>22300</td>\n",
       "      <td>NaN</td>\n",
       "      <td>2,126,000,000</td>\n",
       "      <td>NaN</td>\n",
       "      <td>1</td>\n",
       "    </tr>\n",
       "  </tbody>\n",
       "</table>\n",
       "</div>"
      ],
      "text/plain": [
       "0   country  year     sex          age suicides_no population HDI for year  \\\n",
       "0   Albania  1987    male  15-24 years          21     312900          NaN   \n",
       "1   Albania  1987    male  35-54 years          16     308000          NaN   \n",
       "2   Albania  1987  female  15-24 years          14     289700          NaN   \n",
       "3   Albania  1987    male    75+ years           1      21800          NaN   \n",
       "4   Albania  1987    male  25-34 years           9     274300          NaN   \n",
       "5   Albania  1987  female    75+ years           1      35600          NaN   \n",
       "6   Albania  1987  female  35-54 years           6     278800          NaN   \n",
       "7   Albania  1987  female  25-34 years           4     257200          NaN   \n",
       "8   Albania  1987    male  55-74 years           1     137500          NaN   \n",
       "9   Albania  1987  female   5-14 years         NaN     311000          NaN   \n",
       "10  Albania  1987  female  55-74 years         NaN     144600          NaN   \n",
       "11  Albania  1987    male   5-14 years         NaN     338200          NaN   \n",
       "12  Albania  1988  female    75+ years           2      36400          NaN   \n",
       "13  Albania  1988    male  15-24 years          17     319200          NaN   \n",
       "14  Albania  1988    male    75+ years           1      22300          NaN   \n",
       "\n",
       "0   gdp_for_year ($)  string integer  \n",
       "0       2,156,624,900    NaN      21  \n",
       "1       2,156,624,900    NaN      16  \n",
       "2       2,156,624,900    NaN      14  \n",
       "3       2,156,624,900    NaN       1  \n",
       "4       2,156,624,900    NaN       9  \n",
       "5       2,156,624,900    NaN       1  \n",
       "6       2,156,624,900    NaN       6  \n",
       "7       2,156,624,900    NaN       4  \n",
       "8       2,156,624,900    NaN       1  \n",
       "9       2,156,624,900    NaN     NaN  \n",
       "10      2,156,624,900    NaN     NaN  \n",
       "11      2,156,624,900    NaN     NaN  \n",
       "12      2,126,000,000    NaN       2  \n",
       "13      2,126,000,000    NaN      17  \n",
       "14      2,126,000,000    NaN       1  "
      ]
     },
     "execution_count": 433,
     "metadata": {},
     "output_type": "execute_result"
    }
   ],
   "source": [
    "data_raw.head(15)"
   ]
  },
  {
   "cell_type": "markdown",
   "metadata": {},
   "source": [
    "#### In the column suicide-no there are the strings 'Null', 'Unknown' and NaN and we need to replace them."
   ]
  },
  {
   "cell_type": "markdown",
   "metadata": {},
   "source": [
    "<h2 id=\"deal_missing_values\">3.2 Deal with missing data</h2>\n",
    "<b>How to deal with missing data?</b>\n",
    "\n",
    "<ol>\n",
    "    <li>Drop data<br>\n",
    "        a. Drop the whole row<br>\n",
    "        b. Drop the whole column\n",
    "    </li>\n",
    "    <li>Replace data<br>\n",
    "        a. Replace it by mean<br>\n",
    "        b. Replace it by frequency<br>\n",
    "        c. Replace it based on other functions\n",
    "    </li>\n",
    "</ol>\n",
    "\n"
   ]
  },
  {
   "cell_type": "markdown",
   "metadata": {},
   "source": [
    "### 3.2.1  Drop / Delete a column with lots of missing data.\n",
    "To remove a column we use the .drop() method as **df.drop([\"column1, column2, ... \"], axis=1)**. the axis =1 indicates that I apply the method to columns.\n",
    " * I will cut the column HDI for year, There are a lot of missing values there and I don't think that if contributes to the result.\n",
    " \n",
    " * I will name the new Data Frame **data_frame** because it is not the raw data anymore\n"
   ]
  },
  {
   "cell_type": "code",
   "execution_count": 434,
   "metadata": {
    "scrolled": true
   },
   "outputs": [
    {
     "data": {
      "text/html": [
       "<div>\n",
       "<style scoped>\n",
       "    .dataframe tbody tr th:only-of-type {\n",
       "        vertical-align: middle;\n",
       "    }\n",
       "\n",
       "    .dataframe tbody tr th {\n",
       "        vertical-align: top;\n",
       "    }\n",
       "\n",
       "    .dataframe thead th {\n",
       "        text-align: right;\n",
       "    }\n",
       "</style>\n",
       "<table border=\"1\" class=\"dataframe\">\n",
       "  <thead>\n",
       "    <tr style=\"text-align: right;\">\n",
       "      <th></th>\n",
       "      <th>country</th>\n",
       "      <th>year</th>\n",
       "      <th>sex</th>\n",
       "      <th>age</th>\n",
       "      <th>suicides_no</th>\n",
       "      <th>population</th>\n",
       "      <th>gdp_for_year ($)</th>\n",
       "    </tr>\n",
       "  </thead>\n",
       "  <tbody>\n",
       "    <tr>\n",
       "      <th>0</th>\n",
       "      <td>Albania</td>\n",
       "      <td>1987</td>\n",
       "      <td>male</td>\n",
       "      <td>15-24 years</td>\n",
       "      <td>21</td>\n",
       "      <td>312900</td>\n",
       "      <td>2,156,624,900</td>\n",
       "    </tr>\n",
       "    <tr>\n",
       "      <th>1</th>\n",
       "      <td>Albania</td>\n",
       "      <td>1987</td>\n",
       "      <td>male</td>\n",
       "      <td>35-54 years</td>\n",
       "      <td>16</td>\n",
       "      <td>308000</td>\n",
       "      <td>2,156,624,900</td>\n",
       "    </tr>\n",
       "    <tr>\n",
       "      <th>2</th>\n",
       "      <td>Albania</td>\n",
       "      <td>1987</td>\n",
       "      <td>female</td>\n",
       "      <td>15-24 years</td>\n",
       "      <td>14</td>\n",
       "      <td>289700</td>\n",
       "      <td>2,156,624,900</td>\n",
       "    </tr>\n",
       "    <tr>\n",
       "      <th>3</th>\n",
       "      <td>Albania</td>\n",
       "      <td>1987</td>\n",
       "      <td>male</td>\n",
       "      <td>75+ years</td>\n",
       "      <td>1</td>\n",
       "      <td>21800</td>\n",
       "      <td>2,156,624,900</td>\n",
       "    </tr>\n",
       "    <tr>\n",
       "      <th>4</th>\n",
       "      <td>Albania</td>\n",
       "      <td>1987</td>\n",
       "      <td>male</td>\n",
       "      <td>25-34 years</td>\n",
       "      <td>9</td>\n",
       "      <td>274300</td>\n",
       "      <td>2,156,624,900</td>\n",
       "    </tr>\n",
       "    <tr>\n",
       "      <th>...</th>\n",
       "      <td>...</td>\n",
       "      <td>...</td>\n",
       "      <td>...</td>\n",
       "      <td>...</td>\n",
       "      <td>...</td>\n",
       "      <td>...</td>\n",
       "      <td>...</td>\n",
       "    </tr>\n",
       "    <tr>\n",
       "      <th>27835</th>\n",
       "      <td>Belgium</td>\n",
       "      <td>2011</td>\n",
       "      <td>female</td>\n",
       "      <td>25-34 years</td>\n",
       "      <td>6</td>\n",
       "      <td>707535</td>\n",
       "      <td>527,008,453,887</td>\n",
       "    </tr>\n",
       "    <tr>\n",
       "      <th>27836</th>\n",
       "      <td>Thailand</td>\n",
       "      <td>2016</td>\n",
       "      <td>male</td>\n",
       "      <td>75+ years</td>\n",
       "      <td>152</td>\n",
       "      <td>1124052</td>\n",
       "      <td>411,755,164,833</td>\n",
       "    </tr>\n",
       "    <tr>\n",
       "      <th>27837</th>\n",
       "      <td>Netherlands</td>\n",
       "      <td>1998</td>\n",
       "      <td>female</td>\n",
       "      <td>15-24 years</td>\n",
       "      <td>21</td>\n",
       "      <td>934500</td>\n",
       "      <td>432,476,116,419</td>\n",
       "    </tr>\n",
       "    <tr>\n",
       "      <th>27838</th>\n",
       "      <td>Grenada</td>\n",
       "      <td>2002</td>\n",
       "      <td>female</td>\n",
       "      <td>5-14 years</td>\n",
       "      <td>NaN</td>\n",
       "      <td>11760</td>\n",
       "      <td>540,336,926</td>\n",
       "    </tr>\n",
       "    <tr>\n",
       "      <th>27839</th>\n",
       "      <td>Mexico</td>\n",
       "      <td>1988</td>\n",
       "      <td>female</td>\n",
       "      <td>75+ years</td>\n",
       "      <td>7</td>\n",
       "      <td>614000</td>\n",
       "      <td>183,144,164,357</td>\n",
       "    </tr>\n",
       "  </tbody>\n",
       "</table>\n",
       "<p>27840 rows × 7 columns</p>\n",
       "</div>"
      ],
      "text/plain": [
       "0          country  year     sex          age suicides_no population  \\\n",
       "0          Albania  1987    male  15-24 years          21     312900   \n",
       "1          Albania  1987    male  35-54 years          16     308000   \n",
       "2          Albania  1987  female  15-24 years          14     289700   \n",
       "3          Albania  1987    male    75+ years           1      21800   \n",
       "4          Albania  1987    male  25-34 years           9     274300   \n",
       "...            ...   ...     ...          ...         ...        ...   \n",
       "27835      Belgium  2011  female  25-34 years           6     707535   \n",
       "27836     Thailand  2016    male    75+ years         152    1124052   \n",
       "27837  Netherlands  1998  female  15-24 years          21     934500   \n",
       "27838      Grenada  2002  female   5-14 years         NaN      11760   \n",
       "27839       Mexico  1988  female    75+ years           7     614000   \n",
       "\n",
       "0      gdp_for_year ($)   \n",
       "0          2,156,624,900  \n",
       "1          2,156,624,900  \n",
       "2          2,156,624,900  \n",
       "3          2,156,624,900  \n",
       "4          2,156,624,900  \n",
       "...                  ...  \n",
       "27835    527,008,453,887  \n",
       "27836    411,755,164,833  \n",
       "27837    432,476,116,419  \n",
       "27838        540,336,926  \n",
       "27839    183,144,164,357  \n",
       "\n",
       "[27840 rows x 7 columns]"
      ]
     },
     "execution_count": 434,
     "metadata": {},
     "output_type": "execute_result"
    }
   ],
   "source": [
    "\n",
    "data_frame= data_raw.drop(['HDI for year','string','integer'], axis = 1)                         \n",
    "data_frame"
   ]
  },
  {
   "cell_type": "markdown",
   "metadata": {},
   "source": [
    "So far we have investigated that there are 4265 missing integers in the suicide_no column which would be the strings \n",
    "'NaN', 'Unknown', \"Null\".\n",
    "\n",
    "We have deleted the HDI for year colum because it had a lot of missing values\n",
    "\n",
    "We have created a new data_frame with the data, which is not longer the raw data."
   ]
  },
  {
   "cell_type": "markdown",
   "metadata": {},
   "source": [
    "###  3.2.2 REPLACE :\n",
    "#### Locate the data in suicides_no that appeared as strings and REPLACE them"
   ]
  },
  {
   "cell_type": "code",
   "execution_count": 435,
   "metadata": {
    "scrolled": true
   },
   "outputs": [
    {
     "data": {
      "text/html": [
       "<div>\n",
       "<style scoped>\n",
       "    .dataframe tbody tr th:only-of-type {\n",
       "        vertical-align: middle;\n",
       "    }\n",
       "\n",
       "    .dataframe tbody tr th {\n",
       "        vertical-align: top;\n",
       "    }\n",
       "\n",
       "    .dataframe thead th {\n",
       "        text-align: right;\n",
       "    }\n",
       "</style>\n",
       "<table border=\"1\" class=\"dataframe\">\n",
       "  <thead>\n",
       "    <tr style=\"text-align: right;\">\n",
       "      <th></th>\n",
       "      <th>country</th>\n",
       "      <th>year</th>\n",
       "      <th>sex</th>\n",
       "      <th>age</th>\n",
       "      <th>suicides_no</th>\n",
       "      <th>population</th>\n",
       "      <th>gdp_for_year ($)</th>\n",
       "    </tr>\n",
       "  </thead>\n",
       "  <tbody>\n",
       "    <tr>\n",
       "      <th>378</th>\n",
       "      <td>Antigua and Barbuda</td>\n",
       "      <td>1994</td>\n",
       "      <td>male</td>\n",
       "      <td>15-24 years</td>\n",
       "      <td>Null</td>\n",
       "      <td>5976</td>\n",
       "      <td>589,429,593</td>\n",
       "    </tr>\n",
       "    <tr>\n",
       "      <th>388</th>\n",
       "      <td>Antigua and Barbuda</td>\n",
       "      <td>1995</td>\n",
       "      <td>female</td>\n",
       "      <td>55-74 years</td>\n",
       "      <td>Null</td>\n",
       "      <td>3808</td>\n",
       "      <td>577,280,741</td>\n",
       "    </tr>\n",
       "    <tr>\n",
       "      <th>401</th>\n",
       "      <td>Antigua and Barbuda</td>\n",
       "      <td>1998</td>\n",
       "      <td>female</td>\n",
       "      <td>75+ years</td>\n",
       "      <td>Null</td>\n",
       "      <td>1476</td>\n",
       "      <td>727,860,593</td>\n",
       "    </tr>\n",
       "    <tr>\n",
       "      <th>558</th>\n",
       "      <td>Antigua and Barbuda</td>\n",
       "      <td>2013</td>\n",
       "      <td>male</td>\n",
       "      <td>15-24 years</td>\n",
       "      <td>Null</td>\n",
       "      <td>8061</td>\n",
       "      <td>1,192,925,407</td>\n",
       "    </tr>\n",
       "    <tr>\n",
       "      <th>1360</th>\n",
       "      <td>Aruba</td>\n",
       "      <td>2006</td>\n",
       "      <td>female</td>\n",
       "      <td>55-74 years</td>\n",
       "      <td>Null</td>\n",
       "      <td>8553</td>\n",
       "      <td>2,421,474,860</td>\n",
       "    </tr>\n",
       "    <tr>\n",
       "      <th>1384</th>\n",
       "      <td>Aruba</td>\n",
       "      <td>2008</td>\n",
       "      <td>female</td>\n",
       "      <td>5-14 years</td>\n",
       "      <td>Null</td>\n",
       "      <td>7269</td>\n",
       "      <td>2,791,960,894</td>\n",
       "    </tr>\n",
       "    <tr>\n",
       "      <th>1389</th>\n",
       "      <td>Aruba</td>\n",
       "      <td>2008</td>\n",
       "      <td>male</td>\n",
       "      <td>75+ years</td>\n",
       "      <td>Null</td>\n",
       "      <td>1333</td>\n",
       "      <td>2,791,960,894</td>\n",
       "    </tr>\n",
       "    <tr>\n",
       "      <th>1421</th>\n",
       "      <td>Aruba</td>\n",
       "      <td>2011</td>\n",
       "      <td>female</td>\n",
       "      <td>5-14 years</td>\n",
       "      <td>Null</td>\n",
       "      <td>7064</td>\n",
       "      <td>2,584,463,687</td>\n",
       "    </tr>\n",
       "    <tr>\n",
       "      <th>10569</th>\n",
       "      <td>Grenada</td>\n",
       "      <td>2005</td>\n",
       "      <td>female</td>\n",
       "      <td>5-14 years</td>\n",
       "      <td>Null</td>\n",
       "      <td>10711</td>\n",
       "      <td>695,370,296</td>\n",
       "    </tr>\n",
       "    <tr>\n",
       "      <th>10578</th>\n",
       "      <td>Grenada</td>\n",
       "      <td>2006</td>\n",
       "      <td>female</td>\n",
       "      <td>5-14 years</td>\n",
       "      <td>Null</td>\n",
       "      <td>10384</td>\n",
       "      <td>698,700,667</td>\n",
       "    </tr>\n",
       "    <tr>\n",
       "      <th>10583</th>\n",
       "      <td>Grenada</td>\n",
       "      <td>2006</td>\n",
       "      <td>male</td>\n",
       "      <td>5-14 years</td>\n",
       "      <td>Null</td>\n",
       "      <td>10658</td>\n",
       "      <td>698,700,667</td>\n",
       "    </tr>\n",
       "    <tr>\n",
       "      <th>15877</th>\n",
       "      <td>Malta</td>\n",
       "      <td>1990</td>\n",
       "      <td>female</td>\n",
       "      <td>5-14 years</td>\n",
       "      <td>Null</td>\n",
       "      <td>27400</td>\n",
       "      <td>2,547,163,582</td>\n",
       "    </tr>\n",
       "  </tbody>\n",
       "</table>\n",
       "</div>"
      ],
      "text/plain": [
       "0                  country  year     sex          age suicides_no population  \\\n",
       "378    Antigua and Barbuda  1994    male  15-24 years        Null       5976   \n",
       "388    Antigua and Barbuda  1995  female  55-74 years        Null       3808   \n",
       "401    Antigua and Barbuda  1998  female    75+ years        Null       1476   \n",
       "558    Antigua and Barbuda  2013    male  15-24 years        Null       8061   \n",
       "1360                 Aruba  2006  female  55-74 years        Null       8553   \n",
       "1384                 Aruba  2008  female   5-14 years        Null       7269   \n",
       "1389                 Aruba  2008    male    75+ years        Null       1333   \n",
       "1421                 Aruba  2011  female   5-14 years        Null       7064   \n",
       "10569              Grenada  2005  female   5-14 years        Null      10711   \n",
       "10578              Grenada  2006  female   5-14 years        Null      10384   \n",
       "10583              Grenada  2006    male   5-14 years        Null      10658   \n",
       "15877                Malta  1990  female   5-14 years        Null      27400   \n",
       "\n",
       "0      gdp_for_year ($)   \n",
       "378          589,429,593  \n",
       "388          577,280,741  \n",
       "401          727,860,593  \n",
       "558        1,192,925,407  \n",
       "1360       2,421,474,860  \n",
       "1384       2,791,960,894  \n",
       "1389       2,791,960,894  \n",
       "1421       2,584,463,687  \n",
       "10569        695,370,296  \n",
       "10578        698,700,667  \n",
       "10583        698,700,667  \n",
       "15877      2,547,163,582  "
      ]
     },
     "execution_count": 435,
     "metadata": {},
     "output_type": "execute_result"
    }
   ],
   "source": [
    "df_null=data_frame.loc[data_frame['suicides_no']=='Null']\n",
    "df_null"
   ]
  },
  {
   "cell_type": "code",
   "execution_count": null,
   "metadata": {},
   "outputs": [
    {
     "data": {
      "text/plain": [
       "(12, 7)"
      ]
     },
     "execution_count": 82,
     "metadata": {},
     "output_type": "execute_result"
    }
   ],
   "source": [
    "df_null.shape"
   ]
  },
  {
   "cell_type": "markdown",
   "metadata": {},
   "source": [
    "There are 4265 points at the suicides_no with the wrong/missing values. It's exactly what we have calculated with the missing_values variable."
   ]
  },
  {
   "cell_type": "code",
   "execution_count": 133,
   "metadata": {
    "scrolled": true
   },
   "outputs": [
    {
     "data": {
      "text/plain": [
       "Null    12\n",
       "Name: suicides_no, dtype: int64"
      ]
     },
     "execution_count": 133,
     "metadata": {},
     "output_type": "execute_result"
    }
   ],
   "source": [
    "#### Count the values of the 'Null' in 'suicides_no' column \n",
    "#data_null[\"suicides_no\"].value_counts()  # Same as:  data_null.suicides_no.value_counts()  \n",
    "df_null.suicides_no.value_counts()  \n",
    "\n",
    "### If we want to be concise we could write it elegantly in one line\n",
    "# data_frame.loc[data_frame['suicides_no']=='Null'].suicides_no.value_counts()"
   ]
  },
  {
   "cell_type": "code",
   "execution_count": 436,
   "metadata": {},
   "outputs": [
    {
     "data": {
      "text/html": [
       "<div>\n",
       "<style scoped>\n",
       "    .dataframe tbody tr th:only-of-type {\n",
       "        vertical-align: middle;\n",
       "    }\n",
       "\n",
       "    .dataframe tbody tr th {\n",
       "        vertical-align: top;\n",
       "    }\n",
       "\n",
       "    .dataframe thead th {\n",
       "        text-align: right;\n",
       "    }\n",
       "</style>\n",
       "<table border=\"1\" class=\"dataframe\">\n",
       "  <thead>\n",
       "    <tr style=\"text-align: right;\">\n",
       "      <th></th>\n",
       "      <th>country</th>\n",
       "      <th>year</th>\n",
       "      <th>sex</th>\n",
       "      <th>age</th>\n",
       "      <th>suicides_no</th>\n",
       "      <th>population</th>\n",
       "      <th>gdp_for_year ($)</th>\n",
       "    </tr>\n",
       "  </thead>\n",
       "  <tbody>\n",
       "    <tr>\n",
       "      <th>10610</th>\n",
       "      <td>Grenada</td>\n",
       "      <td>2009</td>\n",
       "      <td>female</td>\n",
       "      <td>15-24 years</td>\n",
       "      <td>Unknown</td>\n",
       "      <td>11815</td>\n",
       "      <td>771,278,111</td>\n",
       "    </tr>\n",
       "    <tr>\n",
       "      <th>10615</th>\n",
       "      <td>Grenada</td>\n",
       "      <td>2009</td>\n",
       "      <td>female</td>\n",
       "      <td>75+ years</td>\n",
       "      <td>Unknown</td>\n",
       "      <td>2227</td>\n",
       "      <td>771,278,111</td>\n",
       "    </tr>\n",
       "    <tr>\n",
       "      <th>10622</th>\n",
       "      <td>Grenada</td>\n",
       "      <td>2010</td>\n",
       "      <td>female</td>\n",
       "      <td>15-24 years</td>\n",
       "      <td>Unknown</td>\n",
       "      <td>11637</td>\n",
       "      <td>771,015,889</td>\n",
       "    </tr>\n",
       "    <tr>\n",
       "      <th>10629</th>\n",
       "      <td>Grenada</td>\n",
       "      <td>2010</td>\n",
       "      <td>male</td>\n",
       "      <td>25-34 years</td>\n",
       "      <td>Unknown</td>\n",
       "      <td>9006</td>\n",
       "      <td>771,015,889</td>\n",
       "    </tr>\n",
       "    <tr>\n",
       "      <th>10639</th>\n",
       "      <td>Grenada</td>\n",
       "      <td>2011</td>\n",
       "      <td>female</td>\n",
       "      <td>55-74 years</td>\n",
       "      <td>Unknown</td>\n",
       "      <td>5474</td>\n",
       "      <td>778,648,667</td>\n",
       "    </tr>\n",
       "    <tr>\n",
       "      <th>10660</th>\n",
       "      <td>Grenada</td>\n",
       "      <td>2013</td>\n",
       "      <td>female</td>\n",
       "      <td>35-54 years</td>\n",
       "      <td>Unknown</td>\n",
       "      <td>10858</td>\n",
       "      <td>842,620,111</td>\n",
       "    </tr>\n",
       "    <tr>\n",
       "      <th>10678</th>\n",
       "      <td>Grenada</td>\n",
       "      <td>2014</td>\n",
       "      <td>male</td>\n",
       "      <td>35-54 years</td>\n",
       "      <td>Unknown</td>\n",
       "      <td>11369</td>\n",
       "      <td>911,481,481</td>\n",
       "    </tr>\n",
       "    <tr>\n",
       "      <th>10691</th>\n",
       "      <td>Grenada</td>\n",
       "      <td>2015</td>\n",
       "      <td>male</td>\n",
       "      <td>5-14 years</td>\n",
       "      <td>Unknown</td>\n",
       "      <td>9409</td>\n",
       "      <td>997,007,926</td>\n",
       "    </tr>\n",
       "  </tbody>\n",
       "</table>\n",
       "</div>"
      ],
      "text/plain": [
       "0      country  year     sex          age suicides_no population  \\\n",
       "10610  Grenada  2009  female  15-24 years     Unknown      11815   \n",
       "10615  Grenada  2009  female    75+ years     Unknown       2227   \n",
       "10622  Grenada  2010  female  15-24 years     Unknown      11637   \n",
       "10629  Grenada  2010    male  25-34 years     Unknown       9006   \n",
       "10639  Grenada  2011  female  55-74 years     Unknown       5474   \n",
       "10660  Grenada  2013  female  35-54 years     Unknown      10858   \n",
       "10678  Grenada  2014    male  35-54 years     Unknown      11369   \n",
       "10691  Grenada  2015    male   5-14 years     Unknown       9409   \n",
       "\n",
       "0      gdp_for_year ($)   \n",
       "10610        771,278,111  \n",
       "10615        771,278,111  \n",
       "10622        771,015,889  \n",
       "10629        771,015,889  \n",
       "10639        778,648,667  \n",
       "10660        842,620,111  \n",
       "10678        911,481,481  \n",
       "10691        997,007,926  "
      ]
     },
     "execution_count": 436,
     "metadata": {},
     "output_type": "execute_result"
    }
   ],
   "source": [
    "df_unknown=data_frame.loc[data_frame['suicides_no'] =='Unknown'] \n",
    "df_unknown  ## show the lines with the word Unknown in the suicides_no column "
   ]
  },
  {
   "cell_type": "code",
   "execution_count": 135,
   "metadata": {},
   "outputs": [
    {
     "data": {
      "text/plain": [
       "Unknown    8\n",
       "Name: suicides_no, dtype: int64"
      ]
     },
     "execution_count": 135,
     "metadata": {},
     "output_type": "execute_result"
    }
   ],
   "source": [
    "df_unknown.suicides_no.value_counts() ## count the values with the word Unknown in the suicides_no column "
   ]
  },
  {
   "cell_type": "markdown",
   "metadata": {},
   "source": [
    "## REPLACE  incorrect / missing values!\n",
    "There are three types of data in the column 'suicides_no' in our Data Frame that need to be cleared out. The word 'Null',the word \"Unknown\" and NaN (Not a Number). I will replace the word Null' with 0 , because its is actually zero. \n",
    "\n",
    "The strategy with other words which don't actually contribute to data (unless it is categorical data), is to replace them with the string NaN.  I replace \" \" with NaN (Not a Number), which is Python's default missing value marker, for reasons of computational speed and convenience. Then we can delete all the NaN data points.\n",
    "- Replace all strings with NaN\n",
    "- Delete all NaN values\n",
    "\n",
    "Here we use the functions to use to localise and replace one value with another:\n",
    "\n",
    "* .loc[data['Column Name']=='Character to localise']\n",
    "to localise the Characters in the Column name\n",
    "* .replace(A, B, inplace = True) \n",
    "to replace A value  by B value.\n",
    "\n"
   ]
  },
  {
   "cell_type": "code",
   "execution_count": 437,
   "metadata": {},
   "outputs": [
    {
     "data": {
      "text/html": [
       "<div>\n",
       "<style scoped>\n",
       "    .dataframe tbody tr th:only-of-type {\n",
       "        vertical-align: middle;\n",
       "    }\n",
       "\n",
       "    .dataframe tbody tr th {\n",
       "        vertical-align: top;\n",
       "    }\n",
       "\n",
       "    .dataframe thead th {\n",
       "        text-align: right;\n",
       "    }\n",
       "</style>\n",
       "<table border=\"1\" class=\"dataframe\">\n",
       "  <thead>\n",
       "    <tr style=\"text-align: right;\">\n",
       "      <th></th>\n",
       "      <th>country</th>\n",
       "      <th>year</th>\n",
       "      <th>sex</th>\n",
       "      <th>age</th>\n",
       "      <th>suicides_no</th>\n",
       "      <th>population</th>\n",
       "      <th>gdp_for_year ($)</th>\n",
       "    </tr>\n",
       "  </thead>\n",
       "  <tbody>\n",
       "    <tr>\n",
       "      <th>0</th>\n",
       "      <td>Albania</td>\n",
       "      <td>1987</td>\n",
       "      <td>male</td>\n",
       "      <td>15-24 years</td>\n",
       "      <td>21</td>\n",
       "      <td>312900</td>\n",
       "      <td>2,156,624,900</td>\n",
       "    </tr>\n",
       "    <tr>\n",
       "      <th>1</th>\n",
       "      <td>Albania</td>\n",
       "      <td>1987</td>\n",
       "      <td>male</td>\n",
       "      <td>35-54 years</td>\n",
       "      <td>16</td>\n",
       "      <td>308000</td>\n",
       "      <td>2,156,624,900</td>\n",
       "    </tr>\n",
       "    <tr>\n",
       "      <th>2</th>\n",
       "      <td>Albania</td>\n",
       "      <td>1987</td>\n",
       "      <td>female</td>\n",
       "      <td>15-24 years</td>\n",
       "      <td>14</td>\n",
       "      <td>289700</td>\n",
       "      <td>2,156,624,900</td>\n",
       "    </tr>\n",
       "    <tr>\n",
       "      <th>3</th>\n",
       "      <td>Albania</td>\n",
       "      <td>1987</td>\n",
       "      <td>male</td>\n",
       "      <td>75+ years</td>\n",
       "      <td>1</td>\n",
       "      <td>21800</td>\n",
       "      <td>2,156,624,900</td>\n",
       "    </tr>\n",
       "    <tr>\n",
       "      <th>4</th>\n",
       "      <td>Albania</td>\n",
       "      <td>1987</td>\n",
       "      <td>male</td>\n",
       "      <td>25-34 years</td>\n",
       "      <td>9</td>\n",
       "      <td>274300</td>\n",
       "      <td>2,156,624,900</td>\n",
       "    </tr>\n",
       "    <tr>\n",
       "      <th>5</th>\n",
       "      <td>Albania</td>\n",
       "      <td>1987</td>\n",
       "      <td>female</td>\n",
       "      <td>75+ years</td>\n",
       "      <td>1</td>\n",
       "      <td>35600</td>\n",
       "      <td>2,156,624,900</td>\n",
       "    </tr>\n",
       "    <tr>\n",
       "      <th>6</th>\n",
       "      <td>Albania</td>\n",
       "      <td>1987</td>\n",
       "      <td>female</td>\n",
       "      <td>35-54 years</td>\n",
       "      <td>6</td>\n",
       "      <td>278800</td>\n",
       "      <td>2,156,624,900</td>\n",
       "    </tr>\n",
       "    <tr>\n",
       "      <th>7</th>\n",
       "      <td>Albania</td>\n",
       "      <td>1987</td>\n",
       "      <td>female</td>\n",
       "      <td>25-34 years</td>\n",
       "      <td>4</td>\n",
       "      <td>257200</td>\n",
       "      <td>2,156,624,900</td>\n",
       "    </tr>\n",
       "    <tr>\n",
       "      <th>8</th>\n",
       "      <td>Albania</td>\n",
       "      <td>1987</td>\n",
       "      <td>male</td>\n",
       "      <td>55-74 years</td>\n",
       "      <td>1</td>\n",
       "      <td>137500</td>\n",
       "      <td>2,156,624,900</td>\n",
       "    </tr>\n",
       "    <tr>\n",
       "      <th>9</th>\n",
       "      <td>Albania</td>\n",
       "      <td>1987</td>\n",
       "      <td>female</td>\n",
       "      <td>5-14 years</td>\n",
       "      <td>NaN</td>\n",
       "      <td>311000</td>\n",
       "      <td>2,156,624,900</td>\n",
       "    </tr>\n",
       "    <tr>\n",
       "      <th>10</th>\n",
       "      <td>Albania</td>\n",
       "      <td>1987</td>\n",
       "      <td>female</td>\n",
       "      <td>55-74 years</td>\n",
       "      <td>NaN</td>\n",
       "      <td>144600</td>\n",
       "      <td>2,156,624,900</td>\n",
       "    </tr>\n",
       "    <tr>\n",
       "      <th>11</th>\n",
       "      <td>Albania</td>\n",
       "      <td>1987</td>\n",
       "      <td>male</td>\n",
       "      <td>5-14 years</td>\n",
       "      <td>NaN</td>\n",
       "      <td>338200</td>\n",
       "      <td>2,156,624,900</td>\n",
       "    </tr>\n",
       "    <tr>\n",
       "      <th>12</th>\n",
       "      <td>Albania</td>\n",
       "      <td>1988</td>\n",
       "      <td>female</td>\n",
       "      <td>75+ years</td>\n",
       "      <td>2</td>\n",
       "      <td>36400</td>\n",
       "      <td>2,126,000,000</td>\n",
       "    </tr>\n",
       "    <tr>\n",
       "      <th>13</th>\n",
       "      <td>Albania</td>\n",
       "      <td>1988</td>\n",
       "      <td>male</td>\n",
       "      <td>15-24 years</td>\n",
       "      <td>17</td>\n",
       "      <td>319200</td>\n",
       "      <td>2,126,000,000</td>\n",
       "    </tr>\n",
       "    <tr>\n",
       "      <th>14</th>\n",
       "      <td>Albania</td>\n",
       "      <td>1988</td>\n",
       "      <td>male</td>\n",
       "      <td>75+ years</td>\n",
       "      <td>1</td>\n",
       "      <td>22300</td>\n",
       "      <td>2,126,000,000</td>\n",
       "    </tr>\n",
       "  </tbody>\n",
       "</table>\n",
       "</div>"
      ],
      "text/plain": [
       "0   country  year     sex          age suicides_no population  \\\n",
       "0   Albania  1987    male  15-24 years          21     312900   \n",
       "1   Albania  1987    male  35-54 years          16     308000   \n",
       "2   Albania  1987  female  15-24 years          14     289700   \n",
       "3   Albania  1987    male    75+ years           1      21800   \n",
       "4   Albania  1987    male  25-34 years           9     274300   \n",
       "5   Albania  1987  female    75+ years           1      35600   \n",
       "6   Albania  1987  female  35-54 years           6     278800   \n",
       "7   Albania  1987  female  25-34 years           4     257200   \n",
       "8   Albania  1987    male  55-74 years           1     137500   \n",
       "9   Albania  1987  female   5-14 years         NaN     311000   \n",
       "10  Albania  1987  female  55-74 years         NaN     144600   \n",
       "11  Albania  1987    male   5-14 years         NaN     338200   \n",
       "12  Albania  1988  female    75+ years           2      36400   \n",
       "13  Albania  1988    male  15-24 years          17     319200   \n",
       "14  Albania  1988    male    75+ years           1      22300   \n",
       "\n",
       "0   gdp_for_year ($)   \n",
       "0       2,156,624,900  \n",
       "1       2,156,624,900  \n",
       "2       2,156,624,900  \n",
       "3       2,156,624,900  \n",
       "4       2,156,624,900  \n",
       "5       2,156,624,900  \n",
       "6       2,156,624,900  \n",
       "7       2,156,624,900  \n",
       "8       2,156,624,900  \n",
       "9       2,156,624,900  \n",
       "10      2,156,624,900  \n",
       "11      2,156,624,900  \n",
       "12      2,126,000,000  \n",
       "13      2,126,000,000  \n",
       "14      2,126,000,000  "
      ]
     },
     "execution_count": 437,
     "metadata": {},
     "output_type": "execute_result"
    }
   ],
   "source": [
    "# replace an empty space \" \" and \"Unknown\" to NaN and the \"Null\" with 0 using Numpy library!!\n",
    "data_frame.replace(\" \", np.nan, inplace = True)\n",
    "data_frame.replace(\"Null\", 0, inplace = True)\n",
    "data_frame.replace(\"Unknown\", np.nan, inplace = True)\n",
    "data_frame.head(15)"
   ]
  },
  {
   "cell_type": "markdown",
   "metadata": {},
   "source": [
    "### Lets count now how many columns are NaN"
   ]
  },
  {
   "cell_type": "code",
   "execution_count": 137,
   "metadata": {},
   "outputs": [],
   "source": [
    "#df_NaN=data_frame.loc[data_frame['suicides_no'] =='NaN'] \n",
    "#df_NaN.suicides_no.value_counts()"
   ]
  },
  {
   "cell_type": "markdown",
   "metadata": {},
   "source": [
    "Based on the summary above, each column has 27840 rows of data and only one of the columns the suicide_no containes missing data:\n",
    "\n",
    "<ol>\n",
    "    <li>\"suicides_no\": 4273 missing data which are replaced with NaN</li>\n",
    "    \n",
    "</ol>\n"
   ]
  },
  {
   "cell_type": "markdown",
   "metadata": {},
   "source": [
    "### DELETE/DROP  NaN \n",
    "In order to deal with NaN we have to create a numpy array where the NaN appears. We can visualise teh data frame by calling .head() or .tail()\n",
    "\n",
    "The way to  delete the NaN is  using the *.dropna()*  to the  data. Imediately afterwards you need to  to reset the index of the data frame as there are deletd values \n"
   ]
  },
  {
   "cell_type": "code",
   "execution_count": 139,
   "metadata": {
    "scrolled": true
   },
   "outputs": [
    {
     "data": {
      "text/html": [
       "<div>\n",
       "<style scoped>\n",
       "    .dataframe tbody tr th:only-of-type {\n",
       "        vertical-align: middle;\n",
       "    }\n",
       "\n",
       "    .dataframe tbody tr th {\n",
       "        vertical-align: top;\n",
       "    }\n",
       "\n",
       "    .dataframe thead th {\n",
       "        text-align: right;\n",
       "    }\n",
       "</style>\n",
       "<table border=\"1\" class=\"dataframe\">\n",
       "  <thead>\n",
       "    <tr style=\"text-align: right;\">\n",
       "      <th></th>\n",
       "      <th>index</th>\n",
       "      <th>country</th>\n",
       "      <th>year</th>\n",
       "      <th>sex</th>\n",
       "      <th>age</th>\n",
       "      <th>suicides_no</th>\n",
       "      <th>population</th>\n",
       "      <th>gdp_for_year ($)</th>\n",
       "    </tr>\n",
       "  </thead>\n",
       "  <tbody>\n",
       "    <tr>\n",
       "      <th>0</th>\n",
       "      <td>27829</td>\n",
       "      <td>Puerto Rico</td>\n",
       "      <td>1992</td>\n",
       "      <td>female</td>\n",
       "      <td>75+ years</td>\n",
       "      <td>2</td>\n",
       "      <td>82500</td>\n",
       "      <td>34,630,430,000</td>\n",
       "    </tr>\n",
       "    <tr>\n",
       "      <th>1</th>\n",
       "      <td>27830</td>\n",
       "      <td>Kuwait</td>\n",
       "      <td>2007</td>\n",
       "      <td>male</td>\n",
       "      <td>55-74 years</td>\n",
       "      <td>2</td>\n",
       "      <td>99708</td>\n",
       "      <td>114,641,097,818</td>\n",
       "    </tr>\n",
       "    <tr>\n",
       "      <th>2</th>\n",
       "      <td>27831</td>\n",
       "      <td>Australia</td>\n",
       "      <td>1995</td>\n",
       "      <td>male</td>\n",
       "      <td>35-54 years</td>\n",
       "      <td>587</td>\n",
       "      <td>2507400</td>\n",
       "      <td>367,216,364,716</td>\n",
       "    </tr>\n",
       "    <tr>\n",
       "      <th>3</th>\n",
       "      <td>27832</td>\n",
       "      <td>Colombia</td>\n",
       "      <td>1989</td>\n",
       "      <td>male</td>\n",
       "      <td>35-54 years</td>\n",
       "      <td>152</td>\n",
       "      <td>2802188</td>\n",
       "      <td>39,540,080,200</td>\n",
       "    </tr>\n",
       "    <tr>\n",
       "      <th>4</th>\n",
       "      <td>27833</td>\n",
       "      <td>Argentina</td>\n",
       "      <td>1988</td>\n",
       "      <td>female</td>\n",
       "      <td>5-14 years</td>\n",
       "      <td>11</td>\n",
       "      <td>3115000</td>\n",
       "      <td>126,206,817,196</td>\n",
       "    </tr>\n",
       "    <tr>\n",
       "      <th>5</th>\n",
       "      <td>27834</td>\n",
       "      <td>Ukraine</td>\n",
       "      <td>2005</td>\n",
       "      <td>female</td>\n",
       "      <td>25-34 years</td>\n",
       "      <td>182</td>\n",
       "      <td>3380536</td>\n",
       "      <td>86,142,018,069</td>\n",
       "    </tr>\n",
       "    <tr>\n",
       "      <th>6</th>\n",
       "      <td>27835</td>\n",
       "      <td>Belgium</td>\n",
       "      <td>2011</td>\n",
       "      <td>female</td>\n",
       "      <td>25-34 years</td>\n",
       "      <td>6</td>\n",
       "      <td>707535</td>\n",
       "      <td>527,008,453,887</td>\n",
       "    </tr>\n",
       "    <tr>\n",
       "      <th>7</th>\n",
       "      <td>27836</td>\n",
       "      <td>Thailand</td>\n",
       "      <td>2016</td>\n",
       "      <td>male</td>\n",
       "      <td>75+ years</td>\n",
       "      <td>152</td>\n",
       "      <td>1124052</td>\n",
       "      <td>411,755,164,833</td>\n",
       "    </tr>\n",
       "    <tr>\n",
       "      <th>8</th>\n",
       "      <td>27837</td>\n",
       "      <td>Netherlands</td>\n",
       "      <td>1998</td>\n",
       "      <td>female</td>\n",
       "      <td>15-24 years</td>\n",
       "      <td>21</td>\n",
       "      <td>934500</td>\n",
       "      <td>432,476,116,419</td>\n",
       "    </tr>\n",
       "    <tr>\n",
       "      <th>9</th>\n",
       "      <td>27839</td>\n",
       "      <td>Mexico</td>\n",
       "      <td>1988</td>\n",
       "      <td>female</td>\n",
       "      <td>75+ years</td>\n",
       "      <td>7</td>\n",
       "      <td>614000</td>\n",
       "      <td>183,144,164,357</td>\n",
       "    </tr>\n",
       "  </tbody>\n",
       "</table>\n",
       "</div>"
      ],
      "text/plain": [
       "0  index      country  year     sex          age suicides_no population  \\\n",
       "0  27829  Puerto Rico  1992  female    75+ years           2      82500   \n",
       "1  27830       Kuwait  2007    male  55-74 years           2      99708   \n",
       "2  27831    Australia  1995    male  35-54 years         587    2507400   \n",
       "3  27832     Colombia  1989    male  35-54 years         152    2802188   \n",
       "4  27833    Argentina  1988  female   5-14 years          11    3115000   \n",
       "5  27834      Ukraine  2005  female  25-34 years         182    3380536   \n",
       "6  27835      Belgium  2011  female  25-34 years           6     707535   \n",
       "7  27836     Thailand  2016    male    75+ years         152    1124052   \n",
       "8  27837  Netherlands  1998  female  15-24 years          21     934500   \n",
       "9  27839       Mexico  1988  female    75+ years           7     614000   \n",
       "\n",
       "0  gdp_for_year ($)   \n",
       "0     34,630,430,000  \n",
       "1    114,641,097,818  \n",
       "2    367,216,364,716  \n",
       "3     39,540,080,200  \n",
       "4    126,206,817,196  \n",
       "5     86,142,018,069  \n",
       "6    527,008,453,887  \n",
       "7    411,755,164,833  \n",
       "8    432,476,116,419  \n",
       "9    183,144,164,357  "
      ]
     },
     "execution_count": 139,
     "metadata": {},
     "output_type": "execute_result"
    }
   ],
   "source": [
    "data_frame.tail(10).reset_index()  # use .reset_index()  to visualise it and count it better"
   ]
  },
  {
   "cell_type": "markdown",
   "metadata": {},
   "source": [
    "### Remove the NaN values \n",
    "We can see the the entry points 27824, 27825, 27828  have NaN values at the suicides_no column. We use **.dropna()**. Always reset index "
   ]
  },
  {
   "cell_type": "code",
   "execution_count": 438,
   "metadata": {},
   "outputs": [
    {
     "data": {
      "text/html": [
       "<div>\n",
       "<style scoped>\n",
       "    .dataframe tbody tr th:only-of-type {\n",
       "        vertical-align: middle;\n",
       "    }\n",
       "\n",
       "    .dataframe tbody tr th {\n",
       "        vertical-align: top;\n",
       "    }\n",
       "\n",
       "    .dataframe thead th {\n",
       "        text-align: right;\n",
       "    }\n",
       "</style>\n",
       "<table border=\"1\" class=\"dataframe\">\n",
       "  <thead>\n",
       "    <tr style=\"text-align: right;\">\n",
       "      <th></th>\n",
       "      <th>index</th>\n",
       "      <th>country</th>\n",
       "      <th>year</th>\n",
       "      <th>sex</th>\n",
       "      <th>age</th>\n",
       "      <th>suicides_no</th>\n",
       "      <th>population</th>\n",
       "      <th>gdp_for_year ($)</th>\n",
       "    </tr>\n",
       "  </thead>\n",
       "  <tbody>\n",
       "    <tr>\n",
       "      <th>0</th>\n",
       "      <td>27816</td>\n",
       "      <td>Uzbekistan</td>\n",
       "      <td>2014</td>\n",
       "      <td>female</td>\n",
       "      <td>75+ years</td>\n",
       "      <td>9</td>\n",
       "      <td>348465</td>\n",
       "      <td>63,067,077,179</td>\n",
       "    </tr>\n",
       "    <tr>\n",
       "      <th>1</th>\n",
       "      <td>27817</td>\n",
       "      <td>Uzbekistan</td>\n",
       "      <td>2014</td>\n",
       "      <td>male</td>\n",
       "      <td>5-14 years</td>\n",
       "      <td>6</td>\n",
       "      <td>2762158</td>\n",
       "      <td>63,067,077,179</td>\n",
       "    </tr>\n",
       "    <tr>\n",
       "      <th>2</th>\n",
       "      <td>27818</td>\n",
       "      <td>Uzbekistan</td>\n",
       "      <td>2014</td>\n",
       "      <td>female</td>\n",
       "      <td>5-14 years</td>\n",
       "      <td>44</td>\n",
       "      <td>2631600</td>\n",
       "      <td>63,067,077,179</td>\n",
       "    </tr>\n",
       "    <tr>\n",
       "      <th>3</th>\n",
       "      <td>27819</td>\n",
       "      <td>Uzbekistan</td>\n",
       "      <td>2014</td>\n",
       "      <td>female</td>\n",
       "      <td>55-74 years</td>\n",
       "      <td>21</td>\n",
       "      <td>1438935</td>\n",
       "      <td>63,067,077,179</td>\n",
       "    </tr>\n",
       "    <tr>\n",
       "      <th>4</th>\n",
       "      <td>27820</td>\n",
       "      <td>Republic of Korea</td>\n",
       "      <td>1992</td>\n",
       "      <td>male</td>\n",
       "      <td>15-24 years</td>\n",
       "      <td>48</td>\n",
       "      <td>4456500</td>\n",
       "      <td>350,051,111,253</td>\n",
       "    </tr>\n",
       "    <tr>\n",
       "      <th>5</th>\n",
       "      <td>27821</td>\n",
       "      <td>Bulgaria</td>\n",
       "      <td>2003</td>\n",
       "      <td>male</td>\n",
       "      <td>5-14 years</td>\n",
       "      <td>6</td>\n",
       "      <td>407671</td>\n",
       "      <td>20,982,685,981</td>\n",
       "    </tr>\n",
       "    <tr>\n",
       "      <th>6</th>\n",
       "      <td>27822</td>\n",
       "      <td>South Africa</td>\n",
       "      <td>2009</td>\n",
       "      <td>female</td>\n",
       "      <td>75+ years</td>\n",
       "      <td>3</td>\n",
       "      <td>502919</td>\n",
       "      <td>297,216,730,669</td>\n",
       "    </tr>\n",
       "    <tr>\n",
       "      <th>7</th>\n",
       "      <td>27823</td>\n",
       "      <td>Canada</td>\n",
       "      <td>2006</td>\n",
       "      <td>female</td>\n",
       "      <td>25-34 years</td>\n",
       "      <td>118</td>\n",
       "      <td>2177957</td>\n",
       "      <td>1,315,415,197,461</td>\n",
       "    </tr>\n",
       "    <tr>\n",
       "      <th>8</th>\n",
       "      <td>27826</td>\n",
       "      <td>Azerbaijan</td>\n",
       "      <td>2003</td>\n",
       "      <td>female</td>\n",
       "      <td>35-54 years</td>\n",
       "      <td>12</td>\n",
       "      <td>1137200</td>\n",
       "      <td>7,276,013,032</td>\n",
       "    </tr>\n",
       "    <tr>\n",
       "      <th>9</th>\n",
       "      <td>27827</td>\n",
       "      <td>Suriname</td>\n",
       "      <td>2010</td>\n",
       "      <td>male</td>\n",
       "      <td>15-24 years</td>\n",
       "      <td>18</td>\n",
       "      <td>48112</td>\n",
       "      <td>4,368,398,048</td>\n",
       "    </tr>\n",
       "    <tr>\n",
       "      <th>10</th>\n",
       "      <td>27829</td>\n",
       "      <td>Puerto Rico</td>\n",
       "      <td>1992</td>\n",
       "      <td>female</td>\n",
       "      <td>75+ years</td>\n",
       "      <td>2</td>\n",
       "      <td>82500</td>\n",
       "      <td>34,630,430,000</td>\n",
       "    </tr>\n",
       "    <tr>\n",
       "      <th>11</th>\n",
       "      <td>27830</td>\n",
       "      <td>Kuwait</td>\n",
       "      <td>2007</td>\n",
       "      <td>male</td>\n",
       "      <td>55-74 years</td>\n",
       "      <td>2</td>\n",
       "      <td>99708</td>\n",
       "      <td>114,641,097,818</td>\n",
       "    </tr>\n",
       "    <tr>\n",
       "      <th>12</th>\n",
       "      <td>27831</td>\n",
       "      <td>Australia</td>\n",
       "      <td>1995</td>\n",
       "      <td>male</td>\n",
       "      <td>35-54 years</td>\n",
       "      <td>587</td>\n",
       "      <td>2507400</td>\n",
       "      <td>367,216,364,716</td>\n",
       "    </tr>\n",
       "    <tr>\n",
       "      <th>13</th>\n",
       "      <td>27832</td>\n",
       "      <td>Colombia</td>\n",
       "      <td>1989</td>\n",
       "      <td>male</td>\n",
       "      <td>35-54 years</td>\n",
       "      <td>152</td>\n",
       "      <td>2802188</td>\n",
       "      <td>39,540,080,200</td>\n",
       "    </tr>\n",
       "    <tr>\n",
       "      <th>14</th>\n",
       "      <td>27833</td>\n",
       "      <td>Argentina</td>\n",
       "      <td>1988</td>\n",
       "      <td>female</td>\n",
       "      <td>5-14 years</td>\n",
       "      <td>11</td>\n",
       "      <td>3115000</td>\n",
       "      <td>126,206,817,196</td>\n",
       "    </tr>\n",
       "    <tr>\n",
       "      <th>15</th>\n",
       "      <td>27834</td>\n",
       "      <td>Ukraine</td>\n",
       "      <td>2005</td>\n",
       "      <td>female</td>\n",
       "      <td>25-34 years</td>\n",
       "      <td>182</td>\n",
       "      <td>3380536</td>\n",
       "      <td>86,142,018,069</td>\n",
       "    </tr>\n",
       "    <tr>\n",
       "      <th>16</th>\n",
       "      <td>27835</td>\n",
       "      <td>Belgium</td>\n",
       "      <td>2011</td>\n",
       "      <td>female</td>\n",
       "      <td>25-34 years</td>\n",
       "      <td>6</td>\n",
       "      <td>707535</td>\n",
       "      <td>527,008,453,887</td>\n",
       "    </tr>\n",
       "    <tr>\n",
       "      <th>17</th>\n",
       "      <td>27836</td>\n",
       "      <td>Thailand</td>\n",
       "      <td>2016</td>\n",
       "      <td>male</td>\n",
       "      <td>75+ years</td>\n",
       "      <td>152</td>\n",
       "      <td>1124052</td>\n",
       "      <td>411,755,164,833</td>\n",
       "    </tr>\n",
       "    <tr>\n",
       "      <th>18</th>\n",
       "      <td>27837</td>\n",
       "      <td>Netherlands</td>\n",
       "      <td>1998</td>\n",
       "      <td>female</td>\n",
       "      <td>15-24 years</td>\n",
       "      <td>21</td>\n",
       "      <td>934500</td>\n",
       "      <td>432,476,116,419</td>\n",
       "    </tr>\n",
       "    <tr>\n",
       "      <th>19</th>\n",
       "      <td>27839</td>\n",
       "      <td>Mexico</td>\n",
       "      <td>1988</td>\n",
       "      <td>female</td>\n",
       "      <td>75+ years</td>\n",
       "      <td>7</td>\n",
       "      <td>614000</td>\n",
       "      <td>183,144,164,357</td>\n",
       "    </tr>\n",
       "  </tbody>\n",
       "</table>\n",
       "</div>"
      ],
      "text/plain": [
       "0   index            country  year     sex          age suicides_no  \\\n",
       "0   27816         Uzbekistan  2014  female    75+ years           9   \n",
       "1   27817         Uzbekistan  2014    male   5-14 years           6   \n",
       "2   27818         Uzbekistan  2014  female   5-14 years          44   \n",
       "3   27819         Uzbekistan  2014  female  55-74 years          21   \n",
       "4   27820  Republic of Korea  1992    male  15-24 years          48   \n",
       "5   27821           Bulgaria  2003    male   5-14 years           6   \n",
       "6   27822       South Africa  2009  female    75+ years           3   \n",
       "7   27823             Canada  2006  female  25-34 years         118   \n",
       "8   27826         Azerbaijan  2003  female  35-54 years          12   \n",
       "9   27827           Suriname  2010    male  15-24 years          18   \n",
       "10  27829        Puerto Rico  1992  female    75+ years           2   \n",
       "11  27830             Kuwait  2007    male  55-74 years           2   \n",
       "12  27831          Australia  1995    male  35-54 years         587   \n",
       "13  27832           Colombia  1989    male  35-54 years         152   \n",
       "14  27833          Argentina  1988  female   5-14 years          11   \n",
       "15  27834            Ukraine  2005  female  25-34 years         182   \n",
       "16  27835            Belgium  2011  female  25-34 years           6   \n",
       "17  27836           Thailand  2016    male    75+ years         152   \n",
       "18  27837        Netherlands  1998  female  15-24 years          21   \n",
       "19  27839             Mexico  1988  female    75+ years           7   \n",
       "\n",
       "0  population  gdp_for_year ($)   \n",
       "0      348465     63,067,077,179  \n",
       "1     2762158     63,067,077,179  \n",
       "2     2631600     63,067,077,179  \n",
       "3     1438935     63,067,077,179  \n",
       "4     4456500    350,051,111,253  \n",
       "5      407671     20,982,685,981  \n",
       "6      502919    297,216,730,669  \n",
       "7     2177957  1,315,415,197,461  \n",
       "8     1137200      7,276,013,032  \n",
       "9       48112      4,368,398,048  \n",
       "10      82500     34,630,430,000  \n",
       "11      99708    114,641,097,818  \n",
       "12    2507400    367,216,364,716  \n",
       "13    2802188     39,540,080,200  \n",
       "14    3115000    126,206,817,196  \n",
       "15    3380536     86,142,018,069  \n",
       "16     707535    527,008,453,887  \n",
       "17    1124052    411,755,164,833  \n",
       "18     934500    432,476,116,419  \n",
       "19     614000    183,144,164,357  "
      ]
     },
     "execution_count": 438,
     "metadata": {},
     "output_type": "execute_result"
    }
   ],
   "source": [
    "# Now I will cut any data points with NaN since I don't know with what to replace them\n",
    "data_frame = data_frame.dropna() # deletes the rows with NaN\n",
    "data_frame.tail(20).reset_index()  ## reset the values "
   ]
  },
  {
   "cell_type": "code",
   "execution_count": null,
   "metadata": {},
   "outputs": [
    {
     "data": {
      "text/html": [
       "<div>\n",
       "<style scoped>\n",
       "    .dataframe tbody tr th:only-of-type {\n",
       "        vertical-align: middle;\n",
       "    }\n",
       "\n",
       "    .dataframe tbody tr th {\n",
       "        vertical-align: top;\n",
       "    }\n",
       "\n",
       "    .dataframe thead th {\n",
       "        text-align: right;\n",
       "    }\n",
       "</style>\n",
       "<table border=\"1\" class=\"dataframe\">\n",
       "  <thead>\n",
       "    <tr style=\"text-align: right;\">\n",
       "      <th></th>\n",
       "      <th>country</th>\n",
       "      <th>year</th>\n",
       "      <th>sex</th>\n",
       "      <th>age</th>\n",
       "      <th>suicides_no</th>\n",
       "      <th>population</th>\n",
       "      <th>gdp_for_year ($)</th>\n",
       "    </tr>\n",
       "  </thead>\n",
       "  <tbody>\n",
       "    <tr>\n",
       "      <th>0</th>\n",
       "      <td>Albania</td>\n",
       "      <td>1987</td>\n",
       "      <td>male</td>\n",
       "      <td>15-24 years</td>\n",
       "      <td>21</td>\n",
       "      <td>312900</td>\n",
       "      <td>2,156,624,900</td>\n",
       "    </tr>\n",
       "    <tr>\n",
       "      <th>1</th>\n",
       "      <td>Albania</td>\n",
       "      <td>1987</td>\n",
       "      <td>male</td>\n",
       "      <td>35-54 years</td>\n",
       "      <td>16</td>\n",
       "      <td>308000</td>\n",
       "      <td>2,156,624,900</td>\n",
       "    </tr>\n",
       "    <tr>\n",
       "      <th>2</th>\n",
       "      <td>Albania</td>\n",
       "      <td>1987</td>\n",
       "      <td>female</td>\n",
       "      <td>15-24 years</td>\n",
       "      <td>14</td>\n",
       "      <td>289700</td>\n",
       "      <td>2,156,624,900</td>\n",
       "    </tr>\n",
       "    <tr>\n",
       "      <th>3</th>\n",
       "      <td>Albania</td>\n",
       "      <td>1987</td>\n",
       "      <td>male</td>\n",
       "      <td>75+ years</td>\n",
       "      <td>1</td>\n",
       "      <td>21800</td>\n",
       "      <td>2,156,624,900</td>\n",
       "    </tr>\n",
       "    <tr>\n",
       "      <th>4</th>\n",
       "      <td>Albania</td>\n",
       "      <td>1987</td>\n",
       "      <td>male</td>\n",
       "      <td>25-34 years</td>\n",
       "      <td>9</td>\n",
       "      <td>274300</td>\n",
       "      <td>2,156,624,900</td>\n",
       "    </tr>\n",
       "    <tr>\n",
       "      <th>...</th>\n",
       "      <td>...</td>\n",
       "      <td>...</td>\n",
       "      <td>...</td>\n",
       "      <td>...</td>\n",
       "      <td>...</td>\n",
       "      <td>...</td>\n",
       "      <td>...</td>\n",
       "    </tr>\n",
       "    <tr>\n",
       "      <th>27835</th>\n",
       "      <td>Belgium</td>\n",
       "      <td>2011</td>\n",
       "      <td>female</td>\n",
       "      <td>25-34 years</td>\n",
       "      <td>6</td>\n",
       "      <td>707535</td>\n",
       "      <td>527,008,453,887</td>\n",
       "    </tr>\n",
       "    <tr>\n",
       "      <th>27836</th>\n",
       "      <td>Thailand</td>\n",
       "      <td>2016</td>\n",
       "      <td>male</td>\n",
       "      <td>75+ years</td>\n",
       "      <td>152</td>\n",
       "      <td>1124052</td>\n",
       "      <td>411,755,164,833</td>\n",
       "    </tr>\n",
       "    <tr>\n",
       "      <th>27837</th>\n",
       "      <td>Netherlands</td>\n",
       "      <td>1998</td>\n",
       "      <td>female</td>\n",
       "      <td>15-24 years</td>\n",
       "      <td>21</td>\n",
       "      <td>934500</td>\n",
       "      <td>432,476,116,419</td>\n",
       "    </tr>\n",
       "    <tr>\n",
       "      <th>27838</th>\n",
       "      <td>Grenada</td>\n",
       "      <td>2002</td>\n",
       "      <td>female</td>\n",
       "      <td>5-14 years</td>\n",
       "      <td>NaN</td>\n",
       "      <td>11760</td>\n",
       "      <td>540,336,926</td>\n",
       "    </tr>\n",
       "    <tr>\n",
       "      <th>27839</th>\n",
       "      <td>Mexico</td>\n",
       "      <td>1988</td>\n",
       "      <td>female</td>\n",
       "      <td>75+ years</td>\n",
       "      <td>7</td>\n",
       "      <td>614000</td>\n",
       "      <td>183,144,164,357</td>\n",
       "    </tr>\n",
       "  </tbody>\n",
       "</table>\n",
       "<p>27840 rows × 7 columns</p>\n",
       "</div>"
      ],
      "text/plain": [
       "0          country  year     sex          age suicides_no population  \\\n",
       "0          Albania  1987    male  15-24 years          21     312900   \n",
       "1          Albania  1987    male  35-54 years          16     308000   \n",
       "2          Albania  1987  female  15-24 years          14     289700   \n",
       "3          Albania  1987    male    75+ years           1      21800   \n",
       "4          Albania  1987    male  25-34 years           9     274300   \n",
       "...            ...   ...     ...          ...         ...        ...   \n",
       "27835      Belgium  2011  female  25-34 years           6     707535   \n",
       "27836     Thailand  2016    male    75+ years         152    1124052   \n",
       "27837  Netherlands  1998  female  15-24 years          21     934500   \n",
       "27838      Grenada  2002  female   5-14 years         NaN      11760   \n",
       "27839       Mexico  1988  female    75+ years           7     614000   \n",
       "\n",
       "0      gdp_for_year ($)   \n",
       "0          2,156,624,900  \n",
       "1          2,156,624,900  \n",
       "2          2,156,624,900  \n",
       "3          2,156,624,900  \n",
       "4          2,156,624,900  \n",
       "...                  ...  \n",
       "27835    527,008,453,887  \n",
       "27836    411,755,164,833  \n",
       "27837    432,476,116,419  \n",
       "27838        540,336,926  \n",
       "27839    183,144,164,357  \n",
       "\n",
       "[27840 rows x 7 columns]"
      ]
     },
     "execution_count": 49,
     "metadata": {},
     "output_type": "execute_result"
    }
   ],
   "source": [
    "data_frame"
   ]
  },
  {
   "cell_type": "markdown",
   "metadata": {},
   "source": [
    "Whole columns or rows should be dropped only if most entries in the column are empty. In our dataset, none of the columns are empty.\n",
    "\n",
    "\n",
    "There is some freedom in choosing which method to replace data; however, some methods may seem more reasonable than others. We will apply each method according to the data and what the column represents :\n",
    "\n",
    "**Replace by mean:** depending on the concept the  missing data could be replaced them with mean\n",
    "   "
   ]
  },
  {
   "cell_type": "markdown",
   "metadata": {},
   "source": [
    "#### Calculate the mean value for the \"suicides_no\" column\n",
    "It does not make any sense with this data but I display how to substitute with the mean to show the method. \n",
    "If you want to use it elsewhere you can remove the # in front of the code and use them \n"
   ]
  },
  {
   "cell_type": "code",
   "execution_count": 439,
   "metadata": {},
   "outputs": [
    {
     "name": "stdout",
     "output_type": "stream",
     "text": [
      "Average suicides: 217.6898205117325\n"
     ]
    }
   ],
   "source": [
    "# How to calculate and show the average of a column\n",
    "avg_suicide_no=data_frame['suicides_no'].astype('int').mean(axis=0)# First we need to make the values floats (type casting)\n",
    "print(\"Average suicides:\",avg_suicide_no )"
   ]
  },
  {
   "cell_type": "code",
   "execution_count": null,
   "metadata": {},
   "outputs": [
    {
     "name": "stdout",
     "output_type": "stream",
     "text": [
      "Average suicides integer: 217\n"
     ]
    }
   ],
   "source": [
    "print (\"Average suicides integer:\", int(avg_suicide_no))"
   ]
  },
  {
   "cell_type": "markdown",
   "metadata": {},
   "source": [
    "Replace \"NaN\" with the integer average value in the \"suicide_no\" column.\n",
    "As written above we will not replace by a mean in this example.\n",
    "I just show the code to use it when appropriate.\n",
    "\n"
   ]
  },
  {
   "cell_type": "code",
   "execution_count": null,
   "metadata": {
    "scrolled": true
   },
   "outputs": [],
   "source": [
    "#data_frame['suicides_no'].replace(np.nan, avg_suicide_no, inplace=True)"
   ]
  },
  {
   "cell_type": "markdown",
   "metadata": {},
   "source": [
    "### Replace by Frequency:\n",
    "Find the most frequent value ( the mode) of the column and replace the NaN with the most frequent"
   ]
  },
  {
   "cell_type": "code",
   "execution_count": null,
   "metadata": {
    "scrolled": true
   },
   "outputs": [
    {
     "data": {
      "text/plain": [
       "1       1876\n",
       "2       1344\n",
       "3       1001\n",
       "4        820\n",
       "5        616\n",
       "        ... \n",
       "1243       1\n",
       "2114       1\n",
       "7921       1\n",
       "7436       1\n",
       "2872       1\n",
       "Name: suicides_no, Length: 1576, dtype: int64"
      ]
     },
     "execution_count": 144,
     "metadata": {},
     "output_type": "execute_result"
    }
   ],
   "source": [
    "data_frame['suicides_no'].value_counts()"
   ]
  },
  {
   "cell_type": "markdown",
   "metadata": {},
   "source": [
    "There are 1576 different numbers in the column.  We can also use the \".idxmax()\" method to calculate the most common value automatically."
   ]
  },
  {
   "cell_type": "code",
   "execution_count": 141,
   "metadata": {
    "scrolled": true
   },
   "outputs": [
    {
     "data": {
      "text/plain": [
       "'1'"
      ]
     },
     "execution_count": 141,
     "metadata": {},
     "output_type": "execute_result"
    }
   ],
   "source": [
    "data_frame['suicides_no'].value_counts().idxmax()"
   ]
  },
  {
   "cell_type": "markdown",
   "metadata": {},
   "source": [
    "We can see that number **'1' is the most common value**.\n"
   ]
  },
  {
   "cell_type": "markdown",
   "metadata": {},
   "source": [
    "The replacement procedure is very similar to what we have seen previously:\n"
   ]
  },
  {
   "cell_type": "code",
   "execution_count": 142,
   "metadata": {},
   "outputs": [],
   "source": [
    "#replace the missing 'NaN' values in the suicides_no column  by the most frequent number which is 1 \n",
    "data_frame['suicides_no'].replace(np.nan, 1 , inplace=True)"
   ]
  },
  {
   "cell_type": "markdown",
   "metadata": {},
   "source": [
    "<b>Good!</b> Now, we have a dataset with no missing values.\n"
   ]
  },
  {
   "cell_type": "markdown",
   "metadata": {},
   "source": [
    "<h2 id=\"correct_data_format\"> 4 Correct data format </h2>\n",
    "\n",
    "We are almost there!\n",
    "The last step in data cleaning is checking and making sure that all data is in the correct format (int, float, text or other)\n",
    "\n",
    "In Pandas, we use:\n",
    "\n",
    "**.dtype()** to check the data type\n",
    "**.astype()**  to change the data type\n"
   ]
  },
  {
   "cell_type": "markdown",
   "metadata": {},
   "source": [
    "<h4>Let's list the data types for each column</h4>\n"
   ]
  },
  {
   "cell_type": "code",
   "execution_count": 143,
   "metadata": {
    "scrolled": true
   },
   "outputs": [
    {
     "data": {
      "text/plain": [
       "0\n",
       "country               object\n",
       "year                  object\n",
       "sex                   object\n",
       "age                   object\n",
       "suicides_no           object\n",
       "population            object\n",
       " gdp_for_year ($)     object\n",
       "dtype: object"
      ]
     },
     "execution_count": 143,
     "metadata": {},
     "output_type": "execute_result"
    }
   ],
   "source": [
    "data_frame.dtypes"
   ]
  },
  {
   "cell_type": "markdown",
   "metadata": {},
   "source": [
    "As we can see above, some columns are not of the correct data type. Numerical variables should have type 'float' or 'int', and variables with strings such as categories should have type 'object'. For example, 'year', 'age', 'suicides_no, 'population, and 'gdp_for_year ($)' variables are numerical values, so we should expect them to be of the type 'float' or 'int'; however, they are shown as type 'object'. We have to convert data types into a proper format for each column using the **.astype()** method."
   ]
  },
  {
   "cell_type": "markdown",
   "metadata": {},
   "source": [
    "<h4>Convert data types to proper format</h4>\n"
   ]
  },
  {
   "cell_type": "code",
   "execution_count": 144,
   "metadata": {},
   "outputs": [],
   "source": [
    "data_frame[[\"year\", \"suicides_no\", \"population\"]] = data_frame[[\"year\", \"suicides_no\", \"population\"]].astype(\"int\")\n",
    "#Type casting using .astype(\"float\")   .astype(\"str\")"
   ]
  },
  {
   "cell_type": "markdown",
   "metadata": {},
   "source": [
    "## The problems of the column 'gdp_for_year '\n",
    "* The header of the column has a space before the dolar symbol 'gdp_for_year ($)' and we need to replace it with a   name that is coherent and like 'gdp_for_year_usd'\n",
    "* The format of the numbers in the column should be without the commas."
   ]
  },
  {
   "cell_type": "markdown",
   "metadata": {},
   "source": [
    "### 1st Change the header"
   ]
  },
  {
   "cell_type": "code",
   "execution_count": 440,
   "metadata": {},
   "outputs": [],
   "source": [
    "headers= data_frame.columns # Select the headers"
   ]
  },
  {
   "cell_type": "code",
   "execution_count": 442,
   "metadata": {},
   "outputs": [
    {
     "data": {
      "text/plain": [
       "['country',\n",
       " 'year',\n",
       " 'sex',\n",
       " 'age',\n",
       " 'suicides_no',\n",
       " 'population',\n",
       " ' gdp_for_year_usd ']"
      ]
     },
     "execution_count": 442,
     "metadata": {},
     "output_type": "execute_result"
    }
   ],
   "source": [
    "##There are spaces at the name of the column \"  gdp_for_year-usd  \" and I'm replacing it with a name without spaces \"gdp_for_year_usd\"\n",
    "## #Create a list (headers) and replace with the **lamda* method one \n",
    "headers = list(map(lambda x: x.replace(' gdp_for_year ($) ', 'gdp_for_year_usd'), headers)) #Create a list and replace with the **lamda* method one value of the list\n",
    "headers"
   ]
  },
  {
   "cell_type": "code",
   "execution_count": 444,
   "metadata": {},
   "outputs": [],
   "source": [
    "data_frame.columns=headers"
   ]
  },
  {
   "cell_type": "markdown",
   "metadata": {},
   "source": [
    "### 2nd Change the format "
   ]
  },
  {
   "cell_type": "code",
   "execution_count": 445,
   "metadata": {
    "scrolled": true
   },
   "outputs": [
    {
     "data": {
      "text/plain": [
       "country               object\n",
       "year                  object\n",
       "sex                   object\n",
       "age                   object\n",
       "suicides_no           object\n",
       "population            object\n",
       " gdp_for_year_usd     object\n",
       "dtype: object"
      ]
     },
     "execution_count": 445,
     "metadata": {},
     "output_type": "execute_result"
    }
   ],
   "source": [
    "data_frame.dtypes"
   ]
  },
  {
   "cell_type": "code",
   "execution_count": 446,
   "metadata": {},
   "outputs": [
    {
     "data": {
      "text/plain": [
       "0          2,156,624,900\n",
       "1          2,156,624,900\n",
       "2          2,156,624,900\n",
       "3          2,156,624,900\n",
       "4          2,156,624,900\n",
       "              ...       \n",
       "27834     86,142,018,069\n",
       "27835    527,008,453,887\n",
       "27836    411,755,164,833\n",
       "27837    432,476,116,419\n",
       "27839    183,144,164,357\n",
       "Name:  gdp_for_year_usd , Length: 23567, dtype: object"
      ]
     },
     "execution_count": 446,
     "metadata": {},
     "output_type": "execute_result"
    }
   ],
   "source": [
    "data_frame[' gdp_for_year_usd '] # Show the values, which are of the type object"
   ]
  },
  {
   "cell_type": "markdown",
   "metadata": {},
   "source": [
    "We need to REMOVE the COMMAS ' on the numbers and typecasting them to integers."
   ]
  },
  {
   "cell_type": "code",
   "execution_count": 447,
   "metadata": {},
   "outputs": [
    {
     "name": "stderr",
     "output_type": "stream",
     "text": [
      "/var/folders/gj/dgl6hw9x1s97d60b9xb48lym0000gn/T/ipykernel_924/1281229263.py:2: SettingWithCopyWarning: \n",
      "A value is trying to be set on a copy of a slice from a DataFrame.\n",
      "Try using .loc[row_indexer,col_indexer] = value instead\n",
      "\n",
      "See the caveats in the documentation: https://pandas.pydata.org/pandas-docs/stable/user_guide/indexing.html#returning-a-view-versus-a-copy\n",
      "  data_frame[' gdp_for_year_usd ']= data_frame[' gdp_for_year_usd '].str.replace(',', '').astype(int)\n"
     ]
    },
    {
     "data": {
      "text/plain": [
       "0          2156624900\n",
       "1          2156624900\n",
       "2          2156624900\n",
       "3          2156624900\n",
       "4          2156624900\n",
       "             ...     \n",
       "27834     86142018069\n",
       "27835    527008453887\n",
       "27836    411755164833\n",
       "27837    432476116419\n",
       "27839    183144164357\n",
       "Name:  gdp_for_year_usd , Length: 23567, dtype: int64"
      ]
     },
     "execution_count": 447,
     "metadata": {},
     "output_type": "execute_result"
    }
   ],
   "source": [
    "# First replace the string comma ',' empty space''. Then typecasting the column to integers\n",
    "data_frame[' gdp_for_year_usd ']= data_frame[' gdp_for_year_usd '].str.replace(',', '').astype(int)\n",
    "data_frame[' gdp_for_year_usd ']"
   ]
  },
  {
   "cell_type": "code",
   "execution_count": 448,
   "metadata": {},
   "outputs": [
    {
     "data": {
      "text/plain": [
       "0          2156624900\n",
       "1          2156624900\n",
       "2          2156624900\n",
       "3          2156624900\n",
       "4          2156624900\n",
       "             ...     \n",
       "27834     86142018069\n",
       "27835    527008453887\n",
       "27836    411755164833\n",
       "27837    432476116419\n",
       "27839    183144164357\n",
       "Name:  gdp_for_year_usd , Length: 23567, dtype: int64"
      ]
     },
     "execution_count": 448,
     "metadata": {},
     "output_type": "execute_result"
    }
   ],
   "source": [
    "data_frame[' gdp_for_year_usd '].astype(\"int\")"
   ]
  },
  {
   "cell_type": "markdown",
   "metadata": {},
   "source": [
    "<h4>Let us list the columns after the conversion</h4>\n"
   ]
  },
  {
   "cell_type": "code",
   "execution_count": 449,
   "metadata": {},
   "outputs": [
    {
     "data": {
      "text/plain": [
       "country               object\n",
       "year                  object\n",
       "sex                   object\n",
       "age                   object\n",
       "suicides_no           object\n",
       "population            object\n",
       " gdp_for_year_usd      int64\n",
       "dtype: object"
      ]
     },
     "execution_count": 449,
     "metadata": {},
     "output_type": "execute_result"
    }
   ],
   "source": [
    "data_frame.dtypes"
   ]
  },
  {
   "cell_type": "code",
   "execution_count": 458,
   "metadata": {},
   "outputs": [],
   "source": [
    "data_frame = data_frame.astype({\"year\" : int,\"suicides_no\" : int, \"population\" : int}) # The Suicides_no and GDP_for_Year cannot transformed"
   ]
  },
  {
   "cell_type": "markdown",
   "metadata": {},
   "source": []
  },
  {
   "cell_type": "code",
   "execution_count": 163,
   "metadata": {
    "scrolled": true
   },
   "outputs": [
    {
     "data": {
      "text/html": [
       "<div>\n",
       "<style scoped>\n",
       "    .dataframe tbody tr th:only-of-type {\n",
       "        vertical-align: middle;\n",
       "    }\n",
       "\n",
       "    .dataframe tbody tr th {\n",
       "        vertical-align: top;\n",
       "    }\n",
       "\n",
       "    .dataframe thead th {\n",
       "        text-align: right;\n",
       "    }\n",
       "</style>\n",
       "<table border=\"1\" class=\"dataframe\">\n",
       "  <thead>\n",
       "    <tr style=\"text-align: right;\">\n",
       "      <th></th>\n",
       "      <th>country</th>\n",
       "      <th>year</th>\n",
       "      <th>sex</th>\n",
       "      <th>age</th>\n",
       "      <th>suicides_no</th>\n",
       "      <th>population</th>\n",
       "      <th>gdp_for_year_usd</th>\n",
       "    </tr>\n",
       "  </thead>\n",
       "  <tbody>\n",
       "    <tr>\n",
       "      <th>0</th>\n",
       "      <td>Albania</td>\n",
       "      <td>1987</td>\n",
       "      <td>male</td>\n",
       "      <td>15-24 years</td>\n",
       "      <td>21</td>\n",
       "      <td>312900</td>\n",
       "      <td>2156624900</td>\n",
       "    </tr>\n",
       "    <tr>\n",
       "      <th>1</th>\n",
       "      <td>Albania</td>\n",
       "      <td>1987</td>\n",
       "      <td>male</td>\n",
       "      <td>35-54 years</td>\n",
       "      <td>16</td>\n",
       "      <td>308000</td>\n",
       "      <td>2156624900</td>\n",
       "    </tr>\n",
       "    <tr>\n",
       "      <th>2</th>\n",
       "      <td>Albania</td>\n",
       "      <td>1987</td>\n",
       "      <td>female</td>\n",
       "      <td>15-24 years</td>\n",
       "      <td>14</td>\n",
       "      <td>289700</td>\n",
       "      <td>2156624900</td>\n",
       "    </tr>\n",
       "    <tr>\n",
       "      <th>3</th>\n",
       "      <td>Albania</td>\n",
       "      <td>1987</td>\n",
       "      <td>male</td>\n",
       "      <td>75+ years</td>\n",
       "      <td>1</td>\n",
       "      <td>21800</td>\n",
       "      <td>2156624900</td>\n",
       "    </tr>\n",
       "    <tr>\n",
       "      <th>4</th>\n",
       "      <td>Albania</td>\n",
       "      <td>1987</td>\n",
       "      <td>male</td>\n",
       "      <td>25-34 years</td>\n",
       "      <td>9</td>\n",
       "      <td>274300</td>\n",
       "      <td>2156624900</td>\n",
       "    </tr>\n",
       "  </tbody>\n",
       "</table>\n",
       "</div>"
      ],
      "text/plain": [
       "   country  year     sex          age  suicides_no  population  \\\n",
       "0  Albania  1987    male  15-24 years           21      312900   \n",
       "1  Albania  1987    male  35-54 years           16      308000   \n",
       "2  Albania  1987  female  15-24 years           14      289700   \n",
       "3  Albania  1987    male    75+ years            1       21800   \n",
       "4  Albania  1987    male  25-34 years            9      274300   \n",
       "\n",
       "    gdp_for_year_usd   \n",
       "0          2156624900  \n",
       "1          2156624900  \n",
       "2          2156624900  \n",
       "3          2156624900  \n",
       "4          2156624900  "
      ]
     },
     "execution_count": 163,
     "metadata": {},
     "output_type": "execute_result"
    }
   ],
   "source": [
    "data_frame.head()"
   ]
  },
  {
   "cell_type": "markdown",
   "metadata": {},
   "source": [
    "### **Wonderful!**\n",
    "#### Save the data\n",
    "\n",
    "Now we have finally obtained the cleaned dataset with no missing values with all data in its proper format.\n",
    "We can save this data set as it is now the 'clean' data set which is ready for processing. \n"
   ]
  },
  {
   "cell_type": "code",
   "execution_count": 166,
   "metadata": {},
   "outputs": [],
   "source": [
    "data_frame.to_csv(r'./who_suicide_statistics_clean_data.csv', index=False)"
   ]
  },
  {
   "cell_type": "markdown",
   "metadata": {},
   "source": [
    "# **Data Operations**\n",
    "Data operations can be performed through various built-in methods for faster data processing and analysis. A few methods are:\n",
    "- Operations using Grouping\n",
    "- Operations with Sorting\n",
    "- Operations with Statistics \n",
    "- Operations with Functions (Standarisation and Normalisation)\n",
    "\n",
    "\n"
   ]
  },
  {
   "cell_type": "markdown",
   "metadata": {},
   "source": [
    "##  Grouping\n",
    " Use  **.groupby('..')** Its a function of grouping the data. It involes a combination of **spliting** the object applying a function and **combine** the results **.groupby('column name, value')**"
   ]
  },
  {
   "cell_type": "markdown",
   "metadata": {},
   "source": [
    "To select the data of a single country from the 101, I'll  group the data frame by 'country' and from that I will select the country of preference by using **.get_group('selection').\n",
    "Lets select the data for the United Kingdom."
   ]
  },
  {
   "cell_type": "code",
   "execution_count": 450,
   "metadata": {},
   "outputs": [
    {
     "data": {
      "text/html": [
       "<div>\n",
       "<style scoped>\n",
       "    .dataframe tbody tr th:only-of-type {\n",
       "        vertical-align: middle;\n",
       "    }\n",
       "\n",
       "    .dataframe tbody tr th {\n",
       "        vertical-align: top;\n",
       "    }\n",
       "\n",
       "    .dataframe thead th {\n",
       "        text-align: right;\n",
       "    }\n",
       "</style>\n",
       "<table border=\"1\" class=\"dataframe\">\n",
       "  <thead>\n",
       "    <tr style=\"text-align: right;\">\n",
       "      <th></th>\n",
       "      <th>country</th>\n",
       "      <th>year</th>\n",
       "      <th>sex</th>\n",
       "      <th>age</th>\n",
       "      <th>suicides_no</th>\n",
       "      <th>population</th>\n",
       "      <th>gdp_for_year_usd</th>\n",
       "    </tr>\n",
       "  </thead>\n",
       "  <tbody>\n",
       "    <tr>\n",
       "      <th>26476</th>\n",
       "      <td>United Kingdom</td>\n",
       "      <td>1985</td>\n",
       "      <td>male</td>\n",
       "      <td>75+ years</td>\n",
       "      <td>264</td>\n",
       "      <td>1202838</td>\n",
       "      <td>489285164271</td>\n",
       "    </tr>\n",
       "    <tr>\n",
       "      <th>26477</th>\n",
       "      <td>United Kingdom</td>\n",
       "      <td>1985</td>\n",
       "      <td>male</td>\n",
       "      <td>55-74 years</td>\n",
       "      <td>915</td>\n",
       "      <td>5170113</td>\n",
       "      <td>489285164271</td>\n",
       "    </tr>\n",
       "    <tr>\n",
       "      <th>26478</th>\n",
       "      <td>United Kingdom</td>\n",
       "      <td>1985</td>\n",
       "      <td>male</td>\n",
       "      <td>35-54 years</td>\n",
       "      <td>128</td>\n",
       "      <td>6899879</td>\n",
       "      <td>489285164271</td>\n",
       "    </tr>\n",
       "    <tr>\n",
       "      <th>26479</th>\n",
       "      <td>United Kingdom</td>\n",
       "      <td>1985</td>\n",
       "      <td>male</td>\n",
       "      <td>25-34 years</td>\n",
       "      <td>62</td>\n",
       "      <td>3969689</td>\n",
       "      <td>489285164271</td>\n",
       "    </tr>\n",
       "    <tr>\n",
       "      <th>26480</th>\n",
       "      <td>United Kingdom</td>\n",
       "      <td>1985</td>\n",
       "      <td>female</td>\n",
       "      <td>55-74 years</td>\n",
       "      <td>678</td>\n",
       "      <td>6002096</td>\n",
       "      <td>489285164271</td>\n",
       "    </tr>\n",
       "    <tr>\n",
       "      <th>...</th>\n",
       "      <td>...</td>\n",
       "      <td>...</td>\n",
       "      <td>...</td>\n",
       "      <td>...</td>\n",
       "      <td>...</td>\n",
       "      <td>...</td>\n",
       "      <td>...</td>\n",
       "    </tr>\n",
       "    <tr>\n",
       "      <th>26843</th>\n",
       "      <td>United Kingdom</td>\n",
       "      <td>2015</td>\n",
       "      <td>female</td>\n",
       "      <td>25-34 years</td>\n",
       "      <td>181</td>\n",
       "      <td>4414464</td>\n",
       "      <td>2885570309161</td>\n",
       "    </tr>\n",
       "    <tr>\n",
       "      <th>26844</th>\n",
       "      <td>United Kingdom</td>\n",
       "      <td>2015</td>\n",
       "      <td>female</td>\n",
       "      <td>75+ years</td>\n",
       "      <td>18</td>\n",
       "      <td>3070457</td>\n",
       "      <td>2885570309161</td>\n",
       "    </tr>\n",
       "    <tr>\n",
       "      <th>26845</th>\n",
       "      <td>United Kingdom</td>\n",
       "      <td>2015</td>\n",
       "      <td>female</td>\n",
       "      <td>15-24 years</td>\n",
       "      <td>14</td>\n",
       "      <td>3966564</td>\n",
       "      <td>2885570309161</td>\n",
       "    </tr>\n",
       "    <tr>\n",
       "      <th>26846</th>\n",
       "      <td>United Kingdom</td>\n",
       "      <td>2015</td>\n",
       "      <td>female</td>\n",
       "      <td>5-14 years</td>\n",
       "      <td>6</td>\n",
       "      <td>3663221</td>\n",
       "      <td>2885570309161</td>\n",
       "    </tr>\n",
       "    <tr>\n",
       "      <th>26847</th>\n",
       "      <td>United Kingdom</td>\n",
       "      <td>2015</td>\n",
       "      <td>male</td>\n",
       "      <td>5-14 years</td>\n",
       "      <td>4</td>\n",
       "      <td>3840476</td>\n",
       "      <td>2885570309161</td>\n",
       "    </tr>\n",
       "  </tbody>\n",
       "</table>\n",
       "<p>369 rows × 7 columns</p>\n",
       "</div>"
      ],
      "text/plain": [
       "              country  year     sex          age suicides_no population  \\\n",
       "26476  United Kingdom  1985    male    75+ years         264    1202838   \n",
       "26477  United Kingdom  1985    male  55-74 years         915    5170113   \n",
       "26478  United Kingdom  1985    male  35-54 years         128    6899879   \n",
       "26479  United Kingdom  1985    male  25-34 years          62    3969689   \n",
       "26480  United Kingdom  1985  female  55-74 years         678    6002096   \n",
       "...               ...   ...     ...          ...         ...        ...   \n",
       "26843  United Kingdom  2015  female  25-34 years         181    4414464   \n",
       "26844  United Kingdom  2015  female    75+ years          18    3070457   \n",
       "26845  United Kingdom  2015  female  15-24 years          14    3966564   \n",
       "26846  United Kingdom  2015  female   5-14 years           6    3663221   \n",
       "26847  United Kingdom  2015    male   5-14 years           4    3840476   \n",
       "\n",
       "        gdp_for_year_usd   \n",
       "26476        489285164271  \n",
       "26477        489285164271  \n",
       "26478        489285164271  \n",
       "26479        489285164271  \n",
       "26480        489285164271  \n",
       "...                   ...  \n",
       "26843       2885570309161  \n",
       "26844       2885570309161  \n",
       "26845       2885570309161  \n",
       "26846       2885570309161  \n",
       "26847       2885570309161  \n",
       "\n",
       "[369 rows x 7 columns]"
      ]
     },
     "execution_count": 450,
     "metadata": {},
     "output_type": "execute_result"
    }
   ],
   "source": [
    "country_grouped= data_frame.groupby(['country'])\n",
    "UK_data=country_grouped.get_group('United Kingdom')\n",
    "UK_data"
   ]
  },
  {
   "cell_type": "markdown",
   "metadata": {},
   "source": [
    "We make another data frame by selecting the columns that we want to analyse "
   ]
  },
  {
   "cell_type": "code",
   "execution_count": 451,
   "metadata": {},
   "outputs": [
    {
     "data": {
      "text/html": [
       "<div>\n",
       "<style scoped>\n",
       "    .dataframe tbody tr th:only-of-type {\n",
       "        vertical-align: middle;\n",
       "    }\n",
       "\n",
       "    .dataframe tbody tr th {\n",
       "        vertical-align: top;\n",
       "    }\n",
       "\n",
       "    .dataframe thead th {\n",
       "        text-align: right;\n",
       "    }\n",
       "</style>\n",
       "<table border=\"1\" class=\"dataframe\">\n",
       "  <thead>\n",
       "    <tr style=\"text-align: right;\">\n",
       "      <th></th>\n",
       "      <th>country</th>\n",
       "      <th>year</th>\n",
       "      <th>suicides_no</th>\n",
       "    </tr>\n",
       "  </thead>\n",
       "  <tbody>\n",
       "    <tr>\n",
       "      <th>26476</th>\n",
       "      <td>United Kingdom</td>\n",
       "      <td>1985</td>\n",
       "      <td>264</td>\n",
       "    </tr>\n",
       "    <tr>\n",
       "      <th>26477</th>\n",
       "      <td>United Kingdom</td>\n",
       "      <td>1985</td>\n",
       "      <td>915</td>\n",
       "    </tr>\n",
       "    <tr>\n",
       "      <th>26478</th>\n",
       "      <td>United Kingdom</td>\n",
       "      <td>1985</td>\n",
       "      <td>128</td>\n",
       "    </tr>\n",
       "    <tr>\n",
       "      <th>26479</th>\n",
       "      <td>United Kingdom</td>\n",
       "      <td>1985</td>\n",
       "      <td>62</td>\n",
       "    </tr>\n",
       "    <tr>\n",
       "      <th>26480</th>\n",
       "      <td>United Kingdom</td>\n",
       "      <td>1985</td>\n",
       "      <td>678</td>\n",
       "    </tr>\n",
       "    <tr>\n",
       "      <th>...</th>\n",
       "      <td>...</td>\n",
       "      <td>...</td>\n",
       "      <td>...</td>\n",
       "    </tr>\n",
       "    <tr>\n",
       "      <th>26843</th>\n",
       "      <td>United Kingdom</td>\n",
       "      <td>2015</td>\n",
       "      <td>181</td>\n",
       "    </tr>\n",
       "    <tr>\n",
       "      <th>26844</th>\n",
       "      <td>United Kingdom</td>\n",
       "      <td>2015</td>\n",
       "      <td>18</td>\n",
       "    </tr>\n",
       "    <tr>\n",
       "      <th>26845</th>\n",
       "      <td>United Kingdom</td>\n",
       "      <td>2015</td>\n",
       "      <td>14</td>\n",
       "    </tr>\n",
       "    <tr>\n",
       "      <th>26846</th>\n",
       "      <td>United Kingdom</td>\n",
       "      <td>2015</td>\n",
       "      <td>6</td>\n",
       "    </tr>\n",
       "    <tr>\n",
       "      <th>26847</th>\n",
       "      <td>United Kingdom</td>\n",
       "      <td>2015</td>\n",
       "      <td>4</td>\n",
       "    </tr>\n",
       "  </tbody>\n",
       "</table>\n",
       "<p>369 rows × 3 columns</p>\n",
       "</div>"
      ],
      "text/plain": [
       "              country  year suicides_no\n",
       "26476  United Kingdom  1985         264\n",
       "26477  United Kingdom  1985         915\n",
       "26478  United Kingdom  1985         128\n",
       "26479  United Kingdom  1985          62\n",
       "26480  United Kingdom  1985         678\n",
       "...               ...   ...         ...\n",
       "26843  United Kingdom  2015         181\n",
       "26844  United Kingdom  2015          18\n",
       "26845  United Kingdom  2015          14\n",
       "26846  United Kingdom  2015           6\n",
       "26847  United Kingdom  2015           4\n",
       "\n",
       "[369 rows x 3 columns]"
      ]
     },
     "execution_count": 451,
     "metadata": {},
     "output_type": "execute_result"
    }
   ],
   "source": [
    "UK_data_year_suicides= UK_data[['country','year', 'suicides_no']] # country_grouped.get_group('United Kingdom').\n",
    "UK_data_year_suicides"
   ]
  },
  {
   "cell_type": "markdown",
   "metadata": {},
   "source": [
    "To find the total suicides of each year, group two columns together and use the  method **.sum()**\n"
   ]
  },
  {
   "cell_type": "code",
   "execution_count": 452,
   "metadata": {},
   "outputs": [
    {
     "data": {
      "text/html": [
       "<div>\n",
       "<style scoped>\n",
       "    .dataframe tbody tr th:only-of-type {\n",
       "        vertical-align: middle;\n",
       "    }\n",
       "\n",
       "    .dataframe tbody tr th {\n",
       "        vertical-align: top;\n",
       "    }\n",
       "\n",
       "    .dataframe thead th {\n",
       "        text-align: right;\n",
       "    }\n",
       "</style>\n",
       "<table border=\"1\" class=\"dataframe\">\n",
       "  <thead>\n",
       "    <tr style=\"text-align: right;\">\n",
       "      <th></th>\n",
       "      <th>country</th>\n",
       "      <th>year</th>\n",
       "      <th>suicides_no</th>\n",
       "    </tr>\n",
       "  </thead>\n",
       "  <tbody>\n",
       "    <tr>\n",
       "      <th>0</th>\n",
       "      <td>United Kingdom</td>\n",
       "      <td>1985</td>\n",
       "      <td>26491512862678237411551768632</td>\n",
       "    </tr>\n",
       "    <tr>\n",
       "      <th>1</th>\n",
       "      <td>United Kingdom</td>\n",
       "      <td>1986</td>\n",
       "      <td>2889211526164492235414241619722</td>\n",
       "    </tr>\n",
       "    <tr>\n",
       "      <th>2</th>\n",
       "      <td>United Kingdom</td>\n",
       "      <td>1987</td>\n",
       "      <td>2488571726184614641744171681573</td>\n",
       "    </tr>\n",
       "    <tr>\n",
       "      <th>3</th>\n",
       "      <td>United Kingdom</td>\n",
       "      <td>1988</td>\n",
       "      <td>3131218695816565254454171711242</td>\n",
       "    </tr>\n",
       "    <tr>\n",
       "      <th>4</th>\n",
       "      <td>United Kingdom</td>\n",
       "      <td>1989</td>\n",
       "      <td>2671117664734821763523531578721</td>\n",
       "    </tr>\n",
       "    <tr>\n",
       "      <th>5</th>\n",
       "      <td>United Kingdom</td>\n",
       "      <td>1990</td>\n",
       "      <td>2641246763721528341543618852</td>\n",
       "    </tr>\n",
       "    <tr>\n",
       "      <th>6</th>\n",
       "      <td>United Kingdom</td>\n",
       "      <td>1991</td>\n",
       "      <td>1342812386284811513113361619341</td>\n",
       "    </tr>\n",
       "    <tr>\n",
       "      <th>7</th>\n",
       "      <td>United Kingdom</td>\n",
       "      <td>1992</td>\n",
       "      <td>13617852166935143299347191912</td>\n",
       "    </tr>\n",
       "    <tr>\n",
       "      <th>8</th>\n",
       "      <td>United Kingdom</td>\n",
       "      <td>1993</td>\n",
       "      <td>12747732215165216626333518182122</td>\n",
       "    </tr>\n",
       "    <tr>\n",
       "      <th>9</th>\n",
       "      <td>United Kingdom</td>\n",
       "      <td>1994</td>\n",
       "      <td>88112422184455951482563241768294</td>\n",
       "    </tr>\n",
       "  </tbody>\n",
       "</table>\n",
       "</div>"
      ],
      "text/plain": [
       "          country  year                       suicides_no\n",
       "0  United Kingdom  1985     26491512862678237411551768632\n",
       "1  United Kingdom  1986   2889211526164492235414241619722\n",
       "2  United Kingdom  1987   2488571726184614641744171681573\n",
       "3  United Kingdom  1988   3131218695816565254454171711242\n",
       "4  United Kingdom  1989   2671117664734821763523531578721\n",
       "5  United Kingdom  1990      2641246763721528341543618852\n",
       "6  United Kingdom  1991   1342812386284811513113361619341\n",
       "7  United Kingdom  1992     13617852166935143299347191912\n",
       "8  United Kingdom  1993  12747732215165216626333518182122\n",
       "9  United Kingdom  1994  88112422184455951482563241768294"
      ]
     },
     "execution_count": 452,
     "metadata": {},
     "output_type": "execute_result"
    }
   ],
   "source": [
    "UK_suicides_per_year =UK_data_year_suicides.groupby(['country','year'],as_index=False).sum()\n",
    "UK_suicides_per_year.head(10)"
   ]
  },
  {
   "cell_type": "markdown",
   "metadata": {},
   "source": [
    "## Sorting values \n",
    "To sort values either according to their size or alphabetical order we use  the method **.sort_values**"
   ]
  },
  {
   "cell_type": "code",
   "execution_count": 453,
   "metadata": {},
   "outputs": [
    {
     "data": {
      "text/html": [
       "<div>\n",
       "<style scoped>\n",
       "    .dataframe tbody tr th:only-of-type {\n",
       "        vertical-align: middle;\n",
       "    }\n",
       "\n",
       "    .dataframe tbody tr th {\n",
       "        vertical-align: top;\n",
       "    }\n",
       "\n",
       "    .dataframe thead th {\n",
       "        text-align: right;\n",
       "    }\n",
       "</style>\n",
       "<table border=\"1\" class=\"dataframe\">\n",
       "  <thead>\n",
       "    <tr style=\"text-align: right;\">\n",
       "      <th></th>\n",
       "      <th>country</th>\n",
       "      <th>year</th>\n",
       "      <th>suicides_no</th>\n",
       "    </tr>\n",
       "  </thead>\n",
       "  <tbody>\n",
       "    <tr>\n",
       "      <th>8</th>\n",
       "      <td>United Kingdom</td>\n",
       "      <td>1993</td>\n",
       "      <td>12747732215165216626333518182122</td>\n",
       "    </tr>\n",
       "    <tr>\n",
       "      <th>22</th>\n",
       "      <td>United Kingdom</td>\n",
       "      <td>2007</td>\n",
       "      <td>1332547214613393542313282714</td>\n",
       "    </tr>\n",
       "    <tr>\n",
       "      <th>6</th>\n",
       "      <td>United Kingdom</td>\n",
       "      <td>1991</td>\n",
       "      <td>1342812386284811513113361619341</td>\n",
       "    </tr>\n",
       "    <tr>\n",
       "      <th>20</th>\n",
       "      <td>United Kingdom</td>\n",
       "      <td>2005</td>\n",
       "      <td>135956321561729645162237978844</td>\n",
       "    </tr>\n",
       "    <tr>\n",
       "      <th>7</th>\n",
       "      <td>United Kingdom</td>\n",
       "      <td>1992</td>\n",
       "      <td>13617852166935143299347191912</td>\n",
       "    </tr>\n",
       "    <tr>\n",
       "      <th>19</th>\n",
       "      <td>United Kingdom</td>\n",
       "      <td>2004</td>\n",
       "      <td>142259922161315423115244158841</td>\n",
       "    </tr>\n",
       "    <tr>\n",
       "      <th>23</th>\n",
       "      <td>United Kingdom</td>\n",
       "      <td>2008</td>\n",
       "      <td>14416172216923234215627888176</td>\n",
       "    </tr>\n",
       "    <tr>\n",
       "      <th>25</th>\n",
       "      <td>United Kingdom</td>\n",
       "      <td>2010</td>\n",
       "      <td>14445132276963444232133891631</td>\n",
       "    </tr>\n",
       "    <tr>\n",
       "      <th>21</th>\n",
       "      <td>United Kingdom</td>\n",
       "      <td>2006</td>\n",
       "      <td>145756265619938397238138867443</td>\n",
       "    </tr>\n",
       "    <tr>\n",
       "      <th>24</th>\n",
       "      <td>United Kingdom</td>\n",
       "      <td>2009</td>\n",
       "      <td>1542564676195332387229133978443</td>\n",
       "    </tr>\n",
       "    <tr>\n",
       "      <th>30</th>\n",
       "      <td>United Kingdom</td>\n",
       "      <td>2015</td>\n",
       "      <td>15795969627337447336181181464</td>\n",
       "    </tr>\n",
       "    <tr>\n",
       "      <th>27</th>\n",
       "      <td>United Kingdom</td>\n",
       "      <td>2012</td>\n",
       "      <td>15875977392153644315321193712</td>\n",
       "    </tr>\n",
       "    <tr>\n",
       "      <th>26</th>\n",
       "      <td>United Kingdom</td>\n",
       "      <td>2011</td>\n",
       "      <td>161155378273464172351341784</td>\n",
       "    </tr>\n",
       "    <tr>\n",
       "      <th>29</th>\n",
       "      <td>United Kingdom</td>\n",
       "      <td>2014</td>\n",
       "      <td>169262827257332462262155831376</td>\n",
       "    </tr>\n",
       "    <tr>\n",
       "      <th>28</th>\n",
       "      <td>United Kingdom</td>\n",
       "      <td>2013</td>\n",
       "      <td>174398586258331449132321248154</td>\n",
       "    </tr>\n",
       "    <tr>\n",
       "      <th>2</th>\n",
       "      <td>United Kingdom</td>\n",
       "      <td>1987</td>\n",
       "      <td>2488571726184614641744171681573</td>\n",
       "    </tr>\n",
       "    <tr>\n",
       "      <th>5</th>\n",
       "      <td>United Kingdom</td>\n",
       "      <td>1990</td>\n",
       "      <td>2641246763721528341543618852</td>\n",
       "    </tr>\n",
       "    <tr>\n",
       "      <th>0</th>\n",
       "      <td>United Kingdom</td>\n",
       "      <td>1985</td>\n",
       "      <td>26491512862678237411551768632</td>\n",
       "    </tr>\n",
       "    <tr>\n",
       "      <th>4</th>\n",
       "      <td>United Kingdom</td>\n",
       "      <td>1989</td>\n",
       "      <td>2671117664734821763523531578721</td>\n",
       "    </tr>\n",
       "    <tr>\n",
       "      <th>1</th>\n",
       "      <td>United Kingdom</td>\n",
       "      <td>1986</td>\n",
       "      <td>2889211526164492235414241619722</td>\n",
       "    </tr>\n",
       "    <tr>\n",
       "      <th>3</th>\n",
       "      <td>United Kingdom</td>\n",
       "      <td>1988</td>\n",
       "      <td>3131218695816565254454171711242</td>\n",
       "    </tr>\n",
       "    <tr>\n",
       "      <th>18</th>\n",
       "      <td>United Kingdom</td>\n",
       "      <td>2003</td>\n",
       "      <td>63713112957531638114144279122</td>\n",
       "    </tr>\n",
       "    <tr>\n",
       "      <th>16</th>\n",
       "      <td>United Kingdom</td>\n",
       "      <td>2001</td>\n",
       "      <td>7231317225569361373239161367243</td>\n",
       "    </tr>\n",
       "    <tr>\n",
       "      <th>17</th>\n",
       "      <td>United Kingdom</td>\n",
       "      <td>2002</td>\n",
       "      <td>74713517556432311734917222955</td>\n",
       "    </tr>\n",
       "    <tr>\n",
       "      <th>15</th>\n",
       "      <td>United Kingdom</td>\n",
       "      <td>2000</td>\n",
       "      <td>768135722356839386191672121154</td>\n",
       "    </tr>\n",
       "    <tr>\n",
       "      <th>12</th>\n",
       "      <td>United Kingdom</td>\n",
       "      <td>1997</td>\n",
       "      <td>832252118411519358224171718243</td>\n",
       "    </tr>\n",
       "    <tr>\n",
       "      <th>14</th>\n",
       "      <td>United Kingdom</td>\n",
       "      <td>1999</td>\n",
       "      <td>8391361242643931443692321718841</td>\n",
       "    </tr>\n",
       "    <tr>\n",
       "      <th>11</th>\n",
       "      <td>United Kingdom</td>\n",
       "      <td>1996</td>\n",
       "      <td>85811892185523621343519218886</td>\n",
       "    </tr>\n",
       "    <tr>\n",
       "      <th>10</th>\n",
       "      <td>United Kingdom</td>\n",
       "      <td>1995</td>\n",
       "      <td>8581247222624191523442371438164</td>\n",
       "    </tr>\n",
       "    <tr>\n",
       "      <th>9</th>\n",
       "      <td>United Kingdom</td>\n",
       "      <td>1994</td>\n",
       "      <td>88112422184455951482563241768294</td>\n",
       "    </tr>\n",
       "    <tr>\n",
       "      <th>13</th>\n",
       "      <td>United Kingdom</td>\n",
       "      <td>1998</td>\n",
       "      <td>968128245713821222443341771142</td>\n",
       "    </tr>\n",
       "  </tbody>\n",
       "</table>\n",
       "</div>"
      ],
      "text/plain": [
       "           country  year                       suicides_no\n",
       "8   United Kingdom  1993  12747732215165216626333518182122\n",
       "22  United Kingdom  2007      1332547214613393542313282714\n",
       "6   United Kingdom  1991   1342812386284811513113361619341\n",
       "20  United Kingdom  2005    135956321561729645162237978844\n",
       "7   United Kingdom  1992     13617852166935143299347191912\n",
       "19  United Kingdom  2004    142259922161315423115244158841\n",
       "23  United Kingdom  2008     14416172216923234215627888176\n",
       "25  United Kingdom  2010     14445132276963444232133891631\n",
       "21  United Kingdom  2006    145756265619938397238138867443\n",
       "24  United Kingdom  2009   1542564676195332387229133978443\n",
       "30  United Kingdom  2015     15795969627337447336181181464\n",
       "27  United Kingdom  2012     15875977392153644315321193712\n",
       "26  United Kingdom  2011       161155378273464172351341784\n",
       "29  United Kingdom  2014    169262827257332462262155831376\n",
       "28  United Kingdom  2013    174398586258331449132321248154\n",
       "2   United Kingdom  1987   2488571726184614641744171681573\n",
       "5   United Kingdom  1990      2641246763721528341543618852\n",
       "0   United Kingdom  1985     26491512862678237411551768632\n",
       "4   United Kingdom  1989   2671117664734821763523531578721\n",
       "1   United Kingdom  1986   2889211526164492235414241619722\n",
       "3   United Kingdom  1988   3131218695816565254454171711242\n",
       "18  United Kingdom  2003     63713112957531638114144279122\n",
       "16  United Kingdom  2001   7231317225569361373239161367243\n",
       "17  United Kingdom  2002     74713517556432311734917222955\n",
       "15  United Kingdom  2000    768135722356839386191672121154\n",
       "12  United Kingdom  1997    832252118411519358224171718243\n",
       "14  United Kingdom  1999   8391361242643931443692321718841\n",
       "11  United Kingdom  1996     85811892185523621343519218886\n",
       "10  United Kingdom  1995   8581247222624191523442371438164\n",
       "9   United Kingdom  1994  88112422184455951482563241768294\n",
       "13  United Kingdom  1998    968128245713821222443341771142"
      ]
     },
     "execution_count": 453,
     "metadata": {},
     "output_type": "execute_result"
    }
   ],
   "source": [
    "UK_suicides_per_year_sorted=UK_suicides_per_year.sort_values('suicides_no') # The default is ascending order\n",
    "UK_suicides_per_year_sorted"
   ]
  },
  {
   "cell_type": "markdown",
   "metadata": {},
   "source": [
    "## Operations with Statistics \n",
    "The methods **.max()**, **.min()**,**.mean()**,**.std()** used to find the maximum, minimum, mean and standard deviation at data. The **.describe** function shows all the statistics."
   ]
  },
  {
   "cell_type": "code",
   "execution_count": 454,
   "metadata": {},
   "outputs": [
    {
     "data": {
      "text/html": [
       "<div>\n",
       "<style scoped>\n",
       "    .dataframe tbody tr th:only-of-type {\n",
       "        vertical-align: middle;\n",
       "    }\n",
       "\n",
       "    .dataframe tbody tr th {\n",
       "        vertical-align: top;\n",
       "    }\n",
       "\n",
       "    .dataframe thead th {\n",
       "        text-align: right;\n",
       "    }\n",
       "</style>\n",
       "<table border=\"1\" class=\"dataframe\">\n",
       "  <thead>\n",
       "    <tr style=\"text-align: right;\">\n",
       "      <th></th>\n",
       "      <th>country</th>\n",
       "      <th>year</th>\n",
       "      <th>suicides_no</th>\n",
       "    </tr>\n",
       "  </thead>\n",
       "  <tbody>\n",
       "    <tr>\n",
       "      <th>8</th>\n",
       "      <td>United Kingdom</td>\n",
       "      <td>1993</td>\n",
       "      <td>12747732215165216626333518182122</td>\n",
       "    </tr>\n",
       "    <tr>\n",
       "      <th>22</th>\n",
       "      <td>United Kingdom</td>\n",
       "      <td>2007</td>\n",
       "      <td>1332547214613393542313282714</td>\n",
       "    </tr>\n",
       "    <tr>\n",
       "      <th>6</th>\n",
       "      <td>United Kingdom</td>\n",
       "      <td>1991</td>\n",
       "      <td>1342812386284811513113361619341</td>\n",
       "    </tr>\n",
       "    <tr>\n",
       "      <th>20</th>\n",
       "      <td>United Kingdom</td>\n",
       "      <td>2005</td>\n",
       "      <td>135956321561729645162237978844</td>\n",
       "    </tr>\n",
       "    <tr>\n",
       "      <th>7</th>\n",
       "      <td>United Kingdom</td>\n",
       "      <td>1992</td>\n",
       "      <td>13617852166935143299347191912</td>\n",
       "    </tr>\n",
       "    <tr>\n",
       "      <th>19</th>\n",
       "      <td>United Kingdom</td>\n",
       "      <td>2004</td>\n",
       "      <td>142259922161315423115244158841</td>\n",
       "    </tr>\n",
       "    <tr>\n",
       "      <th>23</th>\n",
       "      <td>United Kingdom</td>\n",
       "      <td>2008</td>\n",
       "      <td>14416172216923234215627888176</td>\n",
       "    </tr>\n",
       "    <tr>\n",
       "      <th>25</th>\n",
       "      <td>United Kingdom</td>\n",
       "      <td>2010</td>\n",
       "      <td>14445132276963444232133891631</td>\n",
       "    </tr>\n",
       "    <tr>\n",
       "      <th>21</th>\n",
       "      <td>United Kingdom</td>\n",
       "      <td>2006</td>\n",
       "      <td>145756265619938397238138867443</td>\n",
       "    </tr>\n",
       "    <tr>\n",
       "      <th>24</th>\n",
       "      <td>United Kingdom</td>\n",
       "      <td>2009</td>\n",
       "      <td>1542564676195332387229133978443</td>\n",
       "    </tr>\n",
       "    <tr>\n",
       "      <th>30</th>\n",
       "      <td>United Kingdom</td>\n",
       "      <td>2015</td>\n",
       "      <td>15795969627337447336181181464</td>\n",
       "    </tr>\n",
       "    <tr>\n",
       "      <th>27</th>\n",
       "      <td>United Kingdom</td>\n",
       "      <td>2012</td>\n",
       "      <td>15875977392153644315321193712</td>\n",
       "    </tr>\n",
       "    <tr>\n",
       "      <th>26</th>\n",
       "      <td>United Kingdom</td>\n",
       "      <td>2011</td>\n",
       "      <td>161155378273464172351341784</td>\n",
       "    </tr>\n",
       "    <tr>\n",
       "      <th>29</th>\n",
       "      <td>United Kingdom</td>\n",
       "      <td>2014</td>\n",
       "      <td>169262827257332462262155831376</td>\n",
       "    </tr>\n",
       "    <tr>\n",
       "      <th>28</th>\n",
       "      <td>United Kingdom</td>\n",
       "      <td>2013</td>\n",
       "      <td>174398586258331449132321248154</td>\n",
       "    </tr>\n",
       "    <tr>\n",
       "      <th>2</th>\n",
       "      <td>United Kingdom</td>\n",
       "      <td>1987</td>\n",
       "      <td>2488571726184614641744171681573</td>\n",
       "    </tr>\n",
       "    <tr>\n",
       "      <th>5</th>\n",
       "      <td>United Kingdom</td>\n",
       "      <td>1990</td>\n",
       "      <td>2641246763721528341543618852</td>\n",
       "    </tr>\n",
       "    <tr>\n",
       "      <th>0</th>\n",
       "      <td>United Kingdom</td>\n",
       "      <td>1985</td>\n",
       "      <td>26491512862678237411551768632</td>\n",
       "    </tr>\n",
       "    <tr>\n",
       "      <th>4</th>\n",
       "      <td>United Kingdom</td>\n",
       "      <td>1989</td>\n",
       "      <td>2671117664734821763523531578721</td>\n",
       "    </tr>\n",
       "    <tr>\n",
       "      <th>1</th>\n",
       "      <td>United Kingdom</td>\n",
       "      <td>1986</td>\n",
       "      <td>2889211526164492235414241619722</td>\n",
       "    </tr>\n",
       "    <tr>\n",
       "      <th>3</th>\n",
       "      <td>United Kingdom</td>\n",
       "      <td>1988</td>\n",
       "      <td>3131218695816565254454171711242</td>\n",
       "    </tr>\n",
       "    <tr>\n",
       "      <th>18</th>\n",
       "      <td>United Kingdom</td>\n",
       "      <td>2003</td>\n",
       "      <td>63713112957531638114144279122</td>\n",
       "    </tr>\n",
       "    <tr>\n",
       "      <th>16</th>\n",
       "      <td>United Kingdom</td>\n",
       "      <td>2001</td>\n",
       "      <td>7231317225569361373239161367243</td>\n",
       "    </tr>\n",
       "    <tr>\n",
       "      <th>17</th>\n",
       "      <td>United Kingdom</td>\n",
       "      <td>2002</td>\n",
       "      <td>74713517556432311734917222955</td>\n",
       "    </tr>\n",
       "    <tr>\n",
       "      <th>15</th>\n",
       "      <td>United Kingdom</td>\n",
       "      <td>2000</td>\n",
       "      <td>768135722356839386191672121154</td>\n",
       "    </tr>\n",
       "    <tr>\n",
       "      <th>12</th>\n",
       "      <td>United Kingdom</td>\n",
       "      <td>1997</td>\n",
       "      <td>832252118411519358224171718243</td>\n",
       "    </tr>\n",
       "    <tr>\n",
       "      <th>14</th>\n",
       "      <td>United Kingdom</td>\n",
       "      <td>1999</td>\n",
       "      <td>8391361242643931443692321718841</td>\n",
       "    </tr>\n",
       "    <tr>\n",
       "      <th>11</th>\n",
       "      <td>United Kingdom</td>\n",
       "      <td>1996</td>\n",
       "      <td>85811892185523621343519218886</td>\n",
       "    </tr>\n",
       "    <tr>\n",
       "      <th>10</th>\n",
       "      <td>United Kingdom</td>\n",
       "      <td>1995</td>\n",
       "      <td>8581247222624191523442371438164</td>\n",
       "    </tr>\n",
       "    <tr>\n",
       "      <th>9</th>\n",
       "      <td>United Kingdom</td>\n",
       "      <td>1994</td>\n",
       "      <td>88112422184455951482563241768294</td>\n",
       "    </tr>\n",
       "    <tr>\n",
       "      <th>13</th>\n",
       "      <td>United Kingdom</td>\n",
       "      <td>1998</td>\n",
       "      <td>968128245713821222443341771142</td>\n",
       "    </tr>\n",
       "  </tbody>\n",
       "</table>\n",
       "</div>"
      ],
      "text/plain": [
       "           country  year                       suicides_no\n",
       "8   United Kingdom  1993  12747732215165216626333518182122\n",
       "22  United Kingdom  2007      1332547214613393542313282714\n",
       "6   United Kingdom  1991   1342812386284811513113361619341\n",
       "20  United Kingdom  2005    135956321561729645162237978844\n",
       "7   United Kingdom  1992     13617852166935143299347191912\n",
       "19  United Kingdom  2004    142259922161315423115244158841\n",
       "23  United Kingdom  2008     14416172216923234215627888176\n",
       "25  United Kingdom  2010     14445132276963444232133891631\n",
       "21  United Kingdom  2006    145756265619938397238138867443\n",
       "24  United Kingdom  2009   1542564676195332387229133978443\n",
       "30  United Kingdom  2015     15795969627337447336181181464\n",
       "27  United Kingdom  2012     15875977392153644315321193712\n",
       "26  United Kingdom  2011       161155378273464172351341784\n",
       "29  United Kingdom  2014    169262827257332462262155831376\n",
       "28  United Kingdom  2013    174398586258331449132321248154\n",
       "2   United Kingdom  1987   2488571726184614641744171681573\n",
       "5   United Kingdom  1990      2641246763721528341543618852\n",
       "0   United Kingdom  1985     26491512862678237411551768632\n",
       "4   United Kingdom  1989   2671117664734821763523531578721\n",
       "1   United Kingdom  1986   2889211526164492235414241619722\n",
       "3   United Kingdom  1988   3131218695816565254454171711242\n",
       "18  United Kingdom  2003     63713112957531638114144279122\n",
       "16  United Kingdom  2001   7231317225569361373239161367243\n",
       "17  United Kingdom  2002     74713517556432311734917222955\n",
       "15  United Kingdom  2000    768135722356839386191672121154\n",
       "12  United Kingdom  1997    832252118411519358224171718243\n",
       "14  United Kingdom  1999   8391361242643931443692321718841\n",
       "11  United Kingdom  1996     85811892185523621343519218886\n",
       "10  United Kingdom  1995   8581247222624191523442371438164\n",
       "9   United Kingdom  1994  88112422184455951482563241768294\n",
       "13  United Kingdom  1998    968128245713821222443341771142"
      ]
     },
     "execution_count": 454,
     "metadata": {},
     "output_type": "execute_result"
    }
   ],
   "source": [
    "UK_suicides_per_year_sorted"
   ]
  },
  {
   "cell_type": "code",
   "execution_count": 182,
   "metadata": {},
   "outputs": [
    {
     "name": "stdout",
     "output_type": "stream",
     "text": [
      "4683\n",
      "1\n",
      "452.7454838187561\n"
     ]
    }
   ],
   "source": [
    "print(UK_suicides_per_year['suicides_no'].max())\n",
    "print(UK_data_year_suicides['suicides_no'].min())\n",
    "print(UK_suicides_per_year['suicides_no'].std())"
   ]
  },
  {
   "cell_type": "markdown",
   "metadata": {},
   "source": [
    "## Operations with Functions Statistical Functions\n",
    "### Example Statistical Functions of **Normalization** and **Standarization** \n",
    "Data is usually collected from different sources in different formats.\n",
    "Normalization and standardization are the processes of transforming data into a common format, allowing the researcher to make the meaningful comparison.\n"
   ]
  },
  {
   "cell_type": "markdown",
   "metadata": {},
   "source": [
    "### **Data Normalization** \n",
    "Normalization is the process of transforming values of several variables into a similar range. Typical normalizations include scaling the variable so the variable average is 0, scaling the variable so the variance is \n",
    "\n",
    "### **Example**\n",
    "\n",
    "To demonstrate normalization, let's say we want to scale the columns , \"suicides_no\" at UK_suicides_per_year data frame.\n",
    "We would like to normalize those variables so their value ranges from 0 to 1\n",
    "We replace original value by (original value)/(maximum value)"
   ]
  },
  {
   "cell_type": "markdown",
   "metadata": {},
   "source": [
    "**Step 1)** Create a function of normalization "
   ]
  },
  {
   "cell_type": "code",
   "execution_count": 188,
   "metadata": {},
   "outputs": [],
   "source": [
    "def normalize(number):\n",
    "    return (number)/number.max()"
   ]
  },
  {
   "cell_type": "markdown",
   "metadata": {},
   "source": [
    "**Step 2)** Apply the function to the selected column "
   ]
  },
  {
   "cell_type": "code",
   "execution_count": 193,
   "metadata": {},
   "outputs": [
    {
     "data": {
      "text/plain": [
       "0     0.644245\n",
       "1     0.979500\n",
       "2     0.769592\n",
       "3     1.000000\n",
       "4     0.796712\n",
       "5     0.822336\n",
       "6     0.817211\n",
       "7     0.882554\n",
       "8     0.856716\n",
       "9     0.935298\n",
       "10    0.806107\n",
       "11    0.785608\n",
       "12    0.638693\n",
       "13    0.633568\n",
       "14    0.834508\n",
       "15    0.802691\n",
       "16    0.862268\n",
       "17    0.569720\n",
       "18    0.753577\n",
       "19    0.749092\n",
       "20    0.787316\n",
       "21    0.822550\n",
       "22    0.714926\n",
       "23    0.790305\n",
       "24    0.906684\n",
       "25    0.790519\n",
       "26    0.730515\n",
       "27    0.856716\n",
       "28    0.837924\n",
       "29    0.887892\n",
       "30    0.779415\n",
       "Name: suicides_no, dtype: float64"
      ]
     },
     "execution_count": 193,
     "metadata": {},
     "output_type": "execute_result"
    }
   ],
   "source": [
    "normalize(UK_suicides_per_year['suicides_no'])\n"
   ]
  },
  {
   "cell_type": "markdown",
   "metadata": {},
   "source": [
    "### **Data Standardization**\n",
    "Data standardization is also a term for a particular type of data normalization where we subtract the mean and divide by the standard deviation."
   ]
  },
  {
   "cell_type": "code",
   "execution_count": 194,
   "metadata": {},
   "outputs": [],
   "source": [
    "def standarize_test(number):\n",
    "    return (number-number.mean())/number.std()"
   ]
  },
  {
   "cell_type": "code",
   "execution_count": 195,
   "metadata": {},
   "outputs": [
    {
     "data": {
      "text/plain": [
       "0    -1.625994\n",
       "1     1.841738\n",
       "2    -0.329459\n",
       "3     2.053778\n",
       "4    -0.048949\n",
       "5     0.216101\n",
       "6     0.163091\n",
       "7     0.838967\n",
       "8     0.571709\n",
       "9     1.384528\n",
       "10    0.048236\n",
       "11   -0.163803\n",
       "12   -1.683421\n",
       "13   -1.736431\n",
       "14    0.341999\n",
       "15    0.012896\n",
       "16    0.629137\n",
       "17   -2.396846\n",
       "18   -0.495115\n",
       "19   -0.541499\n",
       "20   -0.146134\n",
       "21    0.218310\n",
       "22   -0.894899\n",
       "23   -0.115211\n",
       "24    1.088556\n",
       "25   -0.113002\n",
       "26   -0.733660\n",
       "27    0.571709\n",
       "28    0.377339\n",
       "29    0.894186\n",
       "30   -0.227857\n",
       "Name: suicides_no, dtype: float64"
      ]
     },
     "execution_count": 195,
     "metadata": {},
     "output_type": "execute_result"
    }
   ],
   "source": [
    "standarize_test(UK_suicides_per_year['suicides_no'])"
   ]
  },
  {
   "cell_type": "markdown",
   "metadata": {},
   "source": [
    "## **Visualise the data**"
   ]
  },
  {
   "cell_type": "code",
   "execution_count": 459,
   "metadata": {},
   "outputs": [
    {
     "name": "stdout",
     "output_type": "stream",
     "text": [
      "Using matplotlib backend: MacOSX\n"
     ]
    },
    {
     "data": {
      "text/plain": [
       "Text(0.5, 0, 'Country')"
      ]
     },
     "execution_count": 459,
     "metadata": {},
     "output_type": "execute_result"
    }
   ],
   "source": [
    "%matplotlib \n",
    "import matplotlib.pyplot as plt\n",
    "import seaborn as sns\n",
    "\n",
    "plt.figure(figsize=(14,6))\n",
    "data_frame.groupby('country').sum().sort_values(by='suicides_no',ascending=False)[['suicides_no']][:101].plot(kind='bar',figsize=(16,8),title='Sum of suicides by country during 1985-2016')\n",
    "plt.ylabel(\"Sum of suicides\")\n",
    "plt.xlabel(\"Country\")"
   ]
  },
  {
   "cell_type": "code",
   "execution_count": 457,
   "metadata": {},
   "outputs": [
    {
     "ename": "KeyError",
     "evalue": "'suicides_no'",
     "output_type": "error",
     "traceback": [
      "\u001b[0;31m---------------------------------------------------------------------------\u001b[0m",
      "\u001b[0;31mKeyError\u001b[0m                                  Traceback (most recent call last)",
      "\u001b[1;32m/Users/mary-tziraki/git/TeamCoders_Event_Based_Model/2_DataCleaningAndWrangling/Data_Wrangling_WHO.ipynb Cell 169'\u001b[0m in \u001b[0;36m<module>\u001b[0;34m\u001b[0m\n\u001b[1;32m      <a href='vscode-notebook-cell:/Users/mary-tziraki/git/TeamCoders_Event_Based_Model/2_DataCleaningAndWrangling/Data_Wrangling_WHO.ipynb#ch0000212?line=0'>1</a>\u001b[0m plt\u001b[39m.\u001b[39mfigure(figsize\u001b[39m=\u001b[39m(\u001b[39m14\u001b[39m,\u001b[39m6\u001b[39m))\n\u001b[0;32m----> <a href='vscode-notebook-cell:/Users/mary-tziraki/git/TeamCoders_Event_Based_Model/2_DataCleaningAndWrangling/Data_Wrangling_WHO.ipynb#ch0000212?line=1'>2</a>\u001b[0m data_frame\u001b[39m.\u001b[39;49mgroupby(\u001b[39m'\u001b[39;49m\u001b[39mcountry\u001b[39;49m\u001b[39m'\u001b[39;49m)\u001b[39m.\u001b[39;49msum()\u001b[39m.\u001b[39;49msort_values(by\u001b[39m=\u001b[39;49m\u001b[39m'\u001b[39;49m\u001b[39msuicides_no\u001b[39;49m\u001b[39m'\u001b[39;49m,ascending\u001b[39m=\u001b[39;49m\u001b[39mFalse\u001b[39;49;00m)[[\u001b[39m'\u001b[39m\u001b[39msuicides_no\u001b[39m\u001b[39m'\u001b[39m]][:\u001b[39m101\u001b[39m]\u001b[39m.\u001b[39mplot(kind\u001b[39m=\u001b[39m\u001b[39m'\u001b[39m\u001b[39mbar\u001b[39m\u001b[39m'\u001b[39m,figsize\u001b[39m=\u001b[39m(\u001b[39m16\u001b[39m,\u001b[39m8\u001b[39m),title\u001b[39m=\u001b[39m\u001b[39m'\u001b[39m\u001b[39mSuicide Based in Country\u001b[39m\u001b[39m'\u001b[39m)\n",
      "File \u001b[0;32m~/opt/anaconda3/envs/env-DataWrangling/lib/python3.8/site-packages/pandas/util/_decorators.py:311\u001b[0m, in \u001b[0;36mdeprecate_nonkeyword_arguments.<locals>.decorate.<locals>.wrapper\u001b[0;34m(*args, **kwargs)\u001b[0m\n\u001b[1;32m    <a href='file:///Users/mary-tziraki/opt/anaconda3/envs/env-DataWrangling/lib/python3.8/site-packages/pandas/util/_decorators.py?line=304'>305</a>\u001b[0m \u001b[39mif\u001b[39;00m \u001b[39mlen\u001b[39m(args) \u001b[39m>\u001b[39m num_allow_args:\n\u001b[1;32m    <a href='file:///Users/mary-tziraki/opt/anaconda3/envs/env-DataWrangling/lib/python3.8/site-packages/pandas/util/_decorators.py?line=305'>306</a>\u001b[0m     warnings\u001b[39m.\u001b[39mwarn(\n\u001b[1;32m    <a href='file:///Users/mary-tziraki/opt/anaconda3/envs/env-DataWrangling/lib/python3.8/site-packages/pandas/util/_decorators.py?line=306'>307</a>\u001b[0m         msg\u001b[39m.\u001b[39mformat(arguments\u001b[39m=\u001b[39marguments),\n\u001b[1;32m    <a href='file:///Users/mary-tziraki/opt/anaconda3/envs/env-DataWrangling/lib/python3.8/site-packages/pandas/util/_decorators.py?line=307'>308</a>\u001b[0m         \u001b[39mFutureWarning\u001b[39;00m,\n\u001b[1;32m    <a href='file:///Users/mary-tziraki/opt/anaconda3/envs/env-DataWrangling/lib/python3.8/site-packages/pandas/util/_decorators.py?line=308'>309</a>\u001b[0m         stacklevel\u001b[39m=\u001b[39mstacklevel,\n\u001b[1;32m    <a href='file:///Users/mary-tziraki/opt/anaconda3/envs/env-DataWrangling/lib/python3.8/site-packages/pandas/util/_decorators.py?line=309'>310</a>\u001b[0m     )\n\u001b[0;32m--> <a href='file:///Users/mary-tziraki/opt/anaconda3/envs/env-DataWrangling/lib/python3.8/site-packages/pandas/util/_decorators.py?line=310'>311</a>\u001b[0m \u001b[39mreturn\u001b[39;00m func(\u001b[39m*\u001b[39;49margs, \u001b[39m*\u001b[39;49m\u001b[39m*\u001b[39;49mkwargs)\n",
      "File \u001b[0;32m~/opt/anaconda3/envs/env-DataWrangling/lib/python3.8/site-packages/pandas/core/frame.py:6307\u001b[0m, in \u001b[0;36mDataFrame.sort_values\u001b[0;34m(self, by, axis, ascending, inplace, kind, na_position, ignore_index, key)\u001b[0m\n\u001b[1;32m   <a href='file:///Users/mary-tziraki/opt/anaconda3/envs/env-DataWrangling/lib/python3.8/site-packages/pandas/core/frame.py?line=6302'>6303</a>\u001b[0m \u001b[39melif\u001b[39;00m \u001b[39mlen\u001b[39m(by):\n\u001b[1;32m   <a href='file:///Users/mary-tziraki/opt/anaconda3/envs/env-DataWrangling/lib/python3.8/site-packages/pandas/core/frame.py?line=6303'>6304</a>\u001b[0m     \u001b[39m# len(by) == 1\u001b[39;00m\n\u001b[1;32m   <a href='file:///Users/mary-tziraki/opt/anaconda3/envs/env-DataWrangling/lib/python3.8/site-packages/pandas/core/frame.py?line=6305'>6306</a>\u001b[0m     by \u001b[39m=\u001b[39m by[\u001b[39m0\u001b[39m]\n\u001b[0;32m-> <a href='file:///Users/mary-tziraki/opt/anaconda3/envs/env-DataWrangling/lib/python3.8/site-packages/pandas/core/frame.py?line=6306'>6307</a>\u001b[0m     k \u001b[39m=\u001b[39m \u001b[39mself\u001b[39;49m\u001b[39m.\u001b[39;49m_get_label_or_level_values(by, axis\u001b[39m=\u001b[39;49maxis)\n\u001b[1;32m   <a href='file:///Users/mary-tziraki/opt/anaconda3/envs/env-DataWrangling/lib/python3.8/site-packages/pandas/core/frame.py?line=6308'>6309</a>\u001b[0m     \u001b[39m# need to rewrap column in Series to apply key function\u001b[39;00m\n\u001b[1;32m   <a href='file:///Users/mary-tziraki/opt/anaconda3/envs/env-DataWrangling/lib/python3.8/site-packages/pandas/core/frame.py?line=6309'>6310</a>\u001b[0m     \u001b[39mif\u001b[39;00m key \u001b[39mis\u001b[39;00m \u001b[39mnot\u001b[39;00m \u001b[39mNone\u001b[39;00m:\n\u001b[1;32m   <a href='file:///Users/mary-tziraki/opt/anaconda3/envs/env-DataWrangling/lib/python3.8/site-packages/pandas/core/frame.py?line=6310'>6311</a>\u001b[0m         \u001b[39m# error: Incompatible types in assignment (expression has type\u001b[39;00m\n\u001b[1;32m   <a href='file:///Users/mary-tziraki/opt/anaconda3/envs/env-DataWrangling/lib/python3.8/site-packages/pandas/core/frame.py?line=6311'>6312</a>\u001b[0m         \u001b[39m# \"Series\", variable has type \"ndarray\")\u001b[39;00m\n",
      "File \u001b[0;32m~/opt/anaconda3/envs/env-DataWrangling/lib/python3.8/site-packages/pandas/core/generic.py:1848\u001b[0m, in \u001b[0;36mNDFrame._get_label_or_level_values\u001b[0;34m(self, key, axis)\u001b[0m\n\u001b[1;32m   <a href='file:///Users/mary-tziraki/opt/anaconda3/envs/env-DataWrangling/lib/python3.8/site-packages/pandas/core/generic.py?line=1845'>1846</a>\u001b[0m     values \u001b[39m=\u001b[39m \u001b[39mself\u001b[39m\u001b[39m.\u001b[39maxes[axis]\u001b[39m.\u001b[39mget_level_values(key)\u001b[39m.\u001b[39m_values\n\u001b[1;32m   <a href='file:///Users/mary-tziraki/opt/anaconda3/envs/env-DataWrangling/lib/python3.8/site-packages/pandas/core/generic.py?line=1846'>1847</a>\u001b[0m \u001b[39melse\u001b[39;00m:\n\u001b[0;32m-> <a href='file:///Users/mary-tziraki/opt/anaconda3/envs/env-DataWrangling/lib/python3.8/site-packages/pandas/core/generic.py?line=1847'>1848</a>\u001b[0m     \u001b[39mraise\u001b[39;00m \u001b[39mKeyError\u001b[39;00m(key)\n\u001b[1;32m   <a href='file:///Users/mary-tziraki/opt/anaconda3/envs/env-DataWrangling/lib/python3.8/site-packages/pandas/core/generic.py?line=1849'>1850</a>\u001b[0m \u001b[39m# Check for duplicates\u001b[39;00m\n\u001b[1;32m   <a href='file:///Users/mary-tziraki/opt/anaconda3/envs/env-DataWrangling/lib/python3.8/site-packages/pandas/core/generic.py?line=1850'>1851</a>\u001b[0m \u001b[39mif\u001b[39;00m values\u001b[39m.\u001b[39mndim \u001b[39m>\u001b[39m \u001b[39m1\u001b[39m:\n",
      "\u001b[0;31mKeyError\u001b[0m: 'suicides_no'"
     ]
    }
   ],
   "source": [
    "plt.figure(figsize=(14,6))\n",
    "data_frame.groupby('country').sum().sort_values(by='suicides_no',ascending=False)[['suicides_no']][:101].plot(kind='bar',figsize=(16,8),title='Suicide Based in Country')"
   ]
  },
  {
   "cell_type": "code",
   "execution_count": 461,
   "metadata": {},
   "outputs": [
    {
     "data": {
      "text/plain": [
       "Text(0, 0.5, 'Sum of suicides')"
      ]
     },
     "execution_count": 461,
     "metadata": {},
     "output_type": "execute_result"
    }
   ],
   "source": [
    "# Here it plots the top 20 countries in suicides \n",
    "plt.figure(figsize=(14,6))\n",
    "data_frame.groupby('country').sum().sort_values(by='suicides_no',ascending=False)[['suicides_no']][:20].plot(kind='bar',figsize=(16,8),title='Sum of suicides by country during 30 years 1985-2016')\n",
    "plt.ylabel(\"Sum of suicides\")\n"
   ]
  },
  {
   "cell_type": "markdown",
   "metadata": {},
   "source": [
    "### **Data Standardization**\n",
    "Data standardization is also a term for a particular type of data normalization where we subtract the mean and divide by the standard deviation\n",
    "\n",
    "\n",
    "### What is standardization?\n",
    "\n",
    "Standardization is the process of transforming data into a common format, allowing the researcher to make the meaningful comparison.\n",
    "\n",
    "\n",
    "## Example \n",
    "\n",
    "We can create a column where we will calculate the GDP/capita :\n",
    "In our dataset there are the gdp in $ and the population of each countly. We can divide them and create a different column with gdp/capita. Assume we are developing an application in a country that requires the gdp/capita in. another curency. We need to create Data transformation.\n",
    "\n"
   ]
  },
  {
   "cell_type": "markdown",
   "metadata": {},
   "source": [
    "# Convert to GDP/capita"
   ]
  },
  {
   "cell_type": "markdown",
   "metadata": {},
   "source": [
    "The formula for unit conversion is:\n",
    "gdp_for_year_usd/population\n",
    "We can do many mathematical operations directly in Pandas.\n",
    "\n",
    "We can calculate the GDP/Capita by dividing the two columns and creating a new one."
   ]
  },
  {
   "cell_type": "code",
   "execution_count": null,
   "metadata": {},
   "outputs": [],
   "source": []
  },
  {
   "cell_type": "markdown",
   "metadata": {},
   "source": [
    "THIS IS THE POINT THAT THE CODE STOPS. \n",
    "I'll carryy on developments at the  following topics:\n",
    "\n",
    "* Data Normalisation\n",
    "* Data Standarisation \n",
    "* Binning "
   ]
  },
  {
   "cell_type": "markdown",
   "metadata": {},
   "source": [
    "The formula for unit conversion is:\n",
    "gdp_for_year_usd/population\n",
    "We can do many mathematical operations directly in Pandas.\n",
    "\n",
    "We can calculate the GDP/Capita\n"
   ]
  },
  {
   "cell_type": "code",
   "execution_count": null,
   "metadata": {},
   "outputs": [],
   "source": []
  },
  {
   "cell_type": "markdown",
   "metadata": {},
   "source": [
    "<h2 id=\"data_normalization\">Data Normalization</h2>\n",
    "\n",
    "<b>Why normalization?</b>\n",
    "\n",
    "<p>Normalization is the process of transforming values of several variables into a similar range. Typical normalizations include scaling the variable so the variable average is 0, scaling the variable so the variance is 1, or scaling the variable so the variable values range from 0 to 1.\n",
    "</p>\n",
    "\n",
    "<b>Example</b>\n",
    "\n",
    "<p>To demonstrate normalization, let's say we want to scale the columns \"population\", \"suicides_no\" and \"sex\".</p>\n",
    "<p><b>Target:</b> would like to normalize those variables so their value ranges from 0 to 1</p>\n",
    "<p><b>Approach:</b> replace original value by (original value)/(maximum value)</p>\n"
   ]
  },
  {
   "cell_type": "code",
   "execution_count": null,
   "metadata": {},
   "outputs": [],
   "source": [
    "# Write your code below and press Shift+Enter to execute \n"
   ]
  },
  {
   "cell_type": "code",
   "execution_count": null,
   "metadata": {},
   "outputs": [],
   "source": []
  },
  {
   "cell_type": "markdown",
   "metadata": {},
   "source": [
    "<details><summary>Click here for the solution</summary>\n",
    "\n",
    "```python\n",
    "df['height'] = df['height']/df['height'].max() \n",
    "\n",
    "# show the scaled columns\n",
    "df[[\"length\",\"width\",\"height\"]].head()\n",
    "\n",
    "\n",
    "```\n",
    "\n",
    "</details>\n"
   ]
  },
  {
   "cell_type": "markdown",
   "metadata": {},
   "source": [
    "Here we can see we've normalized \"length\", \"width\" and \"height\" in the range of \\[0,1].\n"
   ]
  },
  {
   "cell_type": "markdown",
   "metadata": {},
   "source": [
    "<h2 id=\"binning\">Binning</h2>\n",
    "<b>Why binning?</b>\n",
    "<p>\n",
    "    Binning is a process of transforming continuous numerical variables into discrete categorical 'bins' for grouped analysis.\n",
    "</p>\n",
    "\n",
    "<b>Example: </b>\n",
    "\n",
    "<p\n",
    "<p>We will use the pandas method 'cut' to segment the 'age' column into 3 bins.</p>\n"
   ]
  },
  {
   "cell_type": "markdown",
   "metadata": {},
   "source": [
    "<h3>Example of Binning Data In Pandas</h3>\n"
   ]
  },
  {
   "cell_type": "markdown",
   "metadata": {},
   "source": [
    "Convert data to correct format:\n"
   ]
  },
  {
   "cell_type": "markdown",
   "metadata": {},
   "source": [
    "Let's plot the histogram of horsepower to see what the distribution of horsepower looks like.\n"
   ]
  },
  {
   "cell_type": "markdown",
   "metadata": {},
   "source": [
    "<p>We would like 3 bins of equal size bandwidth so we use numpy's <code>linspace(start_value, end_value, numbers_generated</code> function.</p>\n",
    "<p>Since we want to include the minimum value of horsepower, we want to set start_value = min(df[\"horsepower\"]).</p>\n",
    "<p>Since we want to include the maximum value of horsepower, we want to set end_value = max(df[\"horsepower\"]).</p>\n",
    "<p>Since we are building 3 bins of equal length, there should be 4 dividers, so numbers_generated = 4.</p>\n"
   ]
  },
  {
   "cell_type": "markdown",
   "metadata": {},
   "source": [
    "We build a bin array with a minimum value to a maximum value by using the bandwidth calculated above. The values will determine when one bin ends and another begins.\n"
   ]
  },
  {
   "cell_type": "markdown",
   "metadata": {},
   "source": [
    "We set group  names:\n"
   ]
  },
  {
   "cell_type": "markdown",
   "metadata": {},
   "source": [
    "We apply the function \"cut\" to determine what each value of `df['age']` belongs to.\n"
   ]
  },
  {
   "cell_type": "markdown",
   "metadata": {},
   "source": [
    "Let's see the number of vehicles in each bin:\n"
   ]
  },
  {
   "cell_type": "markdown",
   "metadata": {},
   "source": [
    "Let's plot the distribution of each bin:\n"
   ]
  },
  {
   "cell_type": "markdown",
   "metadata": {},
   "source": [
    "<p>\n",
    "    Look at the dataframe above carefully. You will find that the last column provides the bins for \"horsepower\" based on 3 categories (\"Low\", \"Medium\" and \"High\"). \n",
    "</p>\n",
    "<p>\n",
    "    We successfully narrowed down the intervals from 59 to 3!\n",
    "</p>\n"
   ]
  },
  {
   "cell_type": "markdown",
   "metadata": {},
   "source": [
    "<h3>Bins Visualization</h3>\n",
    "Normally, a histogram is used to visualize the distribution of bins we created above. \n",
    "\n",
    "**THIS IS NOT FROM OUR DATA**\n"
   ]
  },
  {
   "cell_type": "code",
   "execution_count": null,
   "metadata": {},
   "outputs": [
    {
     "ename": "NameError",
     "evalue": "name 'df' is not defined",
     "output_type": "error",
     "traceback": [
      "\u001b[0;31m---------------------------------------------------------------------------\u001b[0m",
      "\u001b[0;31mNameError\u001b[0m                                 Traceback (most recent call last)",
      "\u001b[1;32m/Users/mary-tziraki/git/TeamCoders_Event_Based_Model/2_DataCleaningAndWrangling/Data_Wrangling_WHO.ipynb Cell 168'\u001b[0m in \u001b[0;36m<module>\u001b[0;34m\u001b[0m\n\u001b[1;32m      <a href='vscode-notebook-cell:/Users/mary-tziraki/git/TeamCoders_Event_Based_Model/2_DataCleaningAndWrangling/Data_Wrangling_WHO.ipynb#ch0000163?line=2'>3</a>\u001b[0m \u001b[39mfrom\u001b[39;00m \u001b[39mmatplotlib\u001b[39;00m \u001b[39mimport\u001b[39;00m pyplot\n\u001b[1;32m      <a href='vscode-notebook-cell:/Users/mary-tziraki/git/TeamCoders_Event_Based_Model/2_DataCleaningAndWrangling/Data_Wrangling_WHO.ipynb#ch0000163?line=5'>6</a>\u001b[0m \u001b[39m# draw historgram of attribute \"horsepower\" with bins = 3\u001b[39;00m\n\u001b[0;32m----> <a href='vscode-notebook-cell:/Users/mary-tziraki/git/TeamCoders_Event_Based_Model/2_DataCleaningAndWrangling/Data_Wrangling_WHO.ipynb#ch0000163?line=6'>7</a>\u001b[0m plt\u001b[39m.\u001b[39mpyplot\u001b[39m.\u001b[39mhist(df[\u001b[39m\"\u001b[39m\u001b[39mhorsepower\u001b[39m\u001b[39m\"\u001b[39m], bins \u001b[39m=\u001b[39m \u001b[39m3\u001b[39m)\n\u001b[1;32m      <a href='vscode-notebook-cell:/Users/mary-tziraki/git/TeamCoders_Event_Based_Model/2_DataCleaningAndWrangling/Data_Wrangling_WHO.ipynb#ch0000163?line=8'>9</a>\u001b[0m \u001b[39m# set x/y labels and plot title\u001b[39;00m\n\u001b[1;32m     <a href='vscode-notebook-cell:/Users/mary-tziraki/git/TeamCoders_Event_Based_Model/2_DataCleaningAndWrangling/Data_Wrangling_WHO.ipynb#ch0000163?line=9'>10</a>\u001b[0m plt\u001b[39m.\u001b[39mpyplot\u001b[39m.\u001b[39mxlabel(\u001b[39m\"\u001b[39m\u001b[39mhorsepower\u001b[39m\u001b[39m\"\u001b[39m)\n",
      "\u001b[0;31mNameError\u001b[0m: name 'df' is not defined"
     ]
    }
   ],
   "source": [
    "%matplotlib inline\n",
    "import matplotlib as plt\n",
    "from matplotlib import pyplot\n",
    "\n",
    "\n",
    "# draw historgram of attribute \"horsepower\" with bins = 3\n",
    "plt.pyplot.hist(df[\"horsepower\"], bins = 3)\n",
    "\n",
    "# set x/y labels and plot title\n",
    "plt.pyplot.xlabel(\"horsepower\")\n",
    "plt.pyplot.ylabel(\"count\")\n",
    "plt.pyplot.title(\"horsepower bins\")"
   ]
  },
  {
   "cell_type": "markdown",
   "metadata": {},
   "source": [
    "The plot above shows the binning result for the attribute \"horsepower\".\n"
   ]
  },
  {
   "cell_type": "markdown",
   "metadata": {},
   "source": [
    "<h2 id=\"indicator\">Indicator Variable (or Dummy Variable)</h2>\n",
    "<b>What is an indicator variable?</b>\n",
    "<p>\n",
    "    An indicator variable (or dummy variable) is a numerical variable used to label categories. They are called 'dummies' because the numbers themselves don't have inherent meaning. \n",
    "</p>\n",
    "\n",
    "<b>Why we use indicator variables?</b>\n",
    "\n",
    "<p>\n",
    "    We use indicator variables so we can use categorical variables for regression analysis in the later modules.\n",
    "</p>\n",
    "<b>Example</b>\n",
    "<p>\n",
    "    \n",
    "\n",
    "<p>\n",
    "    We will use pandas' method 'get_dummies' to assign numerical values to different categories of fuel type. \n",
    "</p>\n"
   ]
  },
  {
   "cell_type": "code",
   "execution_count": null,
   "metadata": {},
   "outputs": [],
   "source": []
  },
  {
   "cell_type": "code",
   "execution_count": null,
   "metadata": {},
   "outputs": [],
   "source": []
  },
  {
   "cell_type": "markdown",
   "metadata": {},
   "source": [
    "Get the indicator variables and assign it to data frame \"dummy_variable\\_1\":\n"
   ]
  },
  {
   "cell_type": "code",
   "execution_count": null,
   "metadata": {},
   "outputs": [],
   "source": [
    "dummy_variable_1 = pd.get_dummies(df[\"age\"])\n",
    "dummy_variable_1.head()"
   ]
  },
  {
   "cell_type": "markdown",
   "metadata": {},
   "source": [
    "Change the column names for clarity:\n"
   ]
  },
  {
   "cell_type": "code",
   "execution_count": null,
   "metadata": {},
   "outputs": [
    {
     "data": {
      "text/html": [
       "<div>\n",
       "<style scoped>\n",
       "    .dataframe tbody tr th:only-of-type {\n",
       "        vertical-align: middle;\n",
       "    }\n",
       "\n",
       "    .dataframe tbody tr th {\n",
       "        vertical-align: top;\n",
       "    }\n",
       "\n",
       "    .dataframe thead th {\n",
       "        text-align: right;\n",
       "    }\n",
       "</style>\n",
       "<table border=\"1\" class=\"dataframe\">\n",
       "  <thead>\n",
       "    <tr style=\"text-align: right;\">\n",
       "      <th></th>\n",
       "      <th>fuel-type-diesel</th>\n",
       "      <th>fuel-type-gas</th>\n",
       "    </tr>\n",
       "  </thead>\n",
       "  <tbody>\n",
       "    <tr>\n",
       "      <th>0</th>\n",
       "      <td>0</td>\n",
       "      <td>1</td>\n",
       "    </tr>\n",
       "    <tr>\n",
       "      <th>1</th>\n",
       "      <td>0</td>\n",
       "      <td>1</td>\n",
       "    </tr>\n",
       "    <tr>\n",
       "      <th>2</th>\n",
       "      <td>0</td>\n",
       "      <td>1</td>\n",
       "    </tr>\n",
       "    <tr>\n",
       "      <th>3</th>\n",
       "      <td>0</td>\n",
       "      <td>1</td>\n",
       "    </tr>\n",
       "    <tr>\n",
       "      <th>4</th>\n",
       "      <td>0</td>\n",
       "      <td>1</td>\n",
       "    </tr>\n",
       "  </tbody>\n",
       "</table>\n",
       "</div>"
      ],
      "text/plain": [
       "   fuel-type-diesel  fuel-type-gas\n",
       "0                 0              1\n",
       "1                 0              1\n",
       "2                 0              1\n",
       "3                 0              1\n",
       "4                 0              1"
      ]
     },
     "execution_count": 39,
     "metadata": {},
     "output_type": "execute_result"
    }
   ],
   "source": [
    "dummy_variable_1.rename(columns={'generation_1':'generation_2', 'generation_3':'generation_3'}, inplace=True)\n",
    "dummy_variable_1.head()"
   ]
  },
  {
   "cell_type": "markdown",
   "metadata": {},
   "source": [
    "\n"
   ]
  },
  {
   "cell_type": "code",
   "execution_count": null,
   "metadata": {},
   "outputs": [],
   "source": [
    "# merge data frame \"df\" and \"dummy_variable_1\" \n",
    "df = pd.concat([df, dummy_variable_1], axis=1)\n",
    "\n",
    "# drop original column \"fuel-type\" from \"df\"\n",
    "df.drop(\"fuel-type\", axis = 1, inplace=True)"
   ]
  },
  {
   "cell_type": "markdown",
   "metadata": {},
   "source": [
    "The last two columns are now the indicator variable representation of the fuel-type variable. They're all 0s and 1s now.\n"
   ]
  },
  {
   "cell_type": "markdown",
   "metadata": {},
   "source": [
    "<details><summary>Click here for the solution</summary>\n",
    "\n",
    "```python\n",
    "# merge the new dataframe to the original datafram\n",
    "df = pd.concat([df, dummy_variable_2], axis=1)\n",
    "\n",
    "# drop original column \"aspiration\" from \"df\"\n",
    "df.drop('aspiration', axis = 1, inplace=True)\n",
    "\n",
    "\n",
    "```\n",
    "\n",
    "</details>\n"
   ]
  },
  {
   "cell_type": "markdown",
   "metadata": {},
   "source": [
    "## Save the new csv:\n"
   ]
  },
  {
   "cell_type": "code",
   "execution_count": null,
   "metadata": {},
   "outputs": [],
   "source": [
    "#df.to_csv('clean_df.csv')"
   ]
  },
  {
   "cell_type": "markdown",
   "metadata": {},
   "source": [
    "### Thank you for completing this lab!\n",
    "\n",
    "## Author\n",
    "\n",
    "Mary Tziraki\n",
    "\n",
    "### Other Contributors\n",
    "\n",
    "\n",
    "\n",
    "                                                                                     \n",
    "## Change Log\n",
    "\n",
    "| Date (YYYY-MM-DD) | Version | Changed By | Change Description                  |\n",
    "| ----------------- | ------- | ---------- | ----------------------------------- |\n",
    "| 2022-03-30        | 2.2     | M.T.       | Update                 |\n",
    "| 2022-03-06        | 2.1     | M.T        | Updated |\n",
    "| 2022-03-04        | 1.00    | M.Tziraki  | Moved lab to course repo in GitLab  |\n",
    "\n",
    "<hr>\n",
    "                                                                                     \n",
    "\n",
    "## <h3 align=\"center\"> © IDEAS 2022. All rights reserved. <h3/>\n"
   ]
  }
 ],
 "metadata": {
  "anaconda-cloud": {},
  "celltoolbar": "Slideshow",
  "kernelspec": {
   "display_name": "Python 3",
   "language": "python",
   "name": "python3"
  },
  "language_info": {
   "codemirror_mode": {
    "name": "ipython",
    "version": 3
   },
   "file_extension": ".py",
   "mimetype": "text/x-python",
   "name": "python",
   "nbconvert_exporter": "python",
   "pygments_lexer": "ipython3",
   "version": "3.8.8"
  }
 },
 "nbformat": 4,
 "nbformat_minor": 4
}
