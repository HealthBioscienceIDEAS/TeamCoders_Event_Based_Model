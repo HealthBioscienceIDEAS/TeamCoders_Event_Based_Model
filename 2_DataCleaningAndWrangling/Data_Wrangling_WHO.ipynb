country
False    27840
Name: country, dtype: int64

year
False    27840
Name: year, dtype: int64

sex
False    27840
Name: sex, dtype: int64

age
False    27840
Name: age, dtype: int64

suicides_no
False    23575
True      4265
Name: suicides_no, dtype: int64

population
False    27840
Name: population, dtype: int64

HDI for year
True     19472
False     8368
Name: HDI for year, dtype: int64

 gdp_for_year ($) 
False    27840
Name:  gdp_for_year ($) , dtype: int64

