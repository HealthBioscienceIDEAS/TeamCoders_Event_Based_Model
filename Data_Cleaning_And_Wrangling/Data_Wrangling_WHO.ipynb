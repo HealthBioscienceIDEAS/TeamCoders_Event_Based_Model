{
 "cells": [
  {
   "attachments": {},
   "cell_type": "markdown",
   "metadata": {
    "slideshow": {
     "slide_type": "slide"
    }
   },
   "source": [
    "<a href=\"https://pandas.pydata.org/\">\n",
    "<img src=\"https://upload.wikimedia.org/wikipedia/commons/thumb/e/ed/Pandas_logo.svg/2560px-Pandas_logo.svg.png\" width=\"300px\">\n",
    "</a>\n",
    "\n",
    "\n",
    "# Data Wrangling with pandas\n",
    "\n",
    "\n",
    "\n",
    "## Objectives\n",
    "This is the demonstration notebook for the first task. The facilitators will present a lecture that is based around this notebook. Before performing the first task as a team, we recommend you first go through this walkthrough together, as it will show a lot of techniques and code that will be useful in the task.  \n",
    "\n",
    "\n",
    "The main objective of this walkthrough is to familiarize you with the [pandas python package](https://pandas.pydata.org/). Pandas is a widely-used popular Python package that can discover, clean and structure tabular data. In particular, this notebook will cover:\n",
    "* The basic concept behind the core data structures within Pandas: [Series](https://pandas.pydata.org/docs/user_guide/dsintro.html#series) and [DataFrames](https://pandas.pydata.org/docs/user_guide/dsintro.html#dataframe)\n",
    "* How to process, organize and clean data stored in DataFrames\n",
    "* Visualization of data stored within a DataFrame.\n",
    "\n",
    "After completing this notebook you will be able to:\n",
    "* Understand key features of the Pandas library.\n",
    "* Import tabular data from spreadsheets into Pandas\n",
    "* Understand your data, its size, features and its structure.\n",
    "* Handle missing values\n",
    "* Correct data format\n",
    "* Transform variables, including grouping continuous values and normalization\n",
    "* Perform statistical analysis\n",
    "* Visualise data using Matplotlib library\n"
   ]
  },
  {
   "attachments": {},
   "cell_type": "markdown",
   "metadata": {},
   "source": [
    "## What do we mean by data wrangling?\n",
    "Data wrangling is the process of reading in the raw data and then cleaning and processing it so that the resulting information is in suitable format for analysis. Part of the data wrangling process includes data discovery, data cleaning (identifying and then removing any erroneous data), handling missing data, transforming variables, and visualizing the resulting data.\n",
    "\n",
    "Data wrangling is often needed before any quantitative analysis can begin; however, it is often the most time-consuming and tedious part of the process. There are many different skills and actions that are required as part of data wrangling, many of which are illustrated in the example code below. Many of these steps are part of the functionality that Pandas provides. \n",
    "\n",
    "Here are some common, often used steps that are considered part of data wrangling:\n",
    "\n",
    "* **Discovering**: \n",
    "Reviewing and understanding the input data to better understand its structure and what variables will be useful for your problem \n",
    "* **Structuring**:\n",
    "Standardising the format for disparate types of data and make the data usable for automated or semiautomated data analysis. The data must be structured to fit the analytics model \n",
    "COME BACK TO THIS\n",
    "\n",
    "* **Cleaning** : \n",
    "There are often missing or implausible values in a dataset. These occur for a number of reasons and they could adversely affect the reliability and repeatability of an analysis. Cleaning techniques are identify and in some cases correct these instances so that they can be handled appropriately in subsequent analyses.\n",
    "\n",
    "* **Enriching**\n",
    "You are pretty familiar with the data at this point. This is the moment to ask yourself if you want to enhance the data. Are you looking to add other data to it?\n",
    "\n",
    "\n",
    "*  **Validating** \n",
    "This step involves iterative programming steps that authenticate your data’s quality and safety. For example, you may have problems if your data is not clean or enriched and the attributes are not distributed evenly.\n",
    "\n",
    "Many of these different stages of data wrangling require you to visualize the data in some form other than the base tabular data. Visualisation libraries such as matplotlib and seaborn are often used to plot data as well as perform some basic statistical analysis. For example, one simple way of identify outliers for cleaning is to plot the data points and visually identify points that appear to be well outside the plausible range of the rest of the data for a given variable. \n",
    "\n"
   ]
  },
  {
   "attachments": {},
   "cell_type": "markdown",
   "metadata": {},
   "source": [
    "## Table of Contents\n",
    "* [1. Importing pandas and reading in data](#1-importing-pandas-and-reading-in-data)\n",
    "* [2. Discovering and reviewing the data](#2-discovering-and-reviewing-the-data)\n",
    "* [3. Handling missing data](#3-handling-missing-data)\n",
    "* [4. Checking the data representation](#4-checking-the-data-representation)\n",
    "    <li><a href=\"https://#data_standardization\">Data standardization</a></li>\n",
    "    <li><a href=\"https://#data_normalization\">Data normalization (centering/scaling)</a></li>\n"
   ]
  },
  {
   "attachments": {},
   "cell_type": "markdown",
   "metadata": {
    "slideshow": {
     "slide_type": "slide"
    }
   },
   "source": [
    "## 1. Importing pandas and reading in data\n",
    "### 1.1 Importing packages\n",
    "The first thing that we need to do is to import the Python packages we are going to need. This includes pandas, [numpy](https://numpy.org/) (which Pandas uses to store data in the two-dimensional tabular structure), and [matplotlib](https://matplotlib.org/), a popular Python package used for data visualisation.\n",
    "\n",
    "For convenience, we will import these packages with the widely agreed shortname (`pd`,`np`,`plt`), so that we don't always have to provide the package name each time we use some functionality from the package. "
   ]
  },
  {
   "cell_type": "code",
   "execution_count": 2,
   "metadata": {
    "slideshow": {
     "slide_type": "fragment"
    }
   },
   "outputs": [],
   "source": [
    "import pandas as pd\n",
    "import numpy as np\n",
    "import matplotlib.pylab as plt\n"
   ]
  },
  {
   "attachments": {},
   "cell_type": "markdown",
   "metadata": {},
   "source": [
    "###  1.2 Reading in data\n",
    "For this notebook, we are using a dataset provided by the World Health Organisation. There are many sources where you might get data from that you will then want to work with using pandas. The most common is to open a file containing tabular data. The most well-known format for tabular data are Excel spreadsheets. Another commonly used format are plain-text *comma separated values* files with the extension `csv`. Each line of a csv file represents a row, and each column is separated by a comma. \n",
    "\n",
    "Besides local files, you may also get data by querying a database or requesting data from the web. \n",
    "\n",
    "All of these sources generate tabular data that can be stored within pandas DataFrames.\n",
    "\n",
    "For the purpose of this notebook, we have assumed you have [downloaded the data](https://liveuclac.sharepoint.com/:x:/r/sites/TeamCodersEventsPlanning/Shared%20Documents/General/WHO/who_case_statistics_modified3.csv?d=wec3e29c1cb9d43779f37cc43bf9eed3b&csf=1&web=1&e=wy7e84) and stored it to a local file in the same directory as this notebook. \n",
    "\n",
    "pandas has many different functions that will read in data depending on the data format. Below, we will read the filename and store it the variable `input_file` and then use the [read_csv](https://pandas.pydata.org/docs/reference/api/pandas.read_csv.html) function to read this file \n",
    "and store it into a DataFrame, under a variable named `df_raw`. Here the df stands for DataFrame, so that you know what is stored in the variable.  "
   ]
  },
  {
   "cell_type": "code",
   "execution_count": 3,
   "metadata": {},
   "outputs": [],
   "source": [
    "\n",
    "# If you have not downloaded the file into this directory\n",
    "# please ammend the first line so that input_file contains\n",
    "# the full location (path) of the file\n",
    "input_file = \"data/who_case_statistics_modified3.csv\" \n",
    "df_raw = pd.read_csv(input_file)"
   ]
  },
  {
   "attachments": {},
   "cell_type": "markdown",
   "metadata": {},
   "source": [
    "## 2. Discovering and reviewing the data \n",
    "Before we can work with the data, we need to know about more about the contents of the data. Here are some core functions that can help you start to review the structure and contents of your DataFrame. \n",
    "* `pandas.DataFrame.head()` - prints out the first *n* rows of the DataFrame \n",
    "* `pandas.DataFrame.tail()` - prints out the last *n* rows of the DataFrame\n",
    "\n",
    "You can understand a bit more of the data structure using the following commands:\n",
    "* `pandas.DataFrame.info()` - summary information (column names, counts, data types) \n",
    "* `pandas.DataFrame.describe()` - provides basic summary statistics for each variable\n",
    "\n",
    "Some basic low-level information about the DataFrame can be extracted with the following attributes:\n",
    "* `pandas.DataFrame.shape` - provides the number of rows and columns in the DataFrame\n",
    "* `pandas.DataFrame.dtypes` - indicates the datatype (string, float, integer, etc) used to store the data for each variable\n"
   ]
  },
  {
   "attachments": {},
   "cell_type": "markdown",
   "metadata": {},
   "source": [
    "### 2.1 Review the data\n",
    "Use the method <b>head()</b> to display the first five rows of the dataframe.\n"
   ]
  },
  {
   "cell_type": "code",
   "execution_count": 37,
   "metadata": {
    "scrolled": true
   },
   "outputs": [
    {
     "data": {
      "text/html": [
       "<div>\n",
       "<style scoped>\n",
       "    .dataframe tbody tr th:only-of-type {\n",
       "        vertical-align: middle;\n",
       "    }\n",
       "\n",
       "    .dataframe tbody tr th {\n",
       "        vertical-align: top;\n",
       "    }\n",
       "\n",
       "    .dataframe thead th {\n",
       "        text-align: right;\n",
       "    }\n",
       "</style>\n",
       "<table border=\"1\" class=\"dataframe\">\n",
       "  <thead>\n",
       "    <tr style=\"text-align: right;\">\n",
       "      <th></th>\n",
       "      <th>country</th>\n",
       "      <th>year</th>\n",
       "      <th>sex</th>\n",
       "      <th>age</th>\n",
       "      <th>cases_no</th>\n",
       "      <th>population</th>\n",
       "      <th>HDI for year</th>\n",
       "      <th>gdp_for_year ($)</th>\n",
       "    </tr>\n",
       "  </thead>\n",
       "  <tbody>\n",
       "    <tr>\n",
       "      <th>0</th>\n",
       "      <td>Albania</td>\n",
       "      <td>1987</td>\n",
       "      <td>male</td>\n",
       "      <td>15-24 years</td>\n",
       "      <td>21</td>\n",
       "      <td>312900</td>\n",
       "      <td>NaN</td>\n",
       "      <td>2,156,624,900</td>\n",
       "    </tr>\n",
       "    <tr>\n",
       "      <th>1</th>\n",
       "      <td>Albania</td>\n",
       "      <td>1987</td>\n",
       "      <td>male</td>\n",
       "      <td>35-54 years</td>\n",
       "      <td>16</td>\n",
       "      <td>308000</td>\n",
       "      <td>NaN</td>\n",
       "      <td>2,156,624,900</td>\n",
       "    </tr>\n",
       "    <tr>\n",
       "      <th>2</th>\n",
       "      <td>Albania</td>\n",
       "      <td>1987</td>\n",
       "      <td>female</td>\n",
       "      <td>15-24 years</td>\n",
       "      <td>14</td>\n",
       "      <td>289700</td>\n",
       "      <td>NaN</td>\n",
       "      <td>2,156,624,900</td>\n",
       "    </tr>\n",
       "    <tr>\n",
       "      <th>3</th>\n",
       "      <td>Albania</td>\n",
       "      <td>1987</td>\n",
       "      <td>male</td>\n",
       "      <td>75+ years</td>\n",
       "      <td>1</td>\n",
       "      <td>21800</td>\n",
       "      <td>NaN</td>\n",
       "      <td>2,156,624,900</td>\n",
       "    </tr>\n",
       "    <tr>\n",
       "      <th>4</th>\n",
       "      <td>Albania</td>\n",
       "      <td>1987</td>\n",
       "      <td>male</td>\n",
       "      <td>25-34 years</td>\n",
       "      <td>9</td>\n",
       "      <td>274300</td>\n",
       "      <td>NaN</td>\n",
       "      <td>2,156,624,900</td>\n",
       "    </tr>\n",
       "  </tbody>\n",
       "</table>\n",
       "</div>"
      ],
      "text/plain": [
       "   country  year     sex          age cases_no  population  HDI for year  \\\n",
       "0  Albania  1987    male  15-24 years       21      312900           NaN   \n",
       "1  Albania  1987    male  35-54 years       16      308000           NaN   \n",
       "2  Albania  1987  female  15-24 years       14      289700           NaN   \n",
       "3  Albania  1987    male    75+ years        1       21800           NaN   \n",
       "4  Albania  1987    male  25-34 years        9      274300           NaN   \n",
       "\n",
       "   gdp_for_year ($)   \n",
       "0      2,156,624,900  \n",
       "1      2,156,624,900  \n",
       "2      2,156,624,900  \n",
       "3      2,156,624,900  \n",
       "4      2,156,624,900  "
      ]
     },
     "execution_count": 37,
     "metadata": {},
     "output_type": "execute_result"
    }
   ],
   "source": [
    "df_raw.head()"
   ]
  },
  {
   "cell_type": "code",
   "execution_count": 38,
   "metadata": {},
   "outputs": [
    {
     "data": {
      "text/plain": [
       "(27840, 8)"
      ]
     },
     "execution_count": 38,
     "metadata": {},
     "output_type": "execute_result"
    }
   ],
   "source": [
    "df_raw.shape"
   ]
  },
  {
   "cell_type": "code",
   "execution_count": 4,
   "metadata": {},
   "outputs": [
    {
     "name": "stdout",
     "output_type": "stream",
     "text": [
      "<class 'pandas.core.frame.DataFrame'>\n",
      "RangeIndex: 27840 entries, 0 to 27839\n",
      "Data columns (total 8 columns):\n",
      " #   Column              Non-Null Count  Dtype  \n",
      "---  ------              --------------  -----  \n",
      " 0   country             27840 non-null  object \n",
      " 1   year                27840 non-null  int64  \n",
      " 2   sex                 27840 non-null  object \n",
      " 3   age                 27840 non-null  object \n",
      " 4   cases_no            23575 non-null  object \n",
      " 5   population          27840 non-null  int64  \n",
      " 6   HDI for year        8368 non-null   float64\n",
      " 7    gdp_for_year ($)   27840 non-null  object \n",
      "dtypes: float64(1), int64(2), object(5)\n",
      "memory usage: 1.7+ MB\n"
     ]
    }
   ],
   "source": [
    "df_raw.dtypes"
   ]
  },
  {
   "attachments": {},
   "cell_type": "markdown",
   "metadata": {},
   "source": [
    "### Exercise 1\n",
    "Use the tail method to see the last part of the data.\n",
    "How many lines do you see?\n",
    "Use the the tail method again to see the last 20 lines of the data."
   ]
  },
  {
   "cell_type": "code",
   "execution_count": null,
   "metadata": {},
   "outputs": [],
   "source": [
    "# Write your code here"
   ]
  },
  {
   "attachments": {},
   "cell_type": "markdown",
   "metadata": {},
   "source": [
    "### Exercise 2\n",
    "Use the info method to gather information  about the data. \n"
   ]
  },
  {
   "cell_type": "code",
   "execution_count": null,
   "metadata": {},
   "outputs": [],
   "source": [
    "# Write your code here"
   ]
  },
  {
   "attachments": {},
   "cell_type": "markdown",
   "metadata": {},
   "source": [
    "### Observations\n",
    "* The data frame contains 27840 rows and 8 columns.\n",
    "* The data frame is an object of class pandas.DataFrame.\n",
    "* Columns that hold only numeric data are stored as floats or integers\n",
    "* Columns that hold text or a mixture of data are stored as objects. \n"
   ]
  },
  {
   "attachments": {},
   "cell_type": "markdown",
   "metadata": {},
   "source": [
    "### Exercise 3\n",
    "Write any other observation that you see about the data. \n"
   ]
  },
  {
   "attachments": {},
   "cell_type": "markdown",
   "metadata": {},
   "source": []
  },
  {
   "attachments": {},
   "cell_type": "markdown",
   "metadata": {},
   "source": [
    "### 2.2 Understanding headers\n",
    "How did pandas know how to name the columns? If you opened up the file in a text editor, you would see that the first row contains these names. When you run `read_csv`, pandas assumes that the column names (or _headers_) are located in the first row. If that is not the case, you can specify which row they can be found by using the `headers` argument. \n",
    "\n",
    "However, if there are not any column names in the file, then it is important to tell pandas that, lest you lose actual data. This can be done by setting `headers` to `None`. \n"
   ]
  },
  {
   "cell_type": "code",
   "execution_count": null,
   "metadata": {},
   "outputs": [],
   "source": [
    "# Reading in the data - but assuming no headers\n",
    "df_raw = pd.read_csv(input_file, headers=None)\n",
    "# Now look at the head, does it look correct?\n",
    "df_raw.head()"
   ]
  },
  {
   "cell_type": "code",
   "execution_count": null,
   "metadata": {},
   "outputs": [],
   "source": [
    "# Also look at the info, does it look correct?\n",
    "df_raw.info()"
   ]
  },
  {
   "attachments": {},
   "cell_type": "markdown",
   "metadata": {},
   "source": [
    "### 2.3 Selecting the columns and getting the values\n",
    "The way to to select columns is to write the \n",
    "`dataframe['column_name']`\n",
    "Lets show all the countries in the data set."
   ]
  },
  {
   "cell_type": "code",
   "execution_count": 5,
   "metadata": {},
   "outputs": [
    {
     "name": "stdout",
     "output_type": "stream",
     "text": [
      "0            Albania\n",
      "1            Albania\n",
      "2            Albania\n",
      "3            Albania\n",
      "4            Albania\n",
      "            ...     \n",
      "27835        Belgium\n",
      "27836       Thailand\n",
      "27837    Netherlands\n",
      "27838        Grenada\n",
      "27839         Mexico\n",
      "Name: country, Length: 27840, dtype: object\n"
     ]
    }
   ],
   "source": [
    "df_raw = pd.read_csv(input_file)\n",
    "countries=df_raw['country']\n",
    "print(countries)"
   ]
  },
  {
   "attachments": {},
   "cell_type": "markdown",
   "metadata": {},
   "source": [
    "We can get the counts of different values in the countries column using the `pandas.DataFrame.value_counts()` function."
   ]
  },
  {
   "cell_type": "code",
   "execution_count": 6,
   "metadata": {},
   "outputs": [
    {
     "data": {
      "text/plain": [
       "Austria                   383\n",
       "Netherlands               383\n",
       "Iceland                   382\n",
       "Mauritius                 382\n",
       "Belgium                   373\n",
       "                         ... \n",
       "Bosnia and Herzegovina     24\n",
       "Macau                      12\n",
       "Cabo Verde                 12\n",
       "Dominica                   12\n",
       "Mongolia                   10\n",
       "Name: country, Length: 101, dtype: int64"
      ]
     },
     "execution_count": 6,
     "metadata": {},
     "output_type": "execute_result"
    }
   ],
   "source": [
    "df_raw['country'].value_counts() #select the column with data_raw['country'] then add the method .value_counts()"
   ]
  },
  {
   "attachments": {},
   "cell_type": "markdown",
   "metadata": {},
   "source": [
    "This shows us how many times each country is found in the column. If you wanted instead to get a list of all countries found in this column, you can use the `unique` function. The output from this will be a one-dimensional numpy array.  \n"
   ]
  },
  {
   "cell_type": "code",
   "execution_count": 22,
   "metadata": {},
   "outputs": [
    {
     "name": "stdout",
     "output_type": "stream",
     "text": [
      "['Albania' 'Antigua and Barbuda' 'Argentina' 'Armenia' 'Aruba' 'Australia'\n",
      " 'Austria' 'Azerbaijan' 'Bahamas' 'Bahrain' 'Barbados' 'Belarus' 'Belgium'\n",
      " 'Belize' 'Bosnia and Herzegovina' 'Brazil' 'Bulgaria' 'Cabo Verde'\n",
      " 'Canada' 'Chile' 'Colombia' 'Costa Rica' 'Croatia' 'Cuba' 'Cyprus'\n",
      " 'Czech Republic' 'Denmark' 'Dominica' 'Ecuador' 'El Salvador' 'Estonia'\n",
      " 'Fiji' 'Finland' 'France' 'Georgia' 'Germany' 'Greece' 'Grenada'\n",
      " 'Guatemala' 'Guyana' 'Hungary' 'Iceland' 'Ireland' 'Israel' 'Italy'\n",
      " 'Jamaica' 'Japan' 'Kazakhstan' 'Kiribati' 'Kuwait' 'Kyrgyzstan' 'Latvia'\n",
      " 'Lithuania' 'Luxembourg' 'Macau' 'Maldives' 'Malta' 'Mauritius' 'Mexico'\n",
      " 'Mongolia' 'Montenegro' 'Netherlands' 'New Zealand' 'Nicaragua' 'Norway'\n",
      " 'Oman' 'Panama' 'Paraguay' 'Philippines' 'Poland' 'Portugal'\n",
      " 'Puerto Rico' 'Qatar' 'Republic of Korea' 'Romania' 'Russian Federation'\n",
      " 'Saint Kitts and Nevis' 'Saint Lucia' 'Saint Vincent and Grenadines'\n",
      " 'San Marino' 'Serbia' 'Seychelles' 'Singapore' 'Slovakia' 'Slovenia'\n",
      " 'South Africa' 'Spain' 'Sri Lanka' 'Suriname' 'Sweden' 'Switzerland'\n",
      " 'Thailand' 'Trinidad and Tobago' 'Turkey' 'Turkmenistan' 'Ukraine'\n",
      " 'United Arab Emirates' 'United Kingdom' 'United States' 'Uruguay'\n",
      " 'Uzbekistan']\n",
      "<class 'numpy.ndarray'>\n"
     ]
    }
   ],
   "source": [
    "country_array = df_raw['country'].unique()\n",
    "print(country_array)\n",
    "print(type(country_array))"
   ]
  },
  {
   "attachments": {},
   "cell_type": "markdown",
   "metadata": {},
   "source": [
    "In order to convert the numpy array to a Python list, we will use the numpy `tolist()` method. In case the country list is not alphabetically sorted, we can use the `sorted()` function.\n"
   ]
  },
  {
   "cell_type": "code",
   "execution_count": 23,
   "metadata": {},
   "outputs": [
    {
     "data": {
      "text/plain": [
       "['Albania',\n",
       " 'Antigua and Barbuda',\n",
       " 'Argentina',\n",
       " 'Armenia',\n",
       " 'Aruba',\n",
       " 'Australia',\n",
       " 'Austria',\n",
       " 'Azerbaijan',\n",
       " 'Bahamas',\n",
       " 'Bahrain',\n",
       " 'Barbados',\n",
       " 'Belarus',\n",
       " 'Belgium',\n",
       " 'Belize',\n",
       " 'Bosnia and Herzegovina',\n",
       " 'Brazil',\n",
       " 'Bulgaria',\n",
       " 'Cabo Verde',\n",
       " 'Canada',\n",
       " 'Chile',\n",
       " 'Colombia',\n",
       " 'Costa Rica',\n",
       " 'Croatia',\n",
       " 'Cuba',\n",
       " 'Cyprus',\n",
       " 'Czech Republic',\n",
       " 'Denmark',\n",
       " 'Dominica',\n",
       " 'Ecuador',\n",
       " 'El Salvador',\n",
       " 'Estonia',\n",
       " 'Fiji',\n",
       " 'Finland',\n",
       " 'France',\n",
       " 'Georgia',\n",
       " 'Germany',\n",
       " 'Greece',\n",
       " 'Grenada',\n",
       " 'Guatemala',\n",
       " 'Guyana',\n",
       " 'Hungary',\n",
       " 'Iceland',\n",
       " 'Ireland',\n",
       " 'Israel',\n",
       " 'Italy',\n",
       " 'Jamaica',\n",
       " 'Japan',\n",
       " 'Kazakhstan',\n",
       " 'Kiribati',\n",
       " 'Kuwait',\n",
       " 'Kyrgyzstan',\n",
       " 'Latvia',\n",
       " 'Lithuania',\n",
       " 'Luxembourg',\n",
       " 'Macau',\n",
       " 'Maldives',\n",
       " 'Malta',\n",
       " 'Mauritius',\n",
       " 'Mexico',\n",
       " 'Mongolia',\n",
       " 'Montenegro',\n",
       " 'Netherlands',\n",
       " 'New Zealand',\n",
       " 'Nicaragua',\n",
       " 'Norway',\n",
       " 'Oman',\n",
       " 'Panama',\n",
       " 'Paraguay',\n",
       " 'Philippines',\n",
       " 'Poland',\n",
       " 'Portugal',\n",
       " 'Puerto Rico',\n",
       " 'Qatar',\n",
       " 'Republic of Korea',\n",
       " 'Romania',\n",
       " 'Russian Federation',\n",
       " 'Saint Kitts and Nevis',\n",
       " 'Saint Lucia',\n",
       " 'Saint Vincent and Grenadines',\n",
       " 'San Marino',\n",
       " 'Serbia',\n",
       " 'Seychelles',\n",
       " 'Singapore',\n",
       " 'Slovakia',\n",
       " 'Slovenia',\n",
       " 'South Africa',\n",
       " 'Spain',\n",
       " 'Sri Lanka',\n",
       " 'Suriname',\n",
       " 'Sweden',\n",
       " 'Switzerland',\n",
       " 'Thailand',\n",
       " 'Trinidad and Tobago',\n",
       " 'Turkey',\n",
       " 'Turkmenistan',\n",
       " 'Ukraine',\n",
       " 'United Arab Emirates',\n",
       " 'United Kingdom',\n",
       " 'United States',\n",
       " 'Uruguay',\n",
       " 'Uzbekistan']"
      ]
     },
     "execution_count": 23,
     "metadata": {},
     "output_type": "execute_result"
    }
   ],
   "source": [
    "country_list = country_array.tolist() # Convert a numpy array to a list\n",
    "sorted_country_list = sorted(country_list)\n",
    "country_list  # The list starts and finishes with []\n",
    "#  we can print the list within the print function:      print(f'The list of countries is:{data_countries_list}')"
   ]
  },
  {
   "cell_type": "code",
   "execution_count": 25,
   "metadata": {},
   "outputs": [
    {
     "data": {
      "text/plain": [
       "101"
      ]
     },
     "execution_count": 25,
     "metadata": {},
     "output_type": "execute_result"
    }
   ],
   "source": [
    "#Find the length of the list\n",
    "len(country_list)"
   ]
  },
  {
   "attachments": {},
   "cell_type": "markdown",
   "metadata": {},
   "source": [
    "We have looked at how to explore categorical data. Now let's look at numeric data. We can get the mean of a column using the `mean()` function"
   ]
  },
  {
   "cell_type": "code",
   "execution_count": 28,
   "metadata": {},
   "outputs": [
    {
     "data": {
      "text/plain": [
       "0         21\n",
       "1         16\n",
       "2         14\n",
       "3          1\n",
       "4          9\n",
       "        ... \n",
       "27835      6\n",
       "27836    152\n",
       "27837     21\n",
       "27838    NaN\n",
       "27839      7\n",
       "Name: cases_no, Length: 27840, dtype: object"
      ]
     },
     "execution_count": 28,
     "metadata": {},
     "output_type": "execute_result"
    }
   ],
   "source": [
    "case_numbers = df_raw['cases_no']\n",
    "case_numbers"
   ]
  },
  {
   "cell_type": "code",
   "execution_count": 30,
   "metadata": {},
   "outputs": [
    {
     "ename": "TypeError",
     "evalue": "can only concatenate str (not \"int\") to str",
     "output_type": "error",
     "traceback": [
      "\u001b[0;31m---------------------------------------------------------------------------\u001b[0m",
      "\u001b[0;31mTypeError\u001b[0m                                 Traceback (most recent call last)",
      "\u001b[0;32m/var/folders/9y/g1lfqkc525zbf3824tckr5m00000gp/T/ipykernel_1266/1209891556.py\u001b[0m in \u001b[0;36m<module>\u001b[0;34m\u001b[0m\n\u001b[0;32m----> 1\u001b[0;31m \u001b[0mcases_mean\u001b[0m \u001b[0;34m=\u001b[0m \u001b[0mdf_raw\u001b[0m\u001b[0;34m[\u001b[0m\u001b[0;34m'cases_no'\u001b[0m\u001b[0;34m]\u001b[0m\u001b[0;34m.\u001b[0m\u001b[0mmean\u001b[0m\u001b[0;34m(\u001b[0m\u001b[0;34m)\u001b[0m\u001b[0;34m\u001b[0m\u001b[0;34m\u001b[0m\u001b[0m\n\u001b[0m",
      "\u001b[0;32m~/anaconda3/envs/teamcoder_ebm/lib/python3.7/site-packages/pandas/core/generic.py\u001b[0m in \u001b[0;36mstat_func\u001b[0;34m(self, axis, skipna, level, numeric_only, **kwargs)\u001b[0m\n\u001b[1;32m  11467\u001b[0m             \u001b[0;32mreturn\u001b[0m \u001b[0mself\u001b[0m\u001b[0;34m.\u001b[0m\u001b[0m_agg_by_level\u001b[0m\u001b[0;34m(\u001b[0m\u001b[0mname\u001b[0m\u001b[0;34m,\u001b[0m \u001b[0maxis\u001b[0m\u001b[0;34m=\u001b[0m\u001b[0maxis\u001b[0m\u001b[0;34m,\u001b[0m \u001b[0mlevel\u001b[0m\u001b[0;34m=\u001b[0m\u001b[0mlevel\u001b[0m\u001b[0;34m,\u001b[0m \u001b[0mskipna\u001b[0m\u001b[0;34m=\u001b[0m\u001b[0mskipna\u001b[0m\u001b[0;34m)\u001b[0m\u001b[0;34m\u001b[0m\u001b[0;34m\u001b[0m\u001b[0m\n\u001b[1;32m  11468\u001b[0m         return self._reduce(\n\u001b[0;32m> 11469\u001b[0;31m             \u001b[0mfunc\u001b[0m\u001b[0;34m,\u001b[0m \u001b[0mname\u001b[0m\u001b[0;34m=\u001b[0m\u001b[0mname\u001b[0m\u001b[0;34m,\u001b[0m \u001b[0maxis\u001b[0m\u001b[0;34m=\u001b[0m\u001b[0maxis\u001b[0m\u001b[0;34m,\u001b[0m \u001b[0mskipna\u001b[0m\u001b[0;34m=\u001b[0m\u001b[0mskipna\u001b[0m\u001b[0;34m,\u001b[0m \u001b[0mnumeric_only\u001b[0m\u001b[0;34m=\u001b[0m\u001b[0mnumeric_only\u001b[0m\u001b[0;34m\u001b[0m\u001b[0;34m\u001b[0m\u001b[0m\n\u001b[0m\u001b[1;32m  11470\u001b[0m         )\n\u001b[1;32m  11471\u001b[0m \u001b[0;34m\u001b[0m\u001b[0m\n",
      "\u001b[0;32m~/anaconda3/envs/teamcoder_ebm/lib/python3.7/site-packages/pandas/core/series.py\u001b[0m in \u001b[0;36m_reduce\u001b[0;34m(self, op, name, axis, skipna, numeric_only, filter_type, **kwds)\u001b[0m\n\u001b[1;32m   4234\u001b[0m                 )\n\u001b[1;32m   4235\u001b[0m             \u001b[0;32mwith\u001b[0m \u001b[0mnp\u001b[0m\u001b[0;34m.\u001b[0m\u001b[0merrstate\u001b[0m\u001b[0;34m(\u001b[0m\u001b[0mall\u001b[0m\u001b[0;34m=\u001b[0m\u001b[0;34m\"ignore\"\u001b[0m\u001b[0;34m)\u001b[0m\u001b[0;34m:\u001b[0m\u001b[0;34m\u001b[0m\u001b[0;34m\u001b[0m\u001b[0m\n\u001b[0;32m-> 4236\u001b[0;31m                 \u001b[0;32mreturn\u001b[0m \u001b[0mop\u001b[0m\u001b[0;34m(\u001b[0m\u001b[0mdelegate\u001b[0m\u001b[0;34m,\u001b[0m \u001b[0mskipna\u001b[0m\u001b[0;34m=\u001b[0m\u001b[0mskipna\u001b[0m\u001b[0;34m,\u001b[0m \u001b[0;34m**\u001b[0m\u001b[0mkwds\u001b[0m\u001b[0;34m)\u001b[0m\u001b[0;34m\u001b[0m\u001b[0;34m\u001b[0m\u001b[0m\n\u001b[0m\u001b[1;32m   4237\u001b[0m \u001b[0;34m\u001b[0m\u001b[0m\n\u001b[1;32m   4238\u001b[0m     \u001b[0;32mdef\u001b[0m \u001b[0m_reindex_indexer\u001b[0m\u001b[0;34m(\u001b[0m\u001b[0mself\u001b[0m\u001b[0;34m,\u001b[0m \u001b[0mnew_index\u001b[0m\u001b[0;34m,\u001b[0m \u001b[0mindexer\u001b[0m\u001b[0;34m,\u001b[0m \u001b[0mcopy\u001b[0m\u001b[0;34m)\u001b[0m\u001b[0;34m:\u001b[0m\u001b[0;34m\u001b[0m\u001b[0;34m\u001b[0m\u001b[0m\n",
      "\u001b[0;32m~/anaconda3/envs/teamcoder_ebm/lib/python3.7/site-packages/pandas/core/nanops.py\u001b[0m in \u001b[0;36m_f\u001b[0;34m(*args, **kwargs)\u001b[0m\n\u001b[1;32m     69\u001b[0m             \u001b[0;32mtry\u001b[0m\u001b[0;34m:\u001b[0m\u001b[0;34m\u001b[0m\u001b[0;34m\u001b[0m\u001b[0m\n\u001b[1;32m     70\u001b[0m                 \u001b[0;32mwith\u001b[0m \u001b[0mnp\u001b[0m\u001b[0;34m.\u001b[0m\u001b[0merrstate\u001b[0m\u001b[0;34m(\u001b[0m\u001b[0minvalid\u001b[0m\u001b[0;34m=\u001b[0m\u001b[0;34m\"ignore\"\u001b[0m\u001b[0;34m)\u001b[0m\u001b[0;34m:\u001b[0m\u001b[0;34m\u001b[0m\u001b[0;34m\u001b[0m\u001b[0m\n\u001b[0;32m---> 71\u001b[0;31m                     \u001b[0;32mreturn\u001b[0m \u001b[0mf\u001b[0m\u001b[0;34m(\u001b[0m\u001b[0;34m*\u001b[0m\u001b[0margs\u001b[0m\u001b[0;34m,\u001b[0m \u001b[0;34m**\u001b[0m\u001b[0mkwargs\u001b[0m\u001b[0;34m)\u001b[0m\u001b[0;34m\u001b[0m\u001b[0;34m\u001b[0m\u001b[0m\n\u001b[0m\u001b[1;32m     72\u001b[0m             \u001b[0;32mexcept\u001b[0m \u001b[0mValueError\u001b[0m \u001b[0;32mas\u001b[0m \u001b[0me\u001b[0m\u001b[0;34m:\u001b[0m\u001b[0;34m\u001b[0m\u001b[0;34m\u001b[0m\u001b[0m\n\u001b[1;32m     73\u001b[0m                 \u001b[0;31m# we want to transform an object array\u001b[0m\u001b[0;34m\u001b[0m\u001b[0;34m\u001b[0m\u001b[0;34m\u001b[0m\u001b[0m\n",
      "\u001b[0;32m~/anaconda3/envs/teamcoder_ebm/lib/python3.7/site-packages/pandas/core/nanops.py\u001b[0m in \u001b[0;36mf\u001b[0;34m(values, axis, skipna, **kwds)\u001b[0m\n\u001b[1;32m    127\u001b[0m                     \u001b[0mresult\u001b[0m \u001b[0;34m=\u001b[0m \u001b[0malt\u001b[0m\u001b[0;34m(\u001b[0m\u001b[0mvalues\u001b[0m\u001b[0;34m,\u001b[0m \u001b[0maxis\u001b[0m\u001b[0;34m=\u001b[0m\u001b[0maxis\u001b[0m\u001b[0;34m,\u001b[0m \u001b[0mskipna\u001b[0m\u001b[0;34m=\u001b[0m\u001b[0mskipna\u001b[0m\u001b[0;34m,\u001b[0m \u001b[0;34m**\u001b[0m\u001b[0mkwds\u001b[0m\u001b[0;34m)\u001b[0m\u001b[0;34m\u001b[0m\u001b[0;34m\u001b[0m\u001b[0m\n\u001b[1;32m    128\u001b[0m             \u001b[0;32melse\u001b[0m\u001b[0;34m:\u001b[0m\u001b[0;34m\u001b[0m\u001b[0;34m\u001b[0m\u001b[0m\n\u001b[0;32m--> 129\u001b[0;31m                 \u001b[0mresult\u001b[0m \u001b[0;34m=\u001b[0m \u001b[0malt\u001b[0m\u001b[0;34m(\u001b[0m\u001b[0mvalues\u001b[0m\u001b[0;34m,\u001b[0m \u001b[0maxis\u001b[0m\u001b[0;34m=\u001b[0m\u001b[0maxis\u001b[0m\u001b[0;34m,\u001b[0m \u001b[0mskipna\u001b[0m\u001b[0;34m=\u001b[0m\u001b[0mskipna\u001b[0m\u001b[0;34m,\u001b[0m \u001b[0;34m**\u001b[0m\u001b[0mkwds\u001b[0m\u001b[0;34m)\u001b[0m\u001b[0;34m\u001b[0m\u001b[0;34m\u001b[0m\u001b[0m\n\u001b[0m\u001b[1;32m    130\u001b[0m \u001b[0;34m\u001b[0m\u001b[0m\n\u001b[1;32m    131\u001b[0m             \u001b[0;32mreturn\u001b[0m \u001b[0mresult\u001b[0m\u001b[0;34m\u001b[0m\u001b[0;34m\u001b[0m\u001b[0m\n",
      "\u001b[0;32m~/anaconda3/envs/teamcoder_ebm/lib/python3.7/site-packages/pandas/core/nanops.py\u001b[0m in \u001b[0;36mnanmean\u001b[0;34m(values, axis, skipna, mask)\u001b[0m\n\u001b[1;32m    561\u001b[0m         \u001b[0mdtype_count\u001b[0m \u001b[0;34m=\u001b[0m \u001b[0mdtype\u001b[0m\u001b[0;34m\u001b[0m\u001b[0;34m\u001b[0m\u001b[0m\n\u001b[1;32m    562\u001b[0m     \u001b[0mcount\u001b[0m \u001b[0;34m=\u001b[0m \u001b[0m_get_counts\u001b[0m\u001b[0;34m(\u001b[0m\u001b[0mvalues\u001b[0m\u001b[0;34m.\u001b[0m\u001b[0mshape\u001b[0m\u001b[0;34m,\u001b[0m \u001b[0mmask\u001b[0m\u001b[0;34m,\u001b[0m \u001b[0maxis\u001b[0m\u001b[0;34m,\u001b[0m \u001b[0mdtype\u001b[0m\u001b[0;34m=\u001b[0m\u001b[0mdtype_count\u001b[0m\u001b[0;34m)\u001b[0m\u001b[0;34m\u001b[0m\u001b[0;34m\u001b[0m\u001b[0m\n\u001b[0;32m--> 563\u001b[0;31m     \u001b[0mthe_sum\u001b[0m \u001b[0;34m=\u001b[0m \u001b[0m_ensure_numeric\u001b[0m\u001b[0;34m(\u001b[0m\u001b[0mvalues\u001b[0m\u001b[0;34m.\u001b[0m\u001b[0msum\u001b[0m\u001b[0;34m(\u001b[0m\u001b[0maxis\u001b[0m\u001b[0;34m,\u001b[0m \u001b[0mdtype\u001b[0m\u001b[0;34m=\u001b[0m\u001b[0mdtype_sum\u001b[0m\u001b[0;34m)\u001b[0m\u001b[0;34m)\u001b[0m\u001b[0;34m\u001b[0m\u001b[0;34m\u001b[0m\u001b[0m\n\u001b[0m\u001b[1;32m    564\u001b[0m \u001b[0;34m\u001b[0m\u001b[0m\n\u001b[1;32m    565\u001b[0m     \u001b[0;32mif\u001b[0m \u001b[0maxis\u001b[0m \u001b[0;32mis\u001b[0m \u001b[0;32mnot\u001b[0m \u001b[0;32mNone\u001b[0m \u001b[0;32mand\u001b[0m \u001b[0mgetattr\u001b[0m\u001b[0;34m(\u001b[0m\u001b[0mthe_sum\u001b[0m\u001b[0;34m,\u001b[0m \u001b[0;34m\"ndim\"\u001b[0m\u001b[0;34m,\u001b[0m \u001b[0;32mFalse\u001b[0m\u001b[0;34m)\u001b[0m\u001b[0;34m:\u001b[0m\u001b[0;34m\u001b[0m\u001b[0;34m\u001b[0m\u001b[0m\n",
      "\u001b[0;32m~/anaconda3/envs/teamcoder_ebm/lib/python3.7/site-packages/numpy/core/_methods.py\u001b[0m in \u001b[0;36m_sum\u001b[0;34m(a, axis, dtype, out, keepdims, initial, where)\u001b[0m\n\u001b[1;32m     46\u001b[0m def _sum(a, axis=None, dtype=None, out=None, keepdims=False,\n\u001b[1;32m     47\u001b[0m          initial=_NoValue, where=True):\n\u001b[0;32m---> 48\u001b[0;31m     \u001b[0;32mreturn\u001b[0m \u001b[0mumr_sum\u001b[0m\u001b[0;34m(\u001b[0m\u001b[0ma\u001b[0m\u001b[0;34m,\u001b[0m \u001b[0maxis\u001b[0m\u001b[0;34m,\u001b[0m \u001b[0mdtype\u001b[0m\u001b[0;34m,\u001b[0m \u001b[0mout\u001b[0m\u001b[0;34m,\u001b[0m \u001b[0mkeepdims\u001b[0m\u001b[0;34m,\u001b[0m \u001b[0minitial\u001b[0m\u001b[0;34m,\u001b[0m \u001b[0mwhere\u001b[0m\u001b[0;34m)\u001b[0m\u001b[0;34m\u001b[0m\u001b[0;34m\u001b[0m\u001b[0m\n\u001b[0m\u001b[1;32m     49\u001b[0m \u001b[0;34m\u001b[0m\u001b[0m\n\u001b[1;32m     50\u001b[0m def _prod(a, axis=None, dtype=None, out=None, keepdims=False,\n",
      "\u001b[0;31mTypeError\u001b[0m: can only concatenate str (not \"int\") to str"
     ]
    }
   ],
   "source": [
    "cases_mean = df_raw['cases_no'].mean()"
   ]
  },
  {
   "attachments": {},
   "cell_type": "markdown",
   "metadata": {},
   "source": [
    "You should have received an error here, and the key reason for this can be seen at the bottom fo the printout of the variable `cases_no`. This column is of the data type `object`. This typically denotes a mixture of different data, both numeric and non-numeric. As a result, pandas cannot work out a mean. We will focus on handling missing data in the next section.\n",
    " "
   ]
  },
  {
   "attachments": {},
   "cell_type": "markdown",
   "metadata": {},
   "source": [
    "\n",
    "## 3. Handling missing data\n",
    "In the above printout of `cases_no`, we can see the code \"NaN\" in some of the rows, which is a special numeric value in pandas which means \"Not A Number\". When Pandas reads in the file, it identifies empty values, as well as certain strings (for example `#N/A` or `None`), as missing data and replaces this with the NaN code. However, especially when data has not yet been cleaned, there may be many different ways that a missing value is indicated, such as the string `Null` or a specific numeric code. There are many ways of handling missing data, but the first step in all of them is to identify the missing data and make sure they are labelled as such by pandas. In this section, we will identify all of the missing values and prepare the format of our DataFrame to be ready for analysis.\n",
    "\n",
    "Steps for working with missing data:\n",
    "* Identify missing data\n",
    "* Deal with missing data\n",
    "* Correct data format"
   ]
  },
  {
   "attachments": {},
   "cell_type": "markdown",
   "metadata": {},
   "source": [
    "### 3.1 Identifying missing data\n",
    "Pandas represents missing data with a value of `NaN`. We can check whether a value is missing or not using the `isnull()` or `isna()` function. The opposite function to detect non-missing values is `notnull()` or `notna()`. The output from these functions are boolean (i.e. `True` or `False`.  \n",
    "\n",
    "The following code will check every cell in our DataFrame and tell us how many have missing values. "
   ]
  },
  {
   "cell_type": "code",
   "execution_count": 31,
   "metadata": {},
   "outputs": [
    {
     "data": {
      "text/plain": [
       "country  year   sex    age    cases_no  population  HDI for year   gdp_for_year ($) \n",
       "False    False  False  False  False     False       True          False                 16357\n",
       "                                                    False         False                  7218\n",
       "                              True      False       True          False                  3115\n",
       "                                                    False         False                  1150\n",
       "dtype: int64"
      ]
     },
     "execution_count": 31,
     "metadata": {},
     "output_type": "execute_result"
    }
   ],
   "source": [
    "df_raw.isnull().value_counts() # Indicates with True that there are Nulls and counts the values that are numbers "
   ]
  },
  {
   "attachments": {},
   "cell_type": "markdown",
   "metadata": {},
   "source": [
    "The output shows all of the combinations with missing data. Two columns - `cases_no` and `HDI for year` - have some mimssing values because the `isnull()` test has returned `True`. "
   ]
  },
  {
   "cell_type": "code",
   "execution_count": 32,
   "metadata": {},
   "outputs": [
    {
     "data": {
      "text/html": [
       "<div>\n",
       "<style scoped>\n",
       "    .dataframe tbody tr th:only-of-type {\n",
       "        vertical-align: middle;\n",
       "    }\n",
       "\n",
       "    .dataframe tbody tr th {\n",
       "        vertical-align: top;\n",
       "    }\n",
       "\n",
       "    .dataframe thead th {\n",
       "        text-align: right;\n",
       "    }\n",
       "</style>\n",
       "<table border=\"1\" class=\"dataframe\">\n",
       "  <thead>\n",
       "    <tr style=\"text-align: right;\">\n",
       "      <th></th>\n",
       "      <th>country</th>\n",
       "      <th>year</th>\n",
       "      <th>sex</th>\n",
       "      <th>age</th>\n",
       "      <th>cases_no</th>\n",
       "      <th>population</th>\n",
       "      <th>HDI for year</th>\n",
       "      <th>gdp_for_year ($)</th>\n",
       "    </tr>\n",
       "  </thead>\n",
       "  <tbody>\n",
       "    <tr>\n",
       "      <th>0</th>\n",
       "      <td>False</td>\n",
       "      <td>False</td>\n",
       "      <td>False</td>\n",
       "      <td>False</td>\n",
       "      <td>False</td>\n",
       "      <td>False</td>\n",
       "      <td>True</td>\n",
       "      <td>False</td>\n",
       "    </tr>\n",
       "    <tr>\n",
       "      <th>1</th>\n",
       "      <td>False</td>\n",
       "      <td>False</td>\n",
       "      <td>False</td>\n",
       "      <td>False</td>\n",
       "      <td>False</td>\n",
       "      <td>False</td>\n",
       "      <td>True</td>\n",
       "      <td>False</td>\n",
       "    </tr>\n",
       "    <tr>\n",
       "      <th>2</th>\n",
       "      <td>False</td>\n",
       "      <td>False</td>\n",
       "      <td>False</td>\n",
       "      <td>False</td>\n",
       "      <td>False</td>\n",
       "      <td>False</td>\n",
       "      <td>True</td>\n",
       "      <td>False</td>\n",
       "    </tr>\n",
       "    <tr>\n",
       "      <th>3</th>\n",
       "      <td>False</td>\n",
       "      <td>False</td>\n",
       "      <td>False</td>\n",
       "      <td>False</td>\n",
       "      <td>False</td>\n",
       "      <td>False</td>\n",
       "      <td>True</td>\n",
       "      <td>False</td>\n",
       "    </tr>\n",
       "    <tr>\n",
       "      <th>4</th>\n",
       "      <td>False</td>\n",
       "      <td>False</td>\n",
       "      <td>False</td>\n",
       "      <td>False</td>\n",
       "      <td>False</td>\n",
       "      <td>False</td>\n",
       "      <td>True</td>\n",
       "      <td>False</td>\n",
       "    </tr>\n",
       "    <tr>\n",
       "      <th>5</th>\n",
       "      <td>False</td>\n",
       "      <td>False</td>\n",
       "      <td>False</td>\n",
       "      <td>False</td>\n",
       "      <td>False</td>\n",
       "      <td>False</td>\n",
       "      <td>True</td>\n",
       "      <td>False</td>\n",
       "    </tr>\n",
       "    <tr>\n",
       "      <th>6</th>\n",
       "      <td>False</td>\n",
       "      <td>False</td>\n",
       "      <td>False</td>\n",
       "      <td>False</td>\n",
       "      <td>False</td>\n",
       "      <td>False</td>\n",
       "      <td>True</td>\n",
       "      <td>False</td>\n",
       "    </tr>\n",
       "    <tr>\n",
       "      <th>7</th>\n",
       "      <td>False</td>\n",
       "      <td>False</td>\n",
       "      <td>False</td>\n",
       "      <td>False</td>\n",
       "      <td>False</td>\n",
       "      <td>False</td>\n",
       "      <td>True</td>\n",
       "      <td>False</td>\n",
       "    </tr>\n",
       "    <tr>\n",
       "      <th>8</th>\n",
       "      <td>False</td>\n",
       "      <td>False</td>\n",
       "      <td>False</td>\n",
       "      <td>False</td>\n",
       "      <td>False</td>\n",
       "      <td>False</td>\n",
       "      <td>True</td>\n",
       "      <td>False</td>\n",
       "    </tr>\n",
       "    <tr>\n",
       "      <th>9</th>\n",
       "      <td>False</td>\n",
       "      <td>False</td>\n",
       "      <td>False</td>\n",
       "      <td>False</td>\n",
       "      <td>True</td>\n",
       "      <td>False</td>\n",
       "      <td>True</td>\n",
       "      <td>False</td>\n",
       "    </tr>\n",
       "    <tr>\n",
       "      <th>10</th>\n",
       "      <td>False</td>\n",
       "      <td>False</td>\n",
       "      <td>False</td>\n",
       "      <td>False</td>\n",
       "      <td>True</td>\n",
       "      <td>False</td>\n",
       "      <td>True</td>\n",
       "      <td>False</td>\n",
       "    </tr>\n",
       "    <tr>\n",
       "      <th>11</th>\n",
       "      <td>False</td>\n",
       "      <td>False</td>\n",
       "      <td>False</td>\n",
       "      <td>False</td>\n",
       "      <td>True</td>\n",
       "      <td>False</td>\n",
       "      <td>True</td>\n",
       "      <td>False</td>\n",
       "    </tr>\n",
       "    <tr>\n",
       "      <th>12</th>\n",
       "      <td>False</td>\n",
       "      <td>False</td>\n",
       "      <td>False</td>\n",
       "      <td>False</td>\n",
       "      <td>False</td>\n",
       "      <td>False</td>\n",
       "      <td>True</td>\n",
       "      <td>False</td>\n",
       "    </tr>\n",
       "    <tr>\n",
       "      <th>13</th>\n",
       "      <td>False</td>\n",
       "      <td>False</td>\n",
       "      <td>False</td>\n",
       "      <td>False</td>\n",
       "      <td>False</td>\n",
       "      <td>False</td>\n",
       "      <td>True</td>\n",
       "      <td>False</td>\n",
       "    </tr>\n",
       "    <tr>\n",
       "      <th>14</th>\n",
       "      <td>False</td>\n",
       "      <td>False</td>\n",
       "      <td>False</td>\n",
       "      <td>False</td>\n",
       "      <td>False</td>\n",
       "      <td>False</td>\n",
       "      <td>True</td>\n",
       "      <td>False</td>\n",
       "    </tr>\n",
       "    <tr>\n",
       "      <th>15</th>\n",
       "      <td>False</td>\n",
       "      <td>False</td>\n",
       "      <td>False</td>\n",
       "      <td>False</td>\n",
       "      <td>False</td>\n",
       "      <td>False</td>\n",
       "      <td>True</td>\n",
       "      <td>False</td>\n",
       "    </tr>\n",
       "    <tr>\n",
       "      <th>16</th>\n",
       "      <td>False</td>\n",
       "      <td>False</td>\n",
       "      <td>False</td>\n",
       "      <td>False</td>\n",
       "      <td>False</td>\n",
       "      <td>False</td>\n",
       "      <td>True</td>\n",
       "      <td>False</td>\n",
       "    </tr>\n",
       "    <tr>\n",
       "      <th>17</th>\n",
       "      <td>False</td>\n",
       "      <td>False</td>\n",
       "      <td>False</td>\n",
       "      <td>False</td>\n",
       "      <td>False</td>\n",
       "      <td>False</td>\n",
       "      <td>True</td>\n",
       "      <td>False</td>\n",
       "    </tr>\n",
       "    <tr>\n",
       "      <th>18</th>\n",
       "      <td>False</td>\n",
       "      <td>False</td>\n",
       "      <td>False</td>\n",
       "      <td>False</td>\n",
       "      <td>False</td>\n",
       "      <td>False</td>\n",
       "      <td>True</td>\n",
       "      <td>False</td>\n",
       "    </tr>\n",
       "    <tr>\n",
       "      <th>19</th>\n",
       "      <td>False</td>\n",
       "      <td>False</td>\n",
       "      <td>False</td>\n",
       "      <td>False</td>\n",
       "      <td>False</td>\n",
       "      <td>False</td>\n",
       "      <td>True</td>\n",
       "      <td>False</td>\n",
       "    </tr>\n",
       "  </tbody>\n",
       "</table>\n",
       "</div>"
      ],
      "text/plain": [
       "    country   year    sex    age  cases_no  population  HDI for year  \\\n",
       "0     False  False  False  False     False       False          True   \n",
       "1     False  False  False  False     False       False          True   \n",
       "2     False  False  False  False     False       False          True   \n",
       "3     False  False  False  False     False       False          True   \n",
       "4     False  False  False  False     False       False          True   \n",
       "5     False  False  False  False     False       False          True   \n",
       "6     False  False  False  False     False       False          True   \n",
       "7     False  False  False  False     False       False          True   \n",
       "8     False  False  False  False     False       False          True   \n",
       "9     False  False  False  False      True       False          True   \n",
       "10    False  False  False  False      True       False          True   \n",
       "11    False  False  False  False      True       False          True   \n",
       "12    False  False  False  False     False       False          True   \n",
       "13    False  False  False  False     False       False          True   \n",
       "14    False  False  False  False     False       False          True   \n",
       "15    False  False  False  False     False       False          True   \n",
       "16    False  False  False  False     False       False          True   \n",
       "17    False  False  False  False     False       False          True   \n",
       "18    False  False  False  False     False       False          True   \n",
       "19    False  False  False  False     False       False          True   \n",
       "\n",
       "     gdp_for_year ($)   \n",
       "0                False  \n",
       "1                False  \n",
       "2                False  \n",
       "3                False  \n",
       "4                False  \n",
       "5                False  \n",
       "6                False  \n",
       "7                False  \n",
       "8                False  \n",
       "9                False  \n",
       "10               False  \n",
       "11               False  \n",
       "12               False  \n",
       "13               False  \n",
       "14               False  \n",
       "15               False  \n",
       "16               False  \n",
       "17               False  \n",
       "18               False  \n",
       "19               False  "
      ]
     },
     "execution_count": 32,
     "metadata": {},
     "output_type": "execute_result"
    }
   ],
   "source": [
    "missing_data = df_raw.isnull() # find data that are null and return 'True' if is null and 'False' if it is not\n",
    "missing_data.head(20)"
   ]
  },
  {
   "attachments": {},
   "cell_type": "markdown",
   "metadata": {},
   "source": [
    "What if we wanted to determine the number of missing values in each column? We can use a loop to get the number of missing values found in each column."
   ]
  },
  {
   "cell_type": "code",
   "execution_count": 33,
   "metadata": {},
   "outputs": [
    {
     "name": "stdout",
     "output_type": "stream",
     "text": [
      "country\n",
      "False    27840\n",
      "Name: country, dtype: int64\n",
      "----\n",
      "year\n",
      "False    27840\n",
      "Name: year, dtype: int64\n",
      "----\n",
      "sex\n",
      "False    27840\n",
      "Name: sex, dtype: int64\n",
      "----\n",
      "age\n",
      "False    27840\n",
      "Name: age, dtype: int64\n",
      "----\n",
      "cases_no\n",
      "False    23575\n",
      "True      4265\n",
      "Name: cases_no, dtype: int64\n",
      "----\n",
      "population\n",
      "False    27840\n",
      "Name: population, dtype: int64\n",
      "----\n",
      "HDI for year\n",
      "True     19472\n",
      "False     8368\n",
      "Name: HDI for year, dtype: int64\n",
      "----\n",
      " gdp_for_year ($) \n",
      "False    27840\n",
      "Name:  gdp_for_year ($) , dtype: int64\n",
      "----\n"
     ]
    }
   ],
   "source": [
    "# This loop will go through each column in the data frame\n",
    "for column in missing_data: # Select each column-name in the header and prints it \n",
    "    print(column)\n",
    "    print(missing_data[column].value_counts())\n",
    "    print('----')"
   ]
  },
  {
   "attachments": {},
   "cell_type": "markdown",
   "metadata": {},
   "source": [
    "The length of the dataframe is 27840 and the column `cases_no` has 23575 rows where `isnull()` is False, indicating that there is numeric data, and it has 4265 values of True (27840 - 23575). \n",
    "\n",
    "The HDI column has more observations with missing values - 19472 in total. As we will not use this column for analysis, we can simply remove it."
   ]
  },
  {
   "attachments": {},
   "cell_type": "markdown",
   "metadata": {},
   "source": [
    "#### Identifying non-numeric data in a column\n",
    "Most of the missing values have already been identified and appropriately labelled by pandas, but since this column is not a numeric datatype, there must still be some non-numeric data stored in it. All the values are currently strings, so we can find all rows where the strings represent data that is non-numeric. We will use the method `str.isdigit()`, which will generate a set of Boolean values much like our test above with `isnull()` did. "
   ]
  },
  {
   "cell_type": "code",
   "execution_count": 43,
   "metadata": {},
   "outputs": [
    {
     "data": {
      "text/plain": [
       "False    27820\n",
       "True        20\n",
       "Name: cases_no, dtype: int64"
      ]
     },
     "execution_count": 43,
     "metadata": {},
     "output_type": "execute_result"
    }
   ],
   "source": [
    "non_numeric = ( df_raw['cases_no'].str.isdigit() == False)\n",
    "non_numeric.value_counts()"
   ]
  },
  {
   "attachments": {},
   "cell_type": "markdown",
   "metadata": {},
   "source": [
    " Notice how this method has only found twenty values, far less than we found with the `isnull()` method. That is because `NaN` is considered a numeric value. However, these are the values that are causing all of the problems, and we need to find out what they are and handle them appropriately. \n",
    " \n",
    "We are using a trick in pandas called _boolean indexing_. The following code will only select rows in the column `cases_no` where the variable `non_numeric` is equal to `True`. Thus it will return only twenty rows, the ones that have non-numeric data. Then, we will use the method `unique()` again to remove duplicate values. "
   ]
  },
  {
   "cell_type": "code",
   "execution_count": 45,
   "metadata": {},
   "outputs": [
    {
     "data": {
      "text/plain": [
       "array(['Null', 'Unknown'], dtype=object)"
      ]
     },
     "execution_count": 45,
     "metadata": {},
     "output_type": "execute_result"
    }
   ],
   "source": [
    "df_raw['cases_no'][non_numeric].unique()"
   ]
  },
  {
   "attachments": {},
   "cell_type": "markdown",
   "metadata": {},
   "source": [
    "So these twenty rows have two unique values: `Null` and `Unknown`. These two strings are not automatically identified and labelled as missing by pandas when reading in the file and now we can set these values as missing. We can use the `replace()` function to remove these values."
   ]
  },
  {
   "cell_type": "code",
   "execution_count": 5,
   "metadata": {},
   "outputs": [
    {
     "data": {
      "text/plain": [
       "False    27840\n",
       "Name: cases_no, dtype: int64"
      ]
     },
     "execution_count": 5,
     "metadata": {},
     "output_type": "execute_result"
    }
   ],
   "source": [
    "df_raw['cases_no'] = df_raw['cases_no'].replace('Null',np.nan)\n",
    "df_raw['cases_no'] = df_raw['cases_no'].replace('Unknown',np.nan)\n",
    "non_numeric = ( df_raw['cases_no'].str.isdigit() == False)\n",
    "non_numeric.value_counts()"
   ]
  },
  {
   "attachments": {},
   "cell_type": "markdown",
   "metadata": {},
   "source": [
    "### Exercise 4\n",
    "The output should indicate that `cases_no` no longer has non-numeric data. How can you tell that? Put your answer in the blank markdown cell below."
   ]
  },
  {
   "attachments": {},
   "cell_type": "markdown",
   "metadata": {},
   "source": [
    "#### Answer"
   ]
  },
  {
   "attachments": {},
   "cell_type": "markdown",
   "metadata": {},
   "source": [
    "### Exercise 5\n",
    "What datatype is `cases_no` now? Will the mean work?"
   ]
  },
  {
   "cell_type": "code",
   "execution_count": null,
   "metadata": {},
   "outputs": [],
   "source": [
    "# Put your answer to Exercise 5 here"
   ]
  },
  {
   "attachments": {},
   "cell_type": "markdown",
   "metadata": {},
   "source": [
    "So we still need to have pandas convert this to a numeric type that will allow us to do more analysis with it.  "
   ]
  },
  {
   "cell_type": "code",
   "execution_count": 6,
   "metadata": {},
   "outputs": [
    {
     "name": "stdout",
     "output_type": "stream",
     "text": [
      "float64\n"
     ]
    },
    {
     "data": {
      "text/plain": [
       "0         21.0\n",
       "1         16.0\n",
       "2         14.0\n",
       "3          1.0\n",
       "4          9.0\n",
       "         ...  \n",
       "27835      6.0\n",
       "27836    152.0\n",
       "27837     21.0\n",
       "27838      NaN\n",
       "27839      7.0\n",
       "Name: cases_no, Length: 27840, dtype: float64"
      ]
     },
     "execution_count": 6,
     "metadata": {},
     "output_type": "execute_result"
    }
   ],
   "source": [
    "df_raw['cases_no'] = df_raw['cases_no'].apply(pd.to_numeric)\n",
    "print(df_raw['cases_no'].dtype)\n",
    "df_raw['cases_no']"
   ]
  },
  {
   "attachments": {},
   "cell_type": "markdown",
   "metadata": {},
   "source": [
    "Does the mean now work?"
   ]
  },
  {
   "cell_type": "code",
   "execution_count": 7,
   "metadata": {},
   "outputs": [
    {
     "name": "stdout",
     "output_type": "stream",
     "text": [
      "217.80072171513478\n"
     ]
    }
   ],
   "source": [
    "cases_mean = df_raw['cases_no'].mean()\n",
    "print(cases_mean)"
   ]
  },
  {
   "attachments": {},
   "cell_type": "markdown",
   "metadata": {},
   "source": [
    "### 3.1 Deal with missing data\n",
    "Now that we have identified what data is missing, how should we handle that for our analysis? There are many options, and the right one will be based on the data and what assumptions that can be made on why the data is missing. For some of the more complex options, you should consult with a statistician before implementing.\n",
    "\n",
    "* Drop data\n",
    "  * Drop the whole row\n",
    "  * Drop the whole column\n",
    "* Replace data - often known as imputation\n",
    "  * Replace it with the mean\n",
    "  * Replace it with multiple guesses from the expected distribution (multiple imputation)\n",
    "  * Replace it by the mode\n",
    "  * Replace it based on other functions\n",
    "\n",
    "\n"
   ]
  },
  {
   "attachments": {},
   "cell_type": "markdown",
   "metadata": {},
   "source": [
    "####  Dropping a column with lots of missing data.\n",
    "To remove a column we use the `pandas.DataFrame.drop()` method. The input argument should be the list of column names that you want to drop, and axis argument should be set to one to tell pandas that you are wanting to drop columns, not rows. \n",
    "\n",
    "We don't need the column `HDI for year` for our analysis, and since there are a lot of missing values there, we can just drop it from the data frame. \n",
    "\n",
    "To avoid writing over the original data_frame, we will save the output to a new variable.\n"
   ]
  },
  {
   "cell_type": "code",
   "execution_count": 8,
   "metadata": {},
   "outputs": [
    {
     "data": {
      "text/html": [
       "<div>\n",
       "<style scoped>\n",
       "    .dataframe tbody tr th:only-of-type {\n",
       "        vertical-align: middle;\n",
       "    }\n",
       "\n",
       "    .dataframe tbody tr th {\n",
       "        vertical-align: top;\n",
       "    }\n",
       "\n",
       "    .dataframe thead th {\n",
       "        text-align: right;\n",
       "    }\n",
       "</style>\n",
       "<table border=\"1\" class=\"dataframe\">\n",
       "  <thead>\n",
       "    <tr style=\"text-align: right;\">\n",
       "      <th></th>\n",
       "      <th>country</th>\n",
       "      <th>year</th>\n",
       "      <th>sex</th>\n",
       "      <th>age</th>\n",
       "      <th>cases_no</th>\n",
       "      <th>population</th>\n",
       "      <th>gdp_for_year ($)</th>\n",
       "    </tr>\n",
       "  </thead>\n",
       "  <tbody>\n",
       "    <tr>\n",
       "      <th>0</th>\n",
       "      <td>Albania</td>\n",
       "      <td>1987</td>\n",
       "      <td>male</td>\n",
       "      <td>15-24 years</td>\n",
       "      <td>21.0</td>\n",
       "      <td>312900</td>\n",
       "      <td>2,156,624,900</td>\n",
       "    </tr>\n",
       "    <tr>\n",
       "      <th>1</th>\n",
       "      <td>Albania</td>\n",
       "      <td>1987</td>\n",
       "      <td>male</td>\n",
       "      <td>35-54 years</td>\n",
       "      <td>16.0</td>\n",
       "      <td>308000</td>\n",
       "      <td>2,156,624,900</td>\n",
       "    </tr>\n",
       "    <tr>\n",
       "      <th>2</th>\n",
       "      <td>Albania</td>\n",
       "      <td>1987</td>\n",
       "      <td>female</td>\n",
       "      <td>15-24 years</td>\n",
       "      <td>14.0</td>\n",
       "      <td>289700</td>\n",
       "      <td>2,156,624,900</td>\n",
       "    </tr>\n",
       "    <tr>\n",
       "      <th>3</th>\n",
       "      <td>Albania</td>\n",
       "      <td>1987</td>\n",
       "      <td>male</td>\n",
       "      <td>75+ years</td>\n",
       "      <td>1.0</td>\n",
       "      <td>21800</td>\n",
       "      <td>2,156,624,900</td>\n",
       "    </tr>\n",
       "    <tr>\n",
       "      <th>4</th>\n",
       "      <td>Albania</td>\n",
       "      <td>1987</td>\n",
       "      <td>male</td>\n",
       "      <td>25-34 years</td>\n",
       "      <td>9.0</td>\n",
       "      <td>274300</td>\n",
       "      <td>2,156,624,900</td>\n",
       "    </tr>\n",
       "    <tr>\n",
       "      <th>...</th>\n",
       "      <td>...</td>\n",
       "      <td>...</td>\n",
       "      <td>...</td>\n",
       "      <td>...</td>\n",
       "      <td>...</td>\n",
       "      <td>...</td>\n",
       "      <td>...</td>\n",
       "    </tr>\n",
       "    <tr>\n",
       "      <th>27835</th>\n",
       "      <td>Belgium</td>\n",
       "      <td>2011</td>\n",
       "      <td>female</td>\n",
       "      <td>25-34 years</td>\n",
       "      <td>6.0</td>\n",
       "      <td>707535</td>\n",
       "      <td>527,008,453,887</td>\n",
       "    </tr>\n",
       "    <tr>\n",
       "      <th>27836</th>\n",
       "      <td>Thailand</td>\n",
       "      <td>2016</td>\n",
       "      <td>male</td>\n",
       "      <td>75+ years</td>\n",
       "      <td>152.0</td>\n",
       "      <td>1124052</td>\n",
       "      <td>411,755,164,833</td>\n",
       "    </tr>\n",
       "    <tr>\n",
       "      <th>27837</th>\n",
       "      <td>Netherlands</td>\n",
       "      <td>1998</td>\n",
       "      <td>female</td>\n",
       "      <td>15-24 years</td>\n",
       "      <td>21.0</td>\n",
       "      <td>934500</td>\n",
       "      <td>432,476,116,419</td>\n",
       "    </tr>\n",
       "    <tr>\n",
       "      <th>27838</th>\n",
       "      <td>Grenada</td>\n",
       "      <td>2002</td>\n",
       "      <td>female</td>\n",
       "      <td>5-14 years</td>\n",
       "      <td>NaN</td>\n",
       "      <td>11760</td>\n",
       "      <td>540,336,926</td>\n",
       "    </tr>\n",
       "    <tr>\n",
       "      <th>27839</th>\n",
       "      <td>Mexico</td>\n",
       "      <td>1988</td>\n",
       "      <td>female</td>\n",
       "      <td>75+ years</td>\n",
       "      <td>7.0</td>\n",
       "      <td>614000</td>\n",
       "      <td>183,144,164,357</td>\n",
       "    </tr>\n",
       "  </tbody>\n",
       "</table>\n",
       "<p>27840 rows × 7 columns</p>\n",
       "</div>"
      ],
      "text/plain": [
       "           country  year     sex          age  cases_no  population  \\\n",
       "0          Albania  1987    male  15-24 years      21.0      312900   \n",
       "1          Albania  1987    male  35-54 years      16.0      308000   \n",
       "2          Albania  1987  female  15-24 years      14.0      289700   \n",
       "3          Albania  1987    male    75+ years       1.0       21800   \n",
       "4          Albania  1987    male  25-34 years       9.0      274300   \n",
       "...            ...   ...     ...          ...       ...         ...   \n",
       "27835      Belgium  2011  female  25-34 years       6.0      707535   \n",
       "27836     Thailand  2016    male    75+ years     152.0     1124052   \n",
       "27837  Netherlands  1998  female  15-24 years      21.0      934500   \n",
       "27838      Grenada  2002  female   5-14 years       NaN       11760   \n",
       "27839       Mexico  1988  female    75+ years       7.0      614000   \n",
       "\n",
       "       gdp_for_year ($)   \n",
       "0          2,156,624,900  \n",
       "1          2,156,624,900  \n",
       "2          2,156,624,900  \n",
       "3          2,156,624,900  \n",
       "4          2,156,624,900  \n",
       "...                  ...  \n",
       "27835    527,008,453,887  \n",
       "27836    411,755,164,833  \n",
       "27837    432,476,116,419  \n",
       "27838        540,336,926  \n",
       "27839    183,144,164,357  \n",
       "\n",
       "[27840 rows x 7 columns]"
      ]
     },
     "execution_count": 8,
     "metadata": {},
     "output_type": "execute_result"
    }
   ],
   "source": [
    "df_no_hdi = df_raw.drop(['HDI for year'], axis = 1)                         \n",
    "df_no_hdi"
   ]
  },
  {
   "attachments": {},
   "cell_type": "markdown",
   "metadata": {},
   "source": [
    "Now we turn to the other variable in the data frame that had missing values `cases_no`. Now that all of the missing values are coded properly, we can identify all of the missing data with the `isnull()` function. "
   ]
  },
  {
   "cell_type": "code",
   "execution_count": 9,
   "metadata": {},
   "outputs": [
    {
     "data": {
      "text/plain": [
       "False    23555\n",
       "True      4285\n",
       "Name: cases_no, dtype: int64"
      ]
     },
     "execution_count": 9,
     "metadata": {},
     "output_type": "execute_result"
    }
   ],
   "source": [
    "missing_values = df_no_hdi['cases_no'].isnull()\n",
    "missing_values.value_counts()"
   ]
  },
  {
   "attachments": {},
   "cell_type": "markdown",
   "metadata": {},
   "source": [
    "To do a _complete case analysis_, we can simply use the `dropna()` function. Even though `cases_no` is the only column with missing data, we tell dropna to only consider it when decided which rows to drop. We use `axis=0` to tell it to drop rows not columns. "
   ]
  },
  {
   "cell_type": "code",
   "execution_count": 10,
   "metadata": {},
   "outputs": [
    {
     "name": "stdout",
     "output_type": "stream",
     "text": [
      "<class 'pandas.core.frame.DataFrame'>\n",
      "Int64Index: 23555 entries, 0 to 27839\n",
      "Data columns (total 7 columns):\n",
      " #   Column              Non-Null Count  Dtype  \n",
      "---  ------              --------------  -----  \n",
      " 0   country             23555 non-null  object \n",
      " 1   year                23555 non-null  int64  \n",
      " 2   sex                 23555 non-null  object \n",
      " 3   age                 23555 non-null  object \n",
      " 4   cases_no            23555 non-null  float64\n",
      " 5   population          23555 non-null  int64  \n",
      " 6    gdp_for_year ($)   23555 non-null  object \n",
      "dtypes: float64(1), int64(2), object(4)\n",
      "memory usage: 1.4+ MB\n"
     ]
    }
   ],
   "source": [
    "df_no_missing_cases = df_no_hdi.dropna(axis=0, subset=['cases_no'])\n",
    "df_no_missing_cases.info()"
   ]
  },
  {
   "attachments": {},
   "cell_type": "markdown",
   "metadata": {},
   "source": [
    "Note that the new data frame only contains 23555 entries, which is how many non-missing values there are. Let's take a look at the actual data. "
   ]
  },
  {
   "cell_type": "code",
   "execution_count": 64,
   "metadata": {},
   "outputs": [
    {
     "data": {
      "text/html": [
       "<div>\n",
       "<style scoped>\n",
       "    .dataframe tbody tr th:only-of-type {\n",
       "        vertical-align: middle;\n",
       "    }\n",
       "\n",
       "    .dataframe tbody tr th {\n",
       "        vertical-align: top;\n",
       "    }\n",
       "\n",
       "    .dataframe thead th {\n",
       "        text-align: right;\n",
       "    }\n",
       "</style>\n",
       "<table border=\"1\" class=\"dataframe\">\n",
       "  <thead>\n",
       "    <tr style=\"text-align: right;\">\n",
       "      <th></th>\n",
       "      <th>country</th>\n",
       "      <th>year</th>\n",
       "      <th>sex</th>\n",
       "      <th>age</th>\n",
       "      <th>cases_no</th>\n",
       "      <th>population</th>\n",
       "      <th>gdp_for_year ($)</th>\n",
       "    </tr>\n",
       "  </thead>\n",
       "  <tbody>\n",
       "    <tr>\n",
       "      <th>0</th>\n",
       "      <td>Albania</td>\n",
       "      <td>1987</td>\n",
       "      <td>male</td>\n",
       "      <td>15-24 years</td>\n",
       "      <td>21.0</td>\n",
       "      <td>312900</td>\n",
       "      <td>2,156,624,900</td>\n",
       "    </tr>\n",
       "    <tr>\n",
       "      <th>1</th>\n",
       "      <td>Albania</td>\n",
       "      <td>1987</td>\n",
       "      <td>male</td>\n",
       "      <td>35-54 years</td>\n",
       "      <td>16.0</td>\n",
       "      <td>308000</td>\n",
       "      <td>2,156,624,900</td>\n",
       "    </tr>\n",
       "    <tr>\n",
       "      <th>2</th>\n",
       "      <td>Albania</td>\n",
       "      <td>1987</td>\n",
       "      <td>female</td>\n",
       "      <td>15-24 years</td>\n",
       "      <td>14.0</td>\n",
       "      <td>289700</td>\n",
       "      <td>2,156,624,900</td>\n",
       "    </tr>\n",
       "    <tr>\n",
       "      <th>3</th>\n",
       "      <td>Albania</td>\n",
       "      <td>1987</td>\n",
       "      <td>male</td>\n",
       "      <td>75+ years</td>\n",
       "      <td>1.0</td>\n",
       "      <td>21800</td>\n",
       "      <td>2,156,624,900</td>\n",
       "    </tr>\n",
       "    <tr>\n",
       "      <th>4</th>\n",
       "      <td>Albania</td>\n",
       "      <td>1987</td>\n",
       "      <td>male</td>\n",
       "      <td>25-34 years</td>\n",
       "      <td>9.0</td>\n",
       "      <td>274300</td>\n",
       "      <td>2,156,624,900</td>\n",
       "    </tr>\n",
       "    <tr>\n",
       "      <th>...</th>\n",
       "      <td>...</td>\n",
       "      <td>...</td>\n",
       "      <td>...</td>\n",
       "      <td>...</td>\n",
       "      <td>...</td>\n",
       "      <td>...</td>\n",
       "      <td>...</td>\n",
       "    </tr>\n",
       "    <tr>\n",
       "      <th>27834</th>\n",
       "      <td>Ukraine</td>\n",
       "      <td>2005</td>\n",
       "      <td>female</td>\n",
       "      <td>25-34 years</td>\n",
       "      <td>182.0</td>\n",
       "      <td>3380536</td>\n",
       "      <td>86,142,018,069</td>\n",
       "    </tr>\n",
       "    <tr>\n",
       "      <th>27835</th>\n",
       "      <td>Belgium</td>\n",
       "      <td>2011</td>\n",
       "      <td>female</td>\n",
       "      <td>25-34 years</td>\n",
       "      <td>6.0</td>\n",
       "      <td>707535</td>\n",
       "      <td>527,008,453,887</td>\n",
       "    </tr>\n",
       "    <tr>\n",
       "      <th>27836</th>\n",
       "      <td>Thailand</td>\n",
       "      <td>2016</td>\n",
       "      <td>male</td>\n",
       "      <td>75+ years</td>\n",
       "      <td>152.0</td>\n",
       "      <td>1124052</td>\n",
       "      <td>411,755,164,833</td>\n",
       "    </tr>\n",
       "    <tr>\n",
       "      <th>27837</th>\n",
       "      <td>Netherlands</td>\n",
       "      <td>1998</td>\n",
       "      <td>female</td>\n",
       "      <td>15-24 years</td>\n",
       "      <td>21.0</td>\n",
       "      <td>934500</td>\n",
       "      <td>432,476,116,419</td>\n",
       "    </tr>\n",
       "    <tr>\n",
       "      <th>27839</th>\n",
       "      <td>Mexico</td>\n",
       "      <td>1988</td>\n",
       "      <td>female</td>\n",
       "      <td>75+ years</td>\n",
       "      <td>7.0</td>\n",
       "      <td>614000</td>\n",
       "      <td>183,144,164,357</td>\n",
       "    </tr>\n",
       "  </tbody>\n",
       "</table>\n",
       "<p>23555 rows × 7 columns</p>\n",
       "</div>"
      ],
      "text/plain": [
       "           country  year     sex          age  cases_no  population  \\\n",
       "0          Albania  1987    male  15-24 years      21.0      312900   \n",
       "1          Albania  1987    male  35-54 years      16.0      308000   \n",
       "2          Albania  1987  female  15-24 years      14.0      289700   \n",
       "3          Albania  1987    male    75+ years       1.0       21800   \n",
       "4          Albania  1987    male  25-34 years       9.0      274300   \n",
       "...            ...   ...     ...          ...       ...         ...   \n",
       "27834      Ukraine  2005  female  25-34 years     182.0     3380536   \n",
       "27835      Belgium  2011  female  25-34 years       6.0      707535   \n",
       "27836     Thailand  2016    male    75+ years     152.0     1124052   \n",
       "27837  Netherlands  1998  female  15-24 years      21.0      934500   \n",
       "27839       Mexico  1988  female    75+ years       7.0      614000   \n",
       "\n",
       "       gdp_for_year ($)   \n",
       "0          2,156,624,900  \n",
       "1          2,156,624,900  \n",
       "2          2,156,624,900  \n",
       "3          2,156,624,900  \n",
       "4          2,156,624,900  \n",
       "...                  ...  \n",
       "27834     86,142,018,069  \n",
       "27835    527,008,453,887  \n",
       "27836    411,755,164,833  \n",
       "27837    432,476,116,419  \n",
       "27839    183,144,164,357  \n",
       "\n",
       "[23555 rows x 7 columns]"
      ]
     },
     "execution_count": 64,
     "metadata": {},
     "output_type": "execute_result"
    }
   ],
   "source": [
    "df_no_missing_cases"
   ]
  },
  {
   "attachments": {},
   "cell_type": "markdown",
   "metadata": {},
   "source": [
    "It's a bit odd that we have only 23,555 rows now but some of the rows in the spreadsheet still have their old index (27839). We can fix that by using `reset_index()`"
   ]
  },
  {
   "cell_type": "code",
   "execution_count": 11,
   "metadata": {},
   "outputs": [
    {
     "data": {
      "text/html": [
       "<div>\n",
       "<style scoped>\n",
       "    .dataframe tbody tr th:only-of-type {\n",
       "        vertical-align: middle;\n",
       "    }\n",
       "\n",
       "    .dataframe tbody tr th {\n",
       "        vertical-align: top;\n",
       "    }\n",
       "\n",
       "    .dataframe thead th {\n",
       "        text-align: right;\n",
       "    }\n",
       "</style>\n",
       "<table border=\"1\" class=\"dataframe\">\n",
       "  <thead>\n",
       "    <tr style=\"text-align: right;\">\n",
       "      <th></th>\n",
       "      <th>index</th>\n",
       "      <th>country</th>\n",
       "      <th>year</th>\n",
       "      <th>sex</th>\n",
       "      <th>age</th>\n",
       "      <th>cases_no</th>\n",
       "      <th>population</th>\n",
       "      <th>gdp_for_year ($)</th>\n",
       "    </tr>\n",
       "  </thead>\n",
       "  <tbody>\n",
       "    <tr>\n",
       "      <th>0</th>\n",
       "      <td>0</td>\n",
       "      <td>Albania</td>\n",
       "      <td>1987</td>\n",
       "      <td>male</td>\n",
       "      <td>15-24 years</td>\n",
       "      <td>21.0</td>\n",
       "      <td>312900</td>\n",
       "      <td>2,156,624,900</td>\n",
       "    </tr>\n",
       "    <tr>\n",
       "      <th>1</th>\n",
       "      <td>1</td>\n",
       "      <td>Albania</td>\n",
       "      <td>1987</td>\n",
       "      <td>male</td>\n",
       "      <td>35-54 years</td>\n",
       "      <td>16.0</td>\n",
       "      <td>308000</td>\n",
       "      <td>2,156,624,900</td>\n",
       "    </tr>\n",
       "    <tr>\n",
       "      <th>2</th>\n",
       "      <td>2</td>\n",
       "      <td>Albania</td>\n",
       "      <td>1987</td>\n",
       "      <td>female</td>\n",
       "      <td>15-24 years</td>\n",
       "      <td>14.0</td>\n",
       "      <td>289700</td>\n",
       "      <td>2,156,624,900</td>\n",
       "    </tr>\n",
       "    <tr>\n",
       "      <th>3</th>\n",
       "      <td>3</td>\n",
       "      <td>Albania</td>\n",
       "      <td>1987</td>\n",
       "      <td>male</td>\n",
       "      <td>75+ years</td>\n",
       "      <td>1.0</td>\n",
       "      <td>21800</td>\n",
       "      <td>2,156,624,900</td>\n",
       "    </tr>\n",
       "    <tr>\n",
       "      <th>4</th>\n",
       "      <td>4</td>\n",
       "      <td>Albania</td>\n",
       "      <td>1987</td>\n",
       "      <td>male</td>\n",
       "      <td>25-34 years</td>\n",
       "      <td>9.0</td>\n",
       "      <td>274300</td>\n",
       "      <td>2,156,624,900</td>\n",
       "    </tr>\n",
       "    <tr>\n",
       "      <th>...</th>\n",
       "      <td>...</td>\n",
       "      <td>...</td>\n",
       "      <td>...</td>\n",
       "      <td>...</td>\n",
       "      <td>...</td>\n",
       "      <td>...</td>\n",
       "      <td>...</td>\n",
       "      <td>...</td>\n",
       "    </tr>\n",
       "    <tr>\n",
       "      <th>23550</th>\n",
       "      <td>27834</td>\n",
       "      <td>Ukraine</td>\n",
       "      <td>2005</td>\n",
       "      <td>female</td>\n",
       "      <td>25-34 years</td>\n",
       "      <td>182.0</td>\n",
       "      <td>3380536</td>\n",
       "      <td>86,142,018,069</td>\n",
       "    </tr>\n",
       "    <tr>\n",
       "      <th>23551</th>\n",
       "      <td>27835</td>\n",
       "      <td>Belgium</td>\n",
       "      <td>2011</td>\n",
       "      <td>female</td>\n",
       "      <td>25-34 years</td>\n",
       "      <td>6.0</td>\n",
       "      <td>707535</td>\n",
       "      <td>527,008,453,887</td>\n",
       "    </tr>\n",
       "    <tr>\n",
       "      <th>23552</th>\n",
       "      <td>27836</td>\n",
       "      <td>Thailand</td>\n",
       "      <td>2016</td>\n",
       "      <td>male</td>\n",
       "      <td>75+ years</td>\n",
       "      <td>152.0</td>\n",
       "      <td>1124052</td>\n",
       "      <td>411,755,164,833</td>\n",
       "    </tr>\n",
       "    <tr>\n",
       "      <th>23553</th>\n",
       "      <td>27837</td>\n",
       "      <td>Netherlands</td>\n",
       "      <td>1998</td>\n",
       "      <td>female</td>\n",
       "      <td>15-24 years</td>\n",
       "      <td>21.0</td>\n",
       "      <td>934500</td>\n",
       "      <td>432,476,116,419</td>\n",
       "    </tr>\n",
       "    <tr>\n",
       "      <th>23554</th>\n",
       "      <td>27839</td>\n",
       "      <td>Mexico</td>\n",
       "      <td>1988</td>\n",
       "      <td>female</td>\n",
       "      <td>75+ years</td>\n",
       "      <td>7.0</td>\n",
       "      <td>614000</td>\n",
       "      <td>183,144,164,357</td>\n",
       "    </tr>\n",
       "  </tbody>\n",
       "</table>\n",
       "<p>23555 rows × 8 columns</p>\n",
       "</div>"
      ],
      "text/plain": [
       "       index      country  year     sex          age  cases_no  population  \\\n",
       "0          0      Albania  1987    male  15-24 years      21.0      312900   \n",
       "1          1      Albania  1987    male  35-54 years      16.0      308000   \n",
       "2          2      Albania  1987  female  15-24 years      14.0      289700   \n",
       "3          3      Albania  1987    male    75+ years       1.0       21800   \n",
       "4          4      Albania  1987    male  25-34 years       9.0      274300   \n",
       "...      ...          ...   ...     ...          ...       ...         ...   \n",
       "23550  27834      Ukraine  2005  female  25-34 years     182.0     3380536   \n",
       "23551  27835      Belgium  2011  female  25-34 years       6.0      707535   \n",
       "23552  27836     Thailand  2016    male    75+ years     152.0     1124052   \n",
       "23553  27837  Netherlands  1998  female  15-24 years      21.0      934500   \n",
       "23554  27839       Mexico  1988  female    75+ years       7.0      614000   \n",
       "\n",
       "       gdp_for_year ($)   \n",
       "0          2,156,624,900  \n",
       "1          2,156,624,900  \n",
       "2          2,156,624,900  \n",
       "3          2,156,624,900  \n",
       "4          2,156,624,900  \n",
       "...                  ...  \n",
       "23550     86,142,018,069  \n",
       "23551    527,008,453,887  \n",
       "23552    411,755,164,833  \n",
       "23553    432,476,116,419  \n",
       "23554    183,144,164,357  \n",
       "\n",
       "[23555 rows x 8 columns]"
      ]
     },
     "execution_count": 11,
     "metadata": {},
     "output_type": "execute_result"
    }
   ],
   "source": [
    "df_no_missing_cases = df_no_missing_cases.reset_index()\n",
    "df_no_missing_cases"
   ]
  },
  {
   "attachments": {},
   "cell_type": "markdown",
   "metadata": {},
   "source": [
    "####  Replacing missing values\n",
    "Replacing or inputting missing data can be a complex subject. Here we are only going to show the simplest option of replacing these missing values with a single value. One option is to replace the missing value with a mean.\n",
    "In order to do that we make a copy of the DataFrame and then modify the specific cells identified as missing using the `loc[]` method which only modifies the rows that are missing in the `cases_no` column."
   ]
  },
  {
   "cell_type": "code",
   "execution_count": 12,
   "metadata": {
    "scrolled": true
   },
   "outputs": [
    {
     "data": {
      "text/html": [
       "<div>\n",
       "<style scoped>\n",
       "    .dataframe tbody tr th:only-of-type {\n",
       "        vertical-align: middle;\n",
       "    }\n",
       "\n",
       "    .dataframe tbody tr th {\n",
       "        vertical-align: top;\n",
       "    }\n",
       "\n",
       "    .dataframe thead th {\n",
       "        text-align: right;\n",
       "    }\n",
       "</style>\n",
       "<table border=\"1\" class=\"dataframe\">\n",
       "  <thead>\n",
       "    <tr style=\"text-align: right;\">\n",
       "      <th></th>\n",
       "      <th>country</th>\n",
       "      <th>year</th>\n",
       "      <th>sex</th>\n",
       "      <th>age</th>\n",
       "      <th>cases_no</th>\n",
       "      <th>population</th>\n",
       "      <th>gdp_for_year ($)</th>\n",
       "    </tr>\n",
       "  </thead>\n",
       "  <tbody>\n",
       "    <tr>\n",
       "      <th>0</th>\n",
       "      <td>Albania</td>\n",
       "      <td>1987</td>\n",
       "      <td>male</td>\n",
       "      <td>15-24 years</td>\n",
       "      <td>21.000000</td>\n",
       "      <td>312900</td>\n",
       "      <td>2,156,624,900</td>\n",
       "    </tr>\n",
       "    <tr>\n",
       "      <th>1</th>\n",
       "      <td>Albania</td>\n",
       "      <td>1987</td>\n",
       "      <td>male</td>\n",
       "      <td>35-54 years</td>\n",
       "      <td>16.000000</td>\n",
       "      <td>308000</td>\n",
       "      <td>2,156,624,900</td>\n",
       "    </tr>\n",
       "    <tr>\n",
       "      <th>2</th>\n",
       "      <td>Albania</td>\n",
       "      <td>1987</td>\n",
       "      <td>female</td>\n",
       "      <td>15-24 years</td>\n",
       "      <td>14.000000</td>\n",
       "      <td>289700</td>\n",
       "      <td>2,156,624,900</td>\n",
       "    </tr>\n",
       "    <tr>\n",
       "      <th>3</th>\n",
       "      <td>Albania</td>\n",
       "      <td>1987</td>\n",
       "      <td>male</td>\n",
       "      <td>75+ years</td>\n",
       "      <td>1.000000</td>\n",
       "      <td>21800</td>\n",
       "      <td>2,156,624,900</td>\n",
       "    </tr>\n",
       "    <tr>\n",
       "      <th>4</th>\n",
       "      <td>Albania</td>\n",
       "      <td>1987</td>\n",
       "      <td>male</td>\n",
       "      <td>25-34 years</td>\n",
       "      <td>9.000000</td>\n",
       "      <td>274300</td>\n",
       "      <td>2,156,624,900</td>\n",
       "    </tr>\n",
       "    <tr>\n",
       "      <th>...</th>\n",
       "      <td>...</td>\n",
       "      <td>...</td>\n",
       "      <td>...</td>\n",
       "      <td>...</td>\n",
       "      <td>...</td>\n",
       "      <td>...</td>\n",
       "      <td>...</td>\n",
       "    </tr>\n",
       "    <tr>\n",
       "      <th>27835</th>\n",
       "      <td>Belgium</td>\n",
       "      <td>2011</td>\n",
       "      <td>female</td>\n",
       "      <td>25-34 years</td>\n",
       "      <td>6.000000</td>\n",
       "      <td>707535</td>\n",
       "      <td>527,008,453,887</td>\n",
       "    </tr>\n",
       "    <tr>\n",
       "      <th>27836</th>\n",
       "      <td>Thailand</td>\n",
       "      <td>2016</td>\n",
       "      <td>male</td>\n",
       "      <td>75+ years</td>\n",
       "      <td>152.000000</td>\n",
       "      <td>1124052</td>\n",
       "      <td>411,755,164,833</td>\n",
       "    </tr>\n",
       "    <tr>\n",
       "      <th>27837</th>\n",
       "      <td>Netherlands</td>\n",
       "      <td>1998</td>\n",
       "      <td>female</td>\n",
       "      <td>15-24 years</td>\n",
       "      <td>21.000000</td>\n",
       "      <td>934500</td>\n",
       "      <td>432,476,116,419</td>\n",
       "    </tr>\n",
       "    <tr>\n",
       "      <th>27838</th>\n",
       "      <td>Grenada</td>\n",
       "      <td>2002</td>\n",
       "      <td>female</td>\n",
       "      <td>5-14 years</td>\n",
       "      <td>217.800722</td>\n",
       "      <td>11760</td>\n",
       "      <td>540,336,926</td>\n",
       "    </tr>\n",
       "    <tr>\n",
       "      <th>27839</th>\n",
       "      <td>Mexico</td>\n",
       "      <td>1988</td>\n",
       "      <td>female</td>\n",
       "      <td>75+ years</td>\n",
       "      <td>7.000000</td>\n",
       "      <td>614000</td>\n",
       "      <td>183,144,164,357</td>\n",
       "    </tr>\n",
       "  </tbody>\n",
       "</table>\n",
       "<p>27840 rows × 7 columns</p>\n",
       "</div>"
      ],
      "text/plain": [
       "           country  year     sex          age    cases_no  population  \\\n",
       "0          Albania  1987    male  15-24 years   21.000000      312900   \n",
       "1          Albania  1987    male  35-54 years   16.000000      308000   \n",
       "2          Albania  1987  female  15-24 years   14.000000      289700   \n",
       "3          Albania  1987    male    75+ years    1.000000       21800   \n",
       "4          Albania  1987    male  25-34 years    9.000000      274300   \n",
       "...            ...   ...     ...          ...         ...         ...   \n",
       "27835      Belgium  2011  female  25-34 years    6.000000      707535   \n",
       "27836     Thailand  2016    male    75+ years  152.000000     1124052   \n",
       "27837  Netherlands  1998  female  15-24 years   21.000000      934500   \n",
       "27838      Grenada  2002  female   5-14 years  217.800722       11760   \n",
       "27839       Mexico  1988  female    75+ years    7.000000      614000   \n",
       "\n",
       "       gdp_for_year ($)   \n",
       "0          2,156,624,900  \n",
       "1          2,156,624,900  \n",
       "2          2,156,624,900  \n",
       "3          2,156,624,900  \n",
       "4          2,156,624,900  \n",
       "...                  ...  \n",
       "27835    527,008,453,887  \n",
       "27836    411,755,164,833  \n",
       "27837    432,476,116,419  \n",
       "27838        540,336,926  \n",
       "27839    183,144,164,357  \n",
       "\n",
       "[27840 rows x 7 columns]"
      ]
     },
     "execution_count": 12,
     "metadata": {},
     "output_type": "execute_result"
    }
   ],
   "source": [
    "df_cases_replaced = df_no_hdi.copy()\n",
    "df_cases_replaced.loc[missing_values,'cases_no'] = cases_mean\n",
    "df_cases_replaced"
   ]
  },
  {
   "attachments": {},
   "cell_type": "markdown",
   "metadata": {},
   "source": [
    "You can see that the next to last row has the mean instead of a specific number. "
   ]
  },
  {
   "attachments": {},
   "cell_type": "markdown",
   "metadata": {},
   "source": [
    "Replace \"NaN\" with the integer average value in the \"suicide_no\" column.\n",
    "As written above we will not replace by a mean in this example.\n",
    "I just show the code to use it when appropriate.\n",
    "\n"
   ]
  },
  {
   "attachments": {},
   "cell_type": "markdown",
   "metadata": {},
   "source": [
    "Another option is to replace with the most frequent value, also known as the mode. This can be done with the `mode()` function. As there can be more than one mode, it will return a pandas Series. However, we can see here that there is only one mode, so we will replace using that value. "
   ]
  },
  {
   "cell_type": "code",
   "execution_count": 13,
   "metadata": {
    "scrolled": true
   },
   "outputs": [
    {
     "name": "stdout",
     "output_type": "stream",
     "text": [
      "The mode is 0    1.0\n",
      "dtype: float64\n"
     ]
    },
    {
     "data": {
      "text/html": [
       "<div>\n",
       "<style scoped>\n",
       "    .dataframe tbody tr th:only-of-type {\n",
       "        vertical-align: middle;\n",
       "    }\n",
       "\n",
       "    .dataframe tbody tr th {\n",
       "        vertical-align: top;\n",
       "    }\n",
       "\n",
       "    .dataframe thead th {\n",
       "        text-align: right;\n",
       "    }\n",
       "</style>\n",
       "<table border=\"1\" class=\"dataframe\">\n",
       "  <thead>\n",
       "    <tr style=\"text-align: right;\">\n",
       "      <th></th>\n",
       "      <th>country</th>\n",
       "      <th>year</th>\n",
       "      <th>sex</th>\n",
       "      <th>age</th>\n",
       "      <th>cases_no</th>\n",
       "      <th>population</th>\n",
       "      <th>gdp_for_year ($)</th>\n",
       "    </tr>\n",
       "  </thead>\n",
       "  <tbody>\n",
       "    <tr>\n",
       "      <th>0</th>\n",
       "      <td>Albania</td>\n",
       "      <td>1987</td>\n",
       "      <td>male</td>\n",
       "      <td>15-24 years</td>\n",
       "      <td>21.0</td>\n",
       "      <td>312900</td>\n",
       "      <td>2,156,624,900</td>\n",
       "    </tr>\n",
       "    <tr>\n",
       "      <th>1</th>\n",
       "      <td>Albania</td>\n",
       "      <td>1987</td>\n",
       "      <td>male</td>\n",
       "      <td>35-54 years</td>\n",
       "      <td>16.0</td>\n",
       "      <td>308000</td>\n",
       "      <td>2,156,624,900</td>\n",
       "    </tr>\n",
       "    <tr>\n",
       "      <th>2</th>\n",
       "      <td>Albania</td>\n",
       "      <td>1987</td>\n",
       "      <td>female</td>\n",
       "      <td>15-24 years</td>\n",
       "      <td>14.0</td>\n",
       "      <td>289700</td>\n",
       "      <td>2,156,624,900</td>\n",
       "    </tr>\n",
       "    <tr>\n",
       "      <th>3</th>\n",
       "      <td>Albania</td>\n",
       "      <td>1987</td>\n",
       "      <td>male</td>\n",
       "      <td>75+ years</td>\n",
       "      <td>1.0</td>\n",
       "      <td>21800</td>\n",
       "      <td>2,156,624,900</td>\n",
       "    </tr>\n",
       "    <tr>\n",
       "      <th>4</th>\n",
       "      <td>Albania</td>\n",
       "      <td>1987</td>\n",
       "      <td>male</td>\n",
       "      <td>25-34 years</td>\n",
       "      <td>9.0</td>\n",
       "      <td>274300</td>\n",
       "      <td>2,156,624,900</td>\n",
       "    </tr>\n",
       "    <tr>\n",
       "      <th>...</th>\n",
       "      <td>...</td>\n",
       "      <td>...</td>\n",
       "      <td>...</td>\n",
       "      <td>...</td>\n",
       "      <td>...</td>\n",
       "      <td>...</td>\n",
       "      <td>...</td>\n",
       "    </tr>\n",
       "    <tr>\n",
       "      <th>27835</th>\n",
       "      <td>Belgium</td>\n",
       "      <td>2011</td>\n",
       "      <td>female</td>\n",
       "      <td>25-34 years</td>\n",
       "      <td>6.0</td>\n",
       "      <td>707535</td>\n",
       "      <td>527,008,453,887</td>\n",
       "    </tr>\n",
       "    <tr>\n",
       "      <th>27836</th>\n",
       "      <td>Thailand</td>\n",
       "      <td>2016</td>\n",
       "      <td>male</td>\n",
       "      <td>75+ years</td>\n",
       "      <td>152.0</td>\n",
       "      <td>1124052</td>\n",
       "      <td>411,755,164,833</td>\n",
       "    </tr>\n",
       "    <tr>\n",
       "      <th>27837</th>\n",
       "      <td>Netherlands</td>\n",
       "      <td>1998</td>\n",
       "      <td>female</td>\n",
       "      <td>15-24 years</td>\n",
       "      <td>21.0</td>\n",
       "      <td>934500</td>\n",
       "      <td>432,476,116,419</td>\n",
       "    </tr>\n",
       "    <tr>\n",
       "      <th>27838</th>\n",
       "      <td>Grenada</td>\n",
       "      <td>2002</td>\n",
       "      <td>female</td>\n",
       "      <td>5-14 years</td>\n",
       "      <td>1.0</td>\n",
       "      <td>11760</td>\n",
       "      <td>540,336,926</td>\n",
       "    </tr>\n",
       "    <tr>\n",
       "      <th>27839</th>\n",
       "      <td>Mexico</td>\n",
       "      <td>1988</td>\n",
       "      <td>female</td>\n",
       "      <td>75+ years</td>\n",
       "      <td>7.0</td>\n",
       "      <td>614000</td>\n",
       "      <td>183,144,164,357</td>\n",
       "    </tr>\n",
       "  </tbody>\n",
       "</table>\n",
       "<p>27840 rows × 7 columns</p>\n",
       "</div>"
      ],
      "text/plain": [
       "           country  year     sex          age  cases_no  population  \\\n",
       "0          Albania  1987    male  15-24 years      21.0      312900   \n",
       "1          Albania  1987    male  35-54 years      16.0      308000   \n",
       "2          Albania  1987  female  15-24 years      14.0      289700   \n",
       "3          Albania  1987    male    75+ years       1.0       21800   \n",
       "4          Albania  1987    male  25-34 years       9.0      274300   \n",
       "...            ...   ...     ...          ...       ...         ...   \n",
       "27835      Belgium  2011  female  25-34 years       6.0      707535   \n",
       "27836     Thailand  2016    male    75+ years     152.0     1124052   \n",
       "27837  Netherlands  1998  female  15-24 years      21.0      934500   \n",
       "27838      Grenada  2002  female   5-14 years       1.0       11760   \n",
       "27839       Mexico  1988  female    75+ years       7.0      614000   \n",
       "\n",
       "       gdp_for_year ($)   \n",
       "0          2,156,624,900  \n",
       "1          2,156,624,900  \n",
       "2          2,156,624,900  \n",
       "3          2,156,624,900  \n",
       "4          2,156,624,900  \n",
       "...                  ...  \n",
       "27835    527,008,453,887  \n",
       "27836    411,755,164,833  \n",
       "27837    432,476,116,419  \n",
       "27838        540,336,926  \n",
       "27839    183,144,164,357  \n",
       "\n",
       "[27840 rows x 7 columns]"
      ]
     },
     "execution_count": 13,
     "metadata": {},
     "output_type": "execute_result"
    }
   ],
   "source": [
    "cases_mode = df_no_hdi['cases_no'].mode()\n",
    "print(f\"The mode is {cases_mode}\")\n",
    "df_cases_replaced.loc[missing_values,'cases_no'] = cases_mode.iloc[0]\n",
    "df_cases_replaced"
   ]
  },
  {
   "attachments": {},
   "cell_type": "markdown",
   "metadata": {},
   "source": [
    "Now instead of the mean (217.8), the missing value is the penultimate row is replaced with teh mode (1.0)"
   ]
  },
  {
   "attachments": {},
   "cell_type": "markdown",
   "metadata": {},
   "source": [
    "## 4. Checking the data representation\n",
    "\n",
    "We have previously corrected the issues with the `cases_no` column. Now let's take a look what issues are still remaining by using the `info()` function."
   ]
  },
  {
   "cell_type": "code",
   "execution_count": 14,
   "metadata": {},
   "outputs": [
    {
     "name": "stdout",
     "output_type": "stream",
     "text": [
      "<class 'pandas.core.frame.DataFrame'>\n",
      "RangeIndex: 27840 entries, 0 to 27839\n",
      "Data columns (total 7 columns):\n",
      " #   Column              Non-Null Count  Dtype  \n",
      "---  ------              --------------  -----  \n",
      " 0   country             27840 non-null  object \n",
      " 1   year                27840 non-null  int64  \n",
      " 2   sex                 27840 non-null  object \n",
      " 3   age                 27840 non-null  object \n",
      " 4   cases_no            27840 non-null  float64\n",
      " 5   population          27840 non-null  int64  \n",
      " 6    gdp_for_year ($)   27840 non-null  object \n",
      "dtypes: float64(1), int64(2), object(4)\n",
      "memory usage: 1.5+ MB\n"
     ]
    }
   ],
   "source": [
    "df_cases_replaced.info()"
   ]
  },
  {
   "attachments": {},
   "cell_type": "markdown",
   "metadata": {},
   "source": [
    "We would expect age and gdp to be numeric, but they are not. Let's check the reason why by looking at whether they are numeric or not.\n"
   ]
  },
  {
   "cell_type": "code",
   "execution_count": 17,
   "metadata": {},
   "outputs": [
    {
     "name": "stdout",
     "output_type": "stream",
     "text": [
      "['15-24 years' '35-54 years' '75+ years' '25-34 years' '55-74 years'\n",
      " '5-14 years']\n"
     ]
    }
   ],
   "source": [
    "print(df_cases_replaced['age'].unique())"
   ]
  },
  {
   "attachments": {},
   "cell_type": "markdown",
   "metadata": {},
   "source": [
    "So age does not represent a numeric value in years, but rather it ia a _categorical_ variable representing age bands. We will convert this column to a categorical value. But if you see above, the values are not quite as sorted as we would like the category to be (look at where the 5-14 year old group is). So we need to tell pandas what order we want these age bands in."
   ]
  },
  {
   "cell_type": "code",
   "execution_count": 26,
   "metadata": {},
   "outputs": [
    {
     "data": {
      "text/plain": [
       "0        15-24 years\n",
       "1        35-54 years\n",
       "2        15-24 years\n",
       "3          75+ years\n",
       "4        25-34 years\n",
       "            ...     \n",
       "27835    25-34 years\n",
       "27836      75+ years\n",
       "27837    15-24 years\n",
       "27838     5-14 years\n",
       "27839      75+ years\n",
       "Name: age, Length: 27840, dtype: category\n",
       "Categories (6, object): ['5-14 years', '15-24 years', '25-34 years', '35-54 years', '55-74 years', '75+ years']"
      ]
     },
     "execution_count": 26,
     "metadata": {},
     "output_type": "execute_result"
    }
   ],
   "source": [
    "age_bands_sorted = [\n",
    "    '5-14 years','15-24 years','25-34 years', \n",
    "    '35-54 years','55-74 years','75+ years'  \n",
    "    ]\n",
    "df_cases_replaced['age'] = pd.Categorical(df_cases_replaced['age'], \n",
    "                                          categories=age_bands_sorted)\n",
    "df_cases_replaced['age']"
   ]
  },
  {
   "attachments": {},
   "cell_type": "markdown",
   "metadata": {},
   "source": [
    "See how this variable now has a dtype of `category` and the categories are sorted so that the levels go up with age?\n",
    "\n",
    "Now what is going on with the column representing gdp? First we look at how many values do not have numeric data."
   ]
  },
  {
   "cell_type": "code",
   "execution_count": 20,
   "metadata": {},
   "outputs": [
    {
     "data": {
      "text/plain": [
       "True    27840\n",
       "Name:  gdp_for_year ($) , dtype: int64"
      ]
     },
     "execution_count": 20,
     "metadata": {},
     "output_type": "execute_result"
    }
   ],
   "source": [
    "gdp_is_numeric = (df_cases_replaced[' gdp_for_year ($) '].str.isdigit()==False)\n",
    "gdp_is_numeric.value_counts()\n"
   ]
  },
  {
   "attachments": {},
   "cell_type": "markdown",
   "metadata": {},
   "source": [
    "All of these are not numeric. Let's look at head again to see what is up here?"
   ]
  },
  {
   "cell_type": "code",
   "execution_count": 22,
   "metadata": {},
   "outputs": [
    {
     "data": {
      "text/plain": [
       "0    2,156,624,900\n",
       "1    2,156,624,900\n",
       "2    2,156,624,900\n",
       "3    2,156,624,900\n",
       "4    2,156,624,900\n",
       "Name:  gdp_for_year ($) , dtype: object"
      ]
     },
     "execution_count": 22,
     "metadata": {},
     "output_type": "execute_result"
    }
   ],
   "source": [
    "df_cases_replaced[' gdp_for_year ($) '].head()"
   ]
  },
  {
   "attachments": {},
   "cell_type": "markdown",
   "metadata": {},
   "source": [
    "It is likely that the commas are causing trouble here. If we had spotted this before we read in the file, we could add the argument `thousands=','` to our `read_csv` call. \n",
    "\n",
    "Before we fix this though the leading and trailing spaces in the column are annoying, so let's get rid of those first. "
   ]
  },
  {
   "cell_type": "code",
   "execution_count": 23,
   "metadata": {},
   "outputs": [
    {
     "data": {
      "text/plain": [
       "Index(['country', 'year', 'sex', 'age', 'cases_no', 'population',\n",
       "       'gdp_for_year_usd'],\n",
       "      dtype='object')"
      ]
     },
     "execution_count": 23,
     "metadata": {},
     "output_type": "execute_result"
    }
   ],
   "source": [
    "df_cases_replaced = df_cases_replaced.rename(columns={' gdp_for_year ($) ':'gdp_for_year_usd'})\n",
    "df_cases_replaced.columns"
   ]
  },
  {
   "attachments": {},
   "cell_type": "markdown",
   "metadata": {},
   "source": [
    "Fixing the columns requires we do a string operation to the values."
   ]
  },
  {
   "cell_type": "code",
   "execution_count": 24,
   "metadata": {},
   "outputs": [
    {
     "data": {
      "text/plain": [
       "0          2156624900\n",
       "1          2156624900\n",
       "2          2156624900\n",
       "3          2156624900\n",
       "4          2156624900\n",
       "             ...     \n",
       "27835    527008453887\n",
       "27836    411755164833\n",
       "27837    432476116419\n",
       "27838       540336926\n",
       "27839    183144164357\n",
       "Name: gdp_for_year_usd, Length: 27840, dtype: int64"
      ]
     },
     "execution_count": 24,
     "metadata": {},
     "output_type": "execute_result"
    }
   ],
   "source": [
    "# First replace the string comma ',' empty space''. Then typecasting the column to integers\n",
    "df_cases_replaced['gdp_for_year_usd'] = df_cases_replaced['gdp_for_year_usd'].str.replace(',', '').astype(int)\n",
    "df_cases_replaced['gdp_for_year_usd']"
   ]
  },
  {
   "attachments": {},
   "cell_type": "markdown",
   "metadata": {
    "scrolled": true
   },
   "source": [
    "Notice the dtype at the bottom of the printout which should now say `int64` instead of `object`."
   ]
  },
  {
   "attachments": {},
   "cell_type": "markdown",
   "metadata": {},
   "source": [
    "### **Wonderful!**\n",
    "#### Save the data\n",
    "\n",
    "Now we have finally obtained the cleaned dataset with no missing values with all data in its proper format.\n",
    "We can save this data set as it is now the 'clean' data set which is ready for processing. \n"
   ]
  },
  {
   "cell_type": "code",
   "execution_count": null,
   "metadata": {},
   "outputs": [],
   "source": [
    "df_cases_replaced.to_csv(r'who_suicide_statistics_clean_data.csv', index=False)"
   ]
  },
  {
   "attachments": {},
   "cell_type": "markdown",
   "metadata": {},
   "source": [
    "# **Data Operations**\n",
    "Data operations can be performed through various built-in methods for faster data processing and analysis. A few methods are:\n",
    "- Operations using Grouping\n",
    "- Operations with Sorting\n",
    "- Operations with Statistics \n",
    "- Operations with Functions (Standarisation and Normalisation)\n",
    "\n",
    "\n"
   ]
  },
  {
   "attachments": {},
   "cell_type": "markdown",
   "metadata": {},
   "source": [
    "##  Grouping\n",
    " Use  **.groupby('..')** Its a function of grouping the data. It involes a combination of **spliting** the object applying a function and **combine** the results **.groupby('column name, value')**"
   ]
  },
  {
   "attachments": {},
   "cell_type": "markdown",
   "metadata": {},
   "source": [
    "To select the data of a single country from the 101, I'll  group the data frame by 'country' and from that I will select the country of preference by using **.get_group('selection').\n",
    "Lets select the data for the United Kingdom."
   ]
  },
  {
   "cell_type": "code",
   "execution_count": null,
   "metadata": {},
   "outputs": [],
   "source": [
    "country_grouped= data_frame.groupby(['country'])\n",
    "UK_data=country_grouped.get_group('United Kingdom')\n",
    "UK_data"
   ]
  },
  {
   "attachments": {},
   "cell_type": "markdown",
   "metadata": {},
   "source": [
    "We make another data frame by selecting the columns that we want to analyse "
   ]
  },
  {
   "cell_type": "code",
   "execution_count": 287,
   "metadata": {},
   "outputs": [
    {
     "data": {
      "text/html": [
       "<div>\n",
       "<style scoped>\n",
       "    .dataframe tbody tr th:only-of-type {\n",
       "        vertical-align: middle;\n",
       "    }\n",
       "\n",
       "    .dataframe tbody tr th {\n",
       "        vertical-align: top;\n",
       "    }\n",
       "\n",
       "    .dataframe thead th {\n",
       "        text-align: right;\n",
       "    }\n",
       "</style>\n",
       "<table border=\"1\" class=\"dataframe\">\n",
       "  <thead>\n",
       "    <tr style=\"text-align: right;\">\n",
       "      <th></th>\n",
       "      <th>country</th>\n",
       "      <th>year</th>\n",
       "      <th>suicides_no</th>\n",
       "    </tr>\n",
       "  </thead>\n",
       "  <tbody>\n",
       "    <tr>\n",
       "      <th>26476</th>\n",
       "      <td>United Kingdom</td>\n",
       "      <td>1985</td>\n",
       "      <td>264</td>\n",
       "    </tr>\n",
       "    <tr>\n",
       "      <th>26477</th>\n",
       "      <td>United Kingdom</td>\n",
       "      <td>1985</td>\n",
       "      <td>915</td>\n",
       "    </tr>\n",
       "    <tr>\n",
       "      <th>26478</th>\n",
       "      <td>United Kingdom</td>\n",
       "      <td>1985</td>\n",
       "      <td>128</td>\n",
       "    </tr>\n",
       "    <tr>\n",
       "      <th>26479</th>\n",
       "      <td>United Kingdom</td>\n",
       "      <td>1985</td>\n",
       "      <td>62</td>\n",
       "    </tr>\n",
       "    <tr>\n",
       "      <th>26480</th>\n",
       "      <td>United Kingdom</td>\n",
       "      <td>1985</td>\n",
       "      <td>678</td>\n",
       "    </tr>\n",
       "    <tr>\n",
       "      <th>...</th>\n",
       "      <td>...</td>\n",
       "      <td>...</td>\n",
       "      <td>...</td>\n",
       "    </tr>\n",
       "    <tr>\n",
       "      <th>26843</th>\n",
       "      <td>United Kingdom</td>\n",
       "      <td>2015</td>\n",
       "      <td>181</td>\n",
       "    </tr>\n",
       "    <tr>\n",
       "      <th>26844</th>\n",
       "      <td>United Kingdom</td>\n",
       "      <td>2015</td>\n",
       "      <td>18</td>\n",
       "    </tr>\n",
       "    <tr>\n",
       "      <th>26845</th>\n",
       "      <td>United Kingdom</td>\n",
       "      <td>2015</td>\n",
       "      <td>14</td>\n",
       "    </tr>\n",
       "    <tr>\n",
       "      <th>26846</th>\n",
       "      <td>United Kingdom</td>\n",
       "      <td>2015</td>\n",
       "      <td>6</td>\n",
       "    </tr>\n",
       "    <tr>\n",
       "      <th>26847</th>\n",
       "      <td>United Kingdom</td>\n",
       "      <td>2015</td>\n",
       "      <td>4</td>\n",
       "    </tr>\n",
       "  </tbody>\n",
       "</table>\n",
       "<p>369 rows × 3 columns</p>\n",
       "</div>"
      ],
      "text/plain": [
       "              country  year  suicides_no\n",
       "26476  United Kingdom  1985          264\n",
       "26477  United Kingdom  1985          915\n",
       "26478  United Kingdom  1985          128\n",
       "26479  United Kingdom  1985           62\n",
       "26480  United Kingdom  1985          678\n",
       "...               ...   ...          ...\n",
       "26843  United Kingdom  2015          181\n",
       "26844  United Kingdom  2015           18\n",
       "26845  United Kingdom  2015           14\n",
       "26846  United Kingdom  2015            6\n",
       "26847  United Kingdom  2015            4\n",
       "\n",
       "[369 rows x 3 columns]"
      ]
     },
     "execution_count": 287,
     "metadata": {},
     "output_type": "execute_result"
    }
   ],
   "source": [
    "UK_data_year_suicides= UK_data[['country','year', 'suicides_no']] # UK_data = country_grouped.get_group('United Kingdom'). If you want you could add another column as well\n",
    "UK_data_year_suicides"
   ]
  },
  {
   "attachments": {},
   "cell_type": "markdown",
   "metadata": {},
   "source": [
    "To find the total suicides of each year, group two columns together and use the  method **.sum()**\n"
   ]
  },
  {
   "cell_type": "code",
   "execution_count": null,
   "metadata": {},
   "outputs": [],
   "source": [
    "UK_suicides_per_year =UK_data_year_suicides.groupby(['country','year'],as_index=False).sum()\n",
    "UK_suicides_per_year.head(10)"
   ]
  },
  {
   "attachments": {},
   "cell_type": "markdown",
   "metadata": {},
   "source": [
    "## Sorting values \n",
    "To sort values either according to their size or alphabetical order we use  the method **.sort_values**"
   ]
  },
  {
   "cell_type": "code",
   "execution_count": null,
   "metadata": {},
   "outputs": [],
   "source": [
    "UK_suicides_per_year_sorted=UK_suicides_per_year.sort_values('suicides_no') # The default is ascending order\n",
    "UK_suicides_per_year_sorted"
   ]
  },
  {
   "attachments": {},
   "cell_type": "markdown",
   "metadata": {},
   "source": [
    "## Operations with Statistics \n",
    "The methods **.max()**, **.min()**,**.mean()**,**.std()** used to find the maximum, minimum, mean and standard deviation at data. The **.describe** function shows all the statistics."
   ]
  },
  {
   "cell_type": "code",
   "execution_count": null,
   "metadata": {},
   "outputs": [],
   "source": [
    "UK_suicides_per_year['suicides_no'].max() # Select from the data frame, the column that we are interested and apply the .max() method"
   ]
  },
  {
   "cell_type": "code",
   "execution_count": null,
   "metadata": {},
   "outputs": [],
   "source": [
    "# Use the print() function to print the numbers that you calculate with the .max(), .min(). mean() .std() and all the statistical methods\n",
    "print('The maximum number of cases in the UK is', UK_suicides_per_year['suicides_no'].max())\n",
    "print('The minimum number of cases in the UK is',UK_data_year_suicides['suicides_no'].min())\n",
    "print('The standard deviation of cases in the UK is', UK_suicides_per_year['suicides_no'].std())"
   ]
  },
  {
   "attachments": {},
   "cell_type": "markdown",
   "metadata": {},
   "source": [
    "## Investigate another country's data and create another sub-data \n",
    "\n",
    "Let's repeat what we have calculated and presented for the UK for another country. You could choose any country from the list of the initial data frame. I'm choosing Greece here and I repeat the code above:"
   ]
  },
  {
   "cell_type": "code",
   "execution_count": null,
   "metadata": {},
   "outputs": [],
   "source": [
    "## Investigate another data set \n",
    "country_grouped= data_frame.groupby(['country'])\n",
    "Greece_data=country_grouped.get_group('Greece')\n",
    "Greece_data"
   ]
  },
  {
   "cell_type": "code",
   "execution_count": null,
   "metadata": {},
   "outputs": [],
   "source": [
    "Greece_data_year_suicides= Greece_data[['country','year', 'suicides_no']] # country_grouped.get_group('Greece').\n",
    "Greece_data_year_suicides"
   ]
  },
  {
   "cell_type": "code",
   "execution_count": null,
   "metadata": {},
   "outputs": [],
   "source": [
    "Greece_suicides_per_year =Greece_data_year_suicides.groupby(['country','year'],as_index=False).sum()\n",
    "Greece_suicides_per_year.head(10)"
   ]
  },
  {
   "cell_type": "code",
   "execution_count": null,
   "metadata": {},
   "outputs": [],
   "source": [
    "Greece_suicides_per_year_sorted=Greece_suicides_per_year.sort_values('suicides_no') # The default is ascending order\n",
    "Greece_suicides_per_year_sorted"
   ]
  },
  {
   "cell_type": "code",
   "execution_count": null,
   "metadata": {},
   "outputs": [],
   "source": [
    "print('The maximum number of cases in Greece is', Greece_suicides_per_year['suicides_no'].max())\n",
    "print('The minimum number of cases in Greece is',Greece_data_year_suicides['suicides_no'].min())\n",
    "print('The standard deviation of cases in Greece',Greece_suicides_per_year['suicides_no'].std())\n",
    "\n"
   ]
  },
  {
   "attachments": {},
   "cell_type": "markdown",
   "metadata": {},
   "source": [
    "## Combine / Merge the data sets \n",
    "\n",
    "Another useful operation is to combine together data sets. Pandas is a powerful library and gives a multifaced approach to combining separate datasets. \n",
    "With pandas, you can **merge** , **join** and **concatenate** your datasets, allowing you to unify them , understand and interpret them. "
   ]
  },
  {
   "attachments": {},
   "cell_type": "markdown",
   "metadata": {},
   "source": [
    "![merge](./fig/fig_merge.jpg)\n"
   ]
  },
  {
   "attachments": {},
   "cell_type": "markdown",
   "metadata": {},
   "source": [
    "If you use the **merge() function** , the default is an inner join, which in most of the cases result in a DataFrames which are shorter. With merge(), you also have control over which column(s) to join on. Let’s say that you want to merge both entire datasets, but only on 'year'  since the combination of the two will yield a unique value for each row. To do so, you can use the on parameter:"
   ]
  },
  {
   "cell_type": "code",
   "execution_count": null,
   "metadata": {},
   "outputs": [],
   "source": [
    "UK_suicides_per_year.shape"
   ]
  },
  {
   "cell_type": "code",
   "execution_count": null,
   "metadata": {},
   "outputs": [],
   "source": [
    "Greece_suicides_per_year.shape"
   ]
  },
  {
   "cell_type": "code",
   "execution_count": null,
   "metadata": {},
   "outputs": [],
   "source": [
    "UK_Greece_merged=pd.merge(UK_suicides_per_year, Greece_suicides_per_year,on='year') # Merges the two datasets (one next to the other) and keep common column the 'year' column\n",
    "UK_Greece_merged"
   ]
  },
  {
   "attachments": {},
   "cell_type": "markdown",
   "metadata": {},
   "source": [
    "Depending on the datasets you can join on 'left' or on the 'right but in this example it doesn't mean anything: The indication is with the **how** parameter like below: "
   ]
  },
  {
   "cell_type": "code",
   "execution_count": null,
   "metadata": {},
   "outputs": [],
   "source": [
    "df1_merge=pd.merge(UK_suicides_per_year, Greece_suicides_per_year,how='right', on='year')\n",
    "df1_merge "
   ]
  },
  {
   "attachments": {},
   "cell_type": "markdown",
   "metadata": {},
   "source": [
    "## Use the .join() method : Combine Data on a Column or index\n",
    "The merge () is a module function (which means that you write the DataFrames as arguments). The .join() is method.  This enables you to specify only one DataFrame, which will join the DataFrame you call .join() on. \n",
    "\n",
    "Here I'll create on data frame (Two_countries_combined) which I'll assign it  the Greek results and then I'll join to it the UK DataFrame."
   ]
  },
  {
   "cell_type": "code",
   "execution_count": null,
   "metadata": {},
   "outputs": [],
   "source": [
    "one_country= Greece_suicides_per_year"
   ]
  },
  {
   "cell_type": "code",
   "execution_count": null,
   "metadata": {},
   "outputs": [],
   "source": [
    "\n",
    "\n",
    "two_countries_combined=one_country.join(UK_suicides_per_year.set_index([\"year\"]), on=[\"year\"], how= \"inner\", lsuffix=\"_x\", rsuffix=\"_y\") # It is important to set the index at th common column. The lsuffix sets the first data Frame on the left\n",
    "two_countries_combined"
   ]
  },
  {
   "cell_type": "code",
   "execution_count": null,
   "metadata": {},
   "outputs": [],
   "source": [
    "two_countries_combined2=one_country.join(UK_suicides_per_year.set_index([\"year\"]), on=[\"year\"], lsuffix=\"_left\") # In this datasets if you dont use how \"inner\" it doesnt matter \n",
    "two_countries_combined2"
   ]
  },
  {
   "attachments": {},
   "cell_type": "markdown",
   "metadata": {},
   "source": [
    "## Use the concat() method : Combine data Across Rows or Columns \n",
    "Concatenation is a bit different from the merging techniques with merge() function and .join() method where you would specify the merging (inner or outer), and depending on the type of merge you might lose rows and information. \n",
    "\n",
    "With the concatenation the  datasets are stitched together along wither the row axis or the column axis.\n",
    "\n",
    "If you us the following code that concatenates the dataframes (df1 and df2)  with no parameters the default results will look like the picture:\n",
    "\n",
    "**df_concatenated = pandas.concat([df1, df2])**\n",
    "\n"
   ]
  },
  {
   "attachments": {},
   "cell_type": "markdown",
   "metadata": {},
   "source": [
    "![concatenate1](./fig/fig1_concat.jpg)"
   ]
  },
  {
   "attachments": {},
   "cell_type": "markdown",
   "metadata": {},
   "source": [
    "This example assumes that your column names are the same.  If your column names are different while concatenating along rows (axis 0), then by default the columns will also be added, and NaN values will be filled in as applicable."
   ]
  },
  {
   "attachments": {},
   "cell_type": "markdown",
   "metadata": {},
   "source": [
    "![concatenate2](./fig/fig2_concat.jpg)"
   ]
  },
  {
   "attachments": {},
   "cell_type": "markdown",
   "metadata": {},
   "source": [
    "If you want to accomplish concatenation along columns instead, you’ll use a concat() call like you did above, but you’ll also need to pass the axis parameter with a value of 1 or \"columns\":\n",
    "\n",
    "**df_concatenated = pandas.concat([df1, df2], axis='columns\")**  or **df_concatenated = pandas.concat([df1, df2], axis=1)**\n",
    "\n"
   ]
  },
  {
   "attachments": {},
   "cell_type": "markdown",
   "metadata": {},
   "source": [
    "![concatenate3](./fig/fig3_concat.jpg)"
   ]
  },
  {
   "attachments": {},
   "cell_type": "markdown",
   "metadata": {},
   "source": [
    "Lets concatenate our datasets and view them "
   ]
  },
  {
   "cell_type": "code",
   "execution_count": null,
   "metadata": {},
   "outputs": [],
   "source": [
    "df1_concatenated=pd.concat([UK_suicides_per_year, Greece_suicides_per_year])\n",
    "df1_concatenated"
   ]
  },
  {
   "attachments": {},
   "cell_type": "markdown",
   "metadata": {},
   "source": [
    "This results to the datasets being one underneath the other. They are concatenated by default on the \"row axis\" or axis=0. If you look carefully the indexes are different for each data sets (start from 0-30 for the first dataframe and from 0-30 for the second one)"
   ]
  },
  {
   "cell_type": "code",
   "execution_count": null,
   "metadata": {},
   "outputs": [],
   "source": [
    "df2_concatenated=pd.concat([UK_suicides_per_year, Greece_suicides_per_year], axis =1)\n",
    "df2_concatenated"
   ]
  },
  {
   "attachments": {},
   "cell_type": "markdown",
   "metadata": {},
   "source": [
    "You see the data frame 1 next to the other.\n",
    "\n",
    "By default, a concatenation results in a **set union**, where all data is preserved. You’ve seen this with merge() and .join() as an outer join, and you can specify this with the join parameter.\n",
    "\n"
   ]
  },
  {
   "attachments": {},
   "cell_type": "markdown",
   "metadata": {},
   "source": [
    "## **Visualise the data**\n",
    "\n",
    "Where you are investicating your data of prepare to publish your findings, visualisation is an essential tool. There are various libraries that you can use in Python to visualise your data most popular are Matplotlib, and Seaborn. Here we use the Matplotlib library "
   ]
  },
  {
   "cell_type": "code",
   "execution_count": null,
   "metadata": {},
   "outputs": [],
   "source": [
    "%matplotlib inline  "
   ]
  },
  {
   "attachments": {},
   "cell_type": "markdown",
   "metadata": {},
   "source": [
    "  **%matplotlib** is a magic function, if you use it just it displays the figure as a pup up. Using with inline, the figure is inside the noteboook "
   ]
  },
  {
   "cell_type": "code",
   "execution_count": null,
   "metadata": {},
   "outputs": [],
   "source": [
    "df1_merged=pd.merge(UK_suicides_per_year, Greece_suicides_per_year,how='right', on='year') #\n",
    "df1_merged \n",
    "\n"
   ]
  },
  {
   "attachments": {},
   "cell_type": "markdown",
   "metadata": {},
   "source": [
    "We can change the column names to be more specific or use the .join() method instead which have arguments lsuffix and rsuffix to specify it. \n",
    "Lets change the header as we have seen before at paragraph 1. \n"
   ]
  },
  {
   "cell_type": "code",
   "execution_count": null,
   "metadata": {},
   "outputs": [],
   "source": [
    "headers=['UK','year','suicides_no_UK','Greece','suicides_no_Greece']\n",
    "df1_merged.columns=headers\n",
    "df1_merged.head()"
   ]
  },
  {
   "attachments": {},
   "cell_type": "markdown",
   "metadata": {},
   "source": [
    "Now we are ready to plot. Firts import the pyplot module of the matplotlib library as plt.\n",
    "then use the .plot() function at our dataframe. The arguments start with x column and y column/s"
   ]
  },
  {
   "cell_type": "code",
   "execution_count": null,
   "metadata": {},
   "outputs": [],
   "source": [
    "\n",
    "import matplotlib.pyplot as plt\n",
    "df1_merged.plot(x='year', y=['suicides_no_UK','suicides_no_Greece'])\n",
    "\n"
   ]
  },
  {
   "attachments": {},
   "cell_type": "markdown",
   "metadata": {},
   "source": [
    "The default plot is line plot. There are different other kinds of plots and we need to specify them in the arguments these are : bar, area, barh=horizontal bars, hist= histogramms, box, pie= piecharts, line, scatter. "
   ]
  },
  {
   "cell_type": "code",
   "execution_count": null,
   "metadata": {},
   "outputs": [],
   "source": [
    "df1_merged.plot(kind= 'bar', x='year', y=['suicides_no_UK','suicides_no_Greece'])"
   ]
  },
  {
   "attachments": {},
   "cell_type": "markdown",
   "metadata": {},
   "source": [
    "## Operations with Functions Statistical Functions\n",
    "### Example Statistical Functions of **Normalization** and **Standarization** \n",
    "Data is usually collected from different sources in different formats.\n",
    "Normalization and standardization are the processes of transforming data into a common format, allowing the researcher to make the meaningful comparison.\n",
    "\n",
    "**Normalization** is the process of transforming values of several variables into a similar range. Typical normalizations include scaling the variable from 0 to 1, scaling the variable so the variance is \n",
    "\n"
   ]
  },
  {
   "attachments": {},
   "cell_type": "markdown",
   "metadata": {},
   "source": [
    "### **Example**\n",
    "\n",
    "To demonstrate normalization, let's say we want to scale the columns , \"suicides_no_UK\" and \"suicides_no_Greece\" at df1_merged data frame.\n",
    "We would like to normalize those variables so their value ranges from 0 to 1\n",
    "We replace original value by (original value)/(maximum value)"
   ]
  },
  {
   "attachments": {},
   "cell_type": "markdown",
   "metadata": {},
   "source": [
    "**Step 1)** Create a function of normalization "
   ]
  },
  {
   "cell_type": "code",
   "execution_count": null,
   "metadata": {},
   "outputs": [],
   "source": [
    "def normalize(number):\n",
    "    return (number)/number.max()"
   ]
  },
  {
   "attachments": {},
   "cell_type": "markdown",
   "metadata": {},
   "source": [
    "**Step 2)** Apply the function to the selected column "
   ]
  },
  {
   "cell_type": "code",
   "execution_count": null,
   "metadata": {},
   "outputs": [],
   "source": [
    "suicides_UK_normalised=normalize(df1_merged['suicides_no_UK'])\n",
    "suicides_UK_normalised"
   ]
  },
  {
   "cell_type": "code",
   "execution_count": null,
   "metadata": {},
   "outputs": [],
   "source": [
    "suicides_Greece_normalised=normalize(df1_merged['suicides_no_Greece'])\n",
    "suicides_Greece_normalised"
   ]
  },
  {
   "attachments": {},
   "cell_type": "markdown",
   "metadata": {},
   "source": [
    "### **Data Standardization**\n",
    "Data standardization is also a term for a particular type of data normalization where we subtract the mean and divide by the standard deviation. The data is transformed into a common format with  the mean to be 0 and the variable changes from negative  to positive around the mean. "
   ]
  },
  {
   "cell_type": "code",
   "execution_count": null,
   "metadata": {},
   "outputs": [],
   "source": [
    "def standarize_test(number):\n",
    "    return (number-number.mean())/number.std()"
   ]
  },
  {
   "cell_type": "code",
   "execution_count": null,
   "metadata": {},
   "outputs": [],
   "source": [
    "standarize_test(UK_suicides_per_year['suicides_no'])"
   ]
  },
  {
   "attachments": {},
   "cell_type": "markdown",
   "metadata": {},
   "source": [
    "## Visualise and compare\n",
    " I want to make a comparison between the normalised values fo both countries and I use again the merged data."
   ]
  },
  {
   "attachments": {},
   "cell_type": "markdown",
   "metadata": {},
   "source": [
    "We can add the two columns of normalised to the df1_merged dataset and create another datasets which includes the statistics. Or we can create a new data set.\n",
    "\n",
    "Lets go with the first option:"
   ]
  },
  {
   "cell_type": "code",
   "execution_count": null,
   "metadata": {},
   "outputs": [],
   "source": [
    "df1_merged['UK_suicides_normalised']= suicides_UK_normalised # Add a new column at the merged dataframe and add the series of normalisation data as we calculated above\n",
    "df1_merged['Greece_suicides_normalised']= suicides_Greece_normalised\n",
    "df1_merged.head()"
   ]
  },
  {
   "attachments": {},
   "cell_type": "markdown",
   "metadata": {},
   "source": [
    "We can now plot the normalisation data and get insightful information comparing the two countries."
   ]
  },
  {
   "cell_type": "code",
   "execution_count": null,
   "metadata": {},
   "outputs": [],
   "source": [
    "df1_merged.plot(kind= 'bar', x='year', y=['UK_suicides_normalised','Greece_suicides_normalised'])# we can add in the dataframe the plot()function"
   ]
  },
  {
   "attachments": {},
   "cell_type": "markdown",
   "metadata": {},
   "source": [
    "You see that in general the % of the cases in the UK was higher until 2011. After 2011 the % cases in Greece were higher and it is due to the economic crisis starting fro 2010 and have the greatest impact to the society after 2011. \n",
    "With these kind of comparative plots you can visualise and give insightful information about political and socio-economic of different countries in the 101 one presented in this data. \n"
   ]
  },
  {
   "attachments": {},
   "cell_type": "markdown",
   "metadata": {},
   "source": [
    "## Grouping plots\n",
    "You can group similar plots in a single figure using subplots. The matplotlib.pyplot.figure() which is shortened to plt.figure() creates a space into which we will place all our plots. The parameter figsize tells Python how big to take this space. Each subplot is placed into the figure using its add_subplot method. The add_subplot method takes 3 parameters. The first denotes how many total rows of subplots there are, the second parameter refers to the total number of subplot columns, and the final parameter denotes which subplot your variable is referencing (left-to-right, top-to-bottom). Each subplot is stored in a different variable (axes1, axes2, axes3). Once a subplot is created, the axes can be titled using the ax1.set_title() or set_xlabel() command (or set_ylabel()). Here are our four plots side by side:"
   ]
  },
  {
   "cell_type": "code",
   "execution_count": null,
   "metadata": {},
   "outputs": [],
   "source": [
    "fig=plt.figure(figsize=(12.0, 8.0))\n",
    "\n",
    "\n",
    "ax1= fig.add_subplot(2,2,1)\n",
    "#Here we plot bar using the plt.bar() function and it is set at the ax1 which is axes1 subplot variable\n",
    "plt.title('UK suicides') \n",
    "plt.bar(UK_data['year'],\n",
    "        UK_data['suicides_no'],\n",
    "        color='blue')\n",
    "\n",
    "\n",
    "ax2= fig.add_subplot(2,2,2)\n",
    "ax2.set_title('GDP in billions USD')\n",
    "ax2.plot(UK_data['year'],UK_data['gdp_for_year_usd']/10**9, color='purple' )\n",
    "\n",
    "\n",
    "ax3= fig.add_subplot(2,2,3)\n",
    "\n",
    "plt.title('Greece suicides')\n",
    "plt.bar(Greece_data['year'],\n",
    "        Greece_data['suicides_no'],\n",
    "        color='orange')\n",
    "\n",
    "\n",
    "ax4= fig.add_subplot(2,2,4)\n",
    "ax4.set_title('GDP in billions USD')\n",
    "ax4.plot(Greece_data['year'],Greece_data['gdp_for_year_usd']/10**9, color='green' )\n"
   ]
  },
  {
   "attachments": {},
   "cell_type": "markdown",
   "metadata": {},
   "source": [
    "I want to plot the GDP per capita over the years for both countries\n",
    "I need to calculate it by dividing the two columns and add the result as an extra column."
   ]
  },
  {
   "attachments": {},
   "cell_type": "markdown",
   "metadata": {},
   "source": []
  },
  {
   "attachments": {},
   "cell_type": "markdown",
   "metadata": {},
   "source": [
    "Lets plot the sum of the suicides over the years for all countries (101)over the years.  \n",
    "\n",
    "We could write it in one line: From the dataframe, group by the countries column, summarise and sort the values of suicides and plot the suicides_no"
   ]
  },
  {
   "cell_type": "code",
   "execution_count": null,
   "metadata": {},
   "outputs": [],
   "source": [
    "\n",
    "\n",
    "plt.figure(figsize=(16,8))\n",
    "data_frame.groupby('country').sum().sort_values(by='suicides_no',ascending=False)[['suicides_no']][:101].plot(kind='bar',figsize=(16,8),title='Sum of suicides by country during 1985-2016')\n",
    "plt.ylabel(\"Sum of suicides\")\n",
    "plt.xlabel(\"Country\")"
   ]
  },
  {
   "cell_type": "code",
   "execution_count": null,
   "metadata": {},
   "outputs": [],
   "source": [
    "# Here it plots the top 20 countries in suicides \n",
    "plt.figure(figsize=(14,6))\n",
    "data_frame.groupby('country').sum().sort_values(by='suicides_no',ascending=False)[['suicides_no']][:20].plot(kind='bar',figsize=(16,8),color='purple', title='Sum of suicides of the top 20 countries during 30 years 1985-2016')\n",
    "plt.ylabel(\"Sum of suicides\")\n"
   ]
  },
  {
   "attachments": {},
   "cell_type": "markdown",
   "metadata": {},
   "source": [
    "\n",
    "\n",
    "## Exercise \n",
    "Calculate the GDP/capita of the countries and visualise the cases according to GDP/capita.\n",
    "\n"
   ]
  },
  {
   "attachments": {},
   "cell_type": "markdown",
   "metadata": {},
   "source": [
    "# Convert to GDP/capita"
   ]
  },
  {
   "attachments": {},
   "cell_type": "markdown",
   "metadata": {},
   "source": [
    "### Thank you for completing this lab!\n",
    "\n",
    "## Author\n",
    "##  Mary Tziraki\n",
    "\n",
    "\n",
    "                                                                                     \n",
    "\n",
    "## <h3 align=\"center\"> © Health+Bioscience IDEAS 2022. All rights reserved. <h3/>\n"
   ]
  },
  {
   "attachments": {},
   "cell_type": "markdown",
   "metadata": {},
   "source": []
  }
 ],
 "metadata": {
  "anaconda-cloud": {},
  "celltoolbar": "Slideshow",
  "kernelspec": {
   "display_name": "Python 3",
   "language": "python",
   "name": "python3"
  },
  "language_info": {
   "codemirror_mode": {
    "name": "ipython",
    "version": 3
   },
   "file_extension": ".py",
   "mimetype": "text/x-python",
   "name": "python",
   "nbconvert_exporter": "python",
   "pygments_lexer": "ipython3",
   "version": "3.7.12"
  },
  "vscode": {
   "interpreter": {
    "hash": "a0d4121080b5f33a2f2ddb6a1f46c0838d0d44af1b5f7e501e0b1477e85aebe3"
   }
  }
 },
 "nbformat": 4,
 "nbformat_minor": 4
}
